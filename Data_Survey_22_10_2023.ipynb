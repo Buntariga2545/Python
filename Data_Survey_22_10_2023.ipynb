{
  "cells": [
    {
      "cell_type": "markdown",
      "metadata": {
        "id": "view-in-github",
        "colab_type": "text"
      },
      "source": [
        "<a href=\"https://colab.research.google.com/github/Buntariga2545/Python/blob/main/Data_Survey_22_10_2023.ipynb\" target=\"_parent\"><img src=\"https://colab.research.google.com/assets/colab-badge.svg\" alt=\"Open In Colab\"/></a>"
      ]
    },
    {
      "cell_type": "code",
      "execution_count": 46,
      "metadata": {
        "id": "M-TIpGfXVf5F"
      },
      "outputs": [],
      "source": [
        "import pandas as pd\n",
        "import numpy as np\n",
        "import matplotlib.pyplot as plt\n",
        "import seaborn as sns"
      ]
    },
    {
      "cell_type": "code",
      "source": [
        "!wget -q https://github.com/Phonbopit/sarabun-webfont/raw/master/fonts/thsarabunnew-webfont.ttf\n",
        "import matplotlib as mpl\n",
        "mpl.font_manager.fontManager.addfont('thsarabunnew-webfont.ttf')\n",
        "mpl.rc('font', family='TH Sarabun New')"
      ],
      "metadata": {
        "id": "JSmy8RQ2EvKr"
      },
      "execution_count": 47,
      "outputs": []
    },
    {
      "cell_type": "code",
      "execution_count": null,
      "metadata": {
        "colab": {
          "base_uri": "https://localhost:8080/"
        },
        "id": "GtFaKb2-Vz31",
        "outputId": "db22a085-0277-4e80-b777-49b49bee8a54"
      },
      "outputs": [
        {
          "output_type": "stream",
          "name": "stdout",
          "text": [
            "Drive already mounted at /content/drive; to attempt to forcibly remount, call drive.mount(\"/content/drive\", force_remount=True).\n"
          ]
        }
      ],
      "source": [
        "from google.colab import drive\n",
        "drive.mount('/content/drive')"
      ]
    },
    {
      "cell_type": "code",
      "source": [
        "data = pd.read_excel('/content/drive/My Drive/Paper/Data-Survey-13-7-2023.xlsx', skiprows = 1)\n",
        "data"
      ],
      "metadata": {
        "id": "cjMv_XeCCX-c",
        "colab": {
          "base_uri": "https://localhost:8080/",
          "height": 652
        },
        "outputId": "5f772858-8fef-4794-f21a-e60b82cea8dd"
      },
      "execution_count": 48,
      "outputs": [
        {
          "output_type": "execute_result",
          "data": {
            "text/plain": [
              "     Unnamed: 0           Unnamed: 1 Unnamed: 2  Unnamed: 3  Unnamed: 4  \\\n",
              "0             1  2022-12-28 00:00:00        ชาย          27        49.0   \n",
              "1             2  2022-12-28 00:00:00        ชาย          36        71.0   \n",
              "2             3  2022-12-28 00:00:00       หญิง          25        89.0   \n",
              "3             4  2022-12-28 00:00:00        ชาย          29        75.0   \n",
              "4             5  2022-12-28 00:00:00        ชาย          28       118.0   \n",
              "..          ...                  ...        ...         ...         ...   \n",
              "188         189           13/05/2023        ชาย          37        88.0   \n",
              "189         190           13/05/2023       หญิง          23        47.0   \n",
              "190         191           13/05/2023        ชาย          27        47.0   \n",
              "191         192           13/05/2023        ชาย          57        68.0   \n",
              "192         193           13/05/2023       หญิง          64        47.0   \n",
              "\n",
              "     Unnamed: 5  Unnamed: 6            Unnamed: 7 Unnamed: 8  Temp  ...  \\\n",
              "0         169.0   17.156262  ภายนอก/ มีหลังคาคลุม   10:55 AM  30.5  ...   \n",
              "1         175.0   23.183673  ภายนอก/ มีหลังคาคลุม   10:55 AM  30.5  ...   \n",
              "2         153.0   38.019565  ภายนอก/ มีหลังคาคลุม   10:55 AM  30.5  ...   \n",
              "3         165.0   27.548209  ภายนอก/ มีหลังคาคลุม   10:55 AM  30.5  ...   \n",
              "4         187.0   33.744173  ภายนอก/ มีหลังคาคลุม   10:55 AM  30.5  ...   \n",
              "..          ...         ...                   ...        ...   ...  ...   \n",
              "188       180.0   27.160494           ภายใต้อาคาร      16.26  35.6  ...   \n",
              "189       159.0   18.591037           ภายใต้อาคาร      16.26  35.6  ...   \n",
              "190       169.0   16.456006           ภายใต้อาคาร      16.26  35.6  ...   \n",
              "191       171.0   23.255019           ภายใต้อาคาร      16.26  35.6  ...   \n",
              "192       149.0   21.170218           ภายใต้อาคาร      16.26  35.6  ...   \n",
              "\n",
              "     อุณหภูมิ  ความชื้น  กระแสลม  ความแรงของแสงแดด  เหงื่อบริเวณผิวหนัง  \\\n",
              "0           2         1        2                 3                    2   \n",
              "1           3         0        5                 3                    1   \n",
              "2           2         0        4                 1                    1   \n",
              "3           3         3        4                 4                    2   \n",
              "4           2         1        4                 3                    0   \n",
              "..        ...       ...      ...               ...                  ...   \n",
              "188         3         2        4                 3                    2   \n",
              "189         3         1        4                 3                    4   \n",
              "190         4         4        4                 5                    3   \n",
              "191         3         1        5                 0                    3   \n",
              "192         3         1        2                 4                    5   \n",
              "\n",
              "     ความร้อน  ความชื้น.1  กระแสลม.1 แสงแดด  เหงื่อบริเวณผิวหนัง.1  \n",
              "0           0          -1          0     -1                      0  \n",
              "1           0           0          1     -1                      0  \n",
              "2           0           0          0      0                      0  \n",
              "3          -1           0          0     -1                      1  \n",
              "4          -1          -1          0     -1                      0  \n",
              "..        ...         ...        ...    ...                    ...  \n",
              "188        -1           1          0     -1                     -1  \n",
              "189        -1           1          1     -1                     -1  \n",
              "190        -1          -1          1     -1                     -1  \n",
              "191        -1           1          1     -1                     -1  \n",
              "192        -1           0          0     -1                      0  \n",
              "\n",
              "[193 rows x 37 columns]"
            ],
            "text/html": [
              "\n",
              "  <div id=\"df-7f5f95f3-a8c6-4801-bba2-1c02cccb76dd\" class=\"colab-df-container\">\n",
              "    <div>\n",
              "<style scoped>\n",
              "    .dataframe tbody tr th:only-of-type {\n",
              "        vertical-align: middle;\n",
              "    }\n",
              "\n",
              "    .dataframe tbody tr th {\n",
              "        vertical-align: top;\n",
              "    }\n",
              "\n",
              "    .dataframe thead th {\n",
              "        text-align: right;\n",
              "    }\n",
              "</style>\n",
              "<table border=\"1\" class=\"dataframe\">\n",
              "  <thead>\n",
              "    <tr style=\"text-align: right;\">\n",
              "      <th></th>\n",
              "      <th>Unnamed: 0</th>\n",
              "      <th>Unnamed: 1</th>\n",
              "      <th>Unnamed: 2</th>\n",
              "      <th>Unnamed: 3</th>\n",
              "      <th>Unnamed: 4</th>\n",
              "      <th>Unnamed: 5</th>\n",
              "      <th>Unnamed: 6</th>\n",
              "      <th>Unnamed: 7</th>\n",
              "      <th>Unnamed: 8</th>\n",
              "      <th>Temp</th>\n",
              "      <th>...</th>\n",
              "      <th>อุณหภูมิ</th>\n",
              "      <th>ความชื้น</th>\n",
              "      <th>กระแสลม</th>\n",
              "      <th>ความแรงของแสงแดด</th>\n",
              "      <th>เหงื่อบริเวณผิวหนัง</th>\n",
              "      <th>ความร้อน</th>\n",
              "      <th>ความชื้น.1</th>\n",
              "      <th>กระแสลม.1</th>\n",
              "      <th>แสงแดด</th>\n",
              "      <th>เหงื่อบริเวณผิวหนัง.1</th>\n",
              "    </tr>\n",
              "  </thead>\n",
              "  <tbody>\n",
              "    <tr>\n",
              "      <th>0</th>\n",
              "      <td>1</td>\n",
              "      <td>2022-12-28 00:00:00</td>\n",
              "      <td>ชาย</td>\n",
              "      <td>27</td>\n",
              "      <td>49.0</td>\n",
              "      <td>169.0</td>\n",
              "      <td>17.156262</td>\n",
              "      <td>ภายนอก/ มีหลังคาคลุม</td>\n",
              "      <td>10:55 AM</td>\n",
              "      <td>30.5</td>\n",
              "      <td>...</td>\n",
              "      <td>2</td>\n",
              "      <td>1</td>\n",
              "      <td>2</td>\n",
              "      <td>3</td>\n",
              "      <td>2</td>\n",
              "      <td>0</td>\n",
              "      <td>-1</td>\n",
              "      <td>0</td>\n",
              "      <td>-1</td>\n",
              "      <td>0</td>\n",
              "    </tr>\n",
              "    <tr>\n",
              "      <th>1</th>\n",
              "      <td>2</td>\n",
              "      <td>2022-12-28 00:00:00</td>\n",
              "      <td>ชาย</td>\n",
              "      <td>36</td>\n",
              "      <td>71.0</td>\n",
              "      <td>175.0</td>\n",
              "      <td>23.183673</td>\n",
              "      <td>ภายนอก/ มีหลังคาคลุม</td>\n",
              "      <td>10:55 AM</td>\n",
              "      <td>30.5</td>\n",
              "      <td>...</td>\n",
              "      <td>3</td>\n",
              "      <td>0</td>\n",
              "      <td>5</td>\n",
              "      <td>3</td>\n",
              "      <td>1</td>\n",
              "      <td>0</td>\n",
              "      <td>0</td>\n",
              "      <td>1</td>\n",
              "      <td>-1</td>\n",
              "      <td>0</td>\n",
              "    </tr>\n",
              "    <tr>\n",
              "      <th>2</th>\n",
              "      <td>3</td>\n",
              "      <td>2022-12-28 00:00:00</td>\n",
              "      <td>หญิง</td>\n",
              "      <td>25</td>\n",
              "      <td>89.0</td>\n",
              "      <td>153.0</td>\n",
              "      <td>38.019565</td>\n",
              "      <td>ภายนอก/ มีหลังคาคลุม</td>\n",
              "      <td>10:55 AM</td>\n",
              "      <td>30.5</td>\n",
              "      <td>...</td>\n",
              "      <td>2</td>\n",
              "      <td>0</td>\n",
              "      <td>4</td>\n",
              "      <td>1</td>\n",
              "      <td>1</td>\n",
              "      <td>0</td>\n",
              "      <td>0</td>\n",
              "      <td>0</td>\n",
              "      <td>0</td>\n",
              "      <td>0</td>\n",
              "    </tr>\n",
              "    <tr>\n",
              "      <th>3</th>\n",
              "      <td>4</td>\n",
              "      <td>2022-12-28 00:00:00</td>\n",
              "      <td>ชาย</td>\n",
              "      <td>29</td>\n",
              "      <td>75.0</td>\n",
              "      <td>165.0</td>\n",
              "      <td>27.548209</td>\n",
              "      <td>ภายนอก/ มีหลังคาคลุม</td>\n",
              "      <td>10:55 AM</td>\n",
              "      <td>30.5</td>\n",
              "      <td>...</td>\n",
              "      <td>3</td>\n",
              "      <td>3</td>\n",
              "      <td>4</td>\n",
              "      <td>4</td>\n",
              "      <td>2</td>\n",
              "      <td>-1</td>\n",
              "      <td>0</td>\n",
              "      <td>0</td>\n",
              "      <td>-1</td>\n",
              "      <td>1</td>\n",
              "    </tr>\n",
              "    <tr>\n",
              "      <th>4</th>\n",
              "      <td>5</td>\n",
              "      <td>2022-12-28 00:00:00</td>\n",
              "      <td>ชาย</td>\n",
              "      <td>28</td>\n",
              "      <td>118.0</td>\n",
              "      <td>187.0</td>\n",
              "      <td>33.744173</td>\n",
              "      <td>ภายนอก/ มีหลังคาคลุม</td>\n",
              "      <td>10:55 AM</td>\n",
              "      <td>30.5</td>\n",
              "      <td>...</td>\n",
              "      <td>2</td>\n",
              "      <td>1</td>\n",
              "      <td>4</td>\n",
              "      <td>3</td>\n",
              "      <td>0</td>\n",
              "      <td>-1</td>\n",
              "      <td>-1</td>\n",
              "      <td>0</td>\n",
              "      <td>-1</td>\n",
              "      <td>0</td>\n",
              "    </tr>\n",
              "    <tr>\n",
              "      <th>...</th>\n",
              "      <td>...</td>\n",
              "      <td>...</td>\n",
              "      <td>...</td>\n",
              "      <td>...</td>\n",
              "      <td>...</td>\n",
              "      <td>...</td>\n",
              "      <td>...</td>\n",
              "      <td>...</td>\n",
              "      <td>...</td>\n",
              "      <td>...</td>\n",
              "      <td>...</td>\n",
              "      <td>...</td>\n",
              "      <td>...</td>\n",
              "      <td>...</td>\n",
              "      <td>...</td>\n",
              "      <td>...</td>\n",
              "      <td>...</td>\n",
              "      <td>...</td>\n",
              "      <td>...</td>\n",
              "      <td>...</td>\n",
              "      <td>...</td>\n",
              "    </tr>\n",
              "    <tr>\n",
              "      <th>188</th>\n",
              "      <td>189</td>\n",
              "      <td>13/05/2023</td>\n",
              "      <td>ชาย</td>\n",
              "      <td>37</td>\n",
              "      <td>88.0</td>\n",
              "      <td>180.0</td>\n",
              "      <td>27.160494</td>\n",
              "      <td>ภายใต้อาคาร</td>\n",
              "      <td>16.26</td>\n",
              "      <td>35.6</td>\n",
              "      <td>...</td>\n",
              "      <td>3</td>\n",
              "      <td>2</td>\n",
              "      <td>4</td>\n",
              "      <td>3</td>\n",
              "      <td>2</td>\n",
              "      <td>-1</td>\n",
              "      <td>1</td>\n",
              "      <td>0</td>\n",
              "      <td>-1</td>\n",
              "      <td>-1</td>\n",
              "    </tr>\n",
              "    <tr>\n",
              "      <th>189</th>\n",
              "      <td>190</td>\n",
              "      <td>13/05/2023</td>\n",
              "      <td>หญิง</td>\n",
              "      <td>23</td>\n",
              "      <td>47.0</td>\n",
              "      <td>159.0</td>\n",
              "      <td>18.591037</td>\n",
              "      <td>ภายใต้อาคาร</td>\n",
              "      <td>16.26</td>\n",
              "      <td>35.6</td>\n",
              "      <td>...</td>\n",
              "      <td>3</td>\n",
              "      <td>1</td>\n",
              "      <td>4</td>\n",
              "      <td>3</td>\n",
              "      <td>4</td>\n",
              "      <td>-1</td>\n",
              "      <td>1</td>\n",
              "      <td>1</td>\n",
              "      <td>-1</td>\n",
              "      <td>-1</td>\n",
              "    </tr>\n",
              "    <tr>\n",
              "      <th>190</th>\n",
              "      <td>191</td>\n",
              "      <td>13/05/2023</td>\n",
              "      <td>ชาย</td>\n",
              "      <td>27</td>\n",
              "      <td>47.0</td>\n",
              "      <td>169.0</td>\n",
              "      <td>16.456006</td>\n",
              "      <td>ภายใต้อาคาร</td>\n",
              "      <td>16.26</td>\n",
              "      <td>35.6</td>\n",
              "      <td>...</td>\n",
              "      <td>4</td>\n",
              "      <td>4</td>\n",
              "      <td>4</td>\n",
              "      <td>5</td>\n",
              "      <td>3</td>\n",
              "      <td>-1</td>\n",
              "      <td>-1</td>\n",
              "      <td>1</td>\n",
              "      <td>-1</td>\n",
              "      <td>-1</td>\n",
              "    </tr>\n",
              "    <tr>\n",
              "      <th>191</th>\n",
              "      <td>192</td>\n",
              "      <td>13/05/2023</td>\n",
              "      <td>ชาย</td>\n",
              "      <td>57</td>\n",
              "      <td>68.0</td>\n",
              "      <td>171.0</td>\n",
              "      <td>23.255019</td>\n",
              "      <td>ภายใต้อาคาร</td>\n",
              "      <td>16.26</td>\n",
              "      <td>35.6</td>\n",
              "      <td>...</td>\n",
              "      <td>3</td>\n",
              "      <td>1</td>\n",
              "      <td>5</td>\n",
              "      <td>0</td>\n",
              "      <td>3</td>\n",
              "      <td>-1</td>\n",
              "      <td>1</td>\n",
              "      <td>1</td>\n",
              "      <td>-1</td>\n",
              "      <td>-1</td>\n",
              "    </tr>\n",
              "    <tr>\n",
              "      <th>192</th>\n",
              "      <td>193</td>\n",
              "      <td>13/05/2023</td>\n",
              "      <td>หญิง</td>\n",
              "      <td>64</td>\n",
              "      <td>47.0</td>\n",
              "      <td>149.0</td>\n",
              "      <td>21.170218</td>\n",
              "      <td>ภายใต้อาคาร</td>\n",
              "      <td>16.26</td>\n",
              "      <td>35.6</td>\n",
              "      <td>...</td>\n",
              "      <td>3</td>\n",
              "      <td>1</td>\n",
              "      <td>2</td>\n",
              "      <td>4</td>\n",
              "      <td>5</td>\n",
              "      <td>-1</td>\n",
              "      <td>0</td>\n",
              "      <td>0</td>\n",
              "      <td>-1</td>\n",
              "      <td>0</td>\n",
              "    </tr>\n",
              "  </tbody>\n",
              "</table>\n",
              "<p>193 rows × 37 columns</p>\n",
              "</div>\n",
              "    <div class=\"colab-df-buttons\">\n",
              "\n",
              "  <div class=\"colab-df-container\">\n",
              "    <button class=\"colab-df-convert\" onclick=\"convertToInteractive('df-7f5f95f3-a8c6-4801-bba2-1c02cccb76dd')\"\n",
              "            title=\"Convert this dataframe to an interactive table.\"\n",
              "            style=\"display:none;\">\n",
              "\n",
              "  <svg xmlns=\"http://www.w3.org/2000/svg\" height=\"24px\" viewBox=\"0 -960 960 960\">\n",
              "    <path d=\"M120-120v-720h720v720H120Zm60-500h600v-160H180v160Zm220 220h160v-160H400v160Zm0 220h160v-160H400v160ZM180-400h160v-160H180v160Zm440 0h160v-160H620v160ZM180-180h160v-160H180v160Zm440 0h160v-160H620v160Z\"/>\n",
              "  </svg>\n",
              "    </button>\n",
              "\n",
              "  <style>\n",
              "    .colab-df-container {\n",
              "      display:flex;\n",
              "      gap: 12px;\n",
              "    }\n",
              "\n",
              "    .colab-df-convert {\n",
              "      background-color: #E8F0FE;\n",
              "      border: none;\n",
              "      border-radius: 50%;\n",
              "      cursor: pointer;\n",
              "      display: none;\n",
              "      fill: #1967D2;\n",
              "      height: 32px;\n",
              "      padding: 0 0 0 0;\n",
              "      width: 32px;\n",
              "    }\n",
              "\n",
              "    .colab-df-convert:hover {\n",
              "      background-color: #E2EBFA;\n",
              "      box-shadow: 0px 1px 2px rgba(60, 64, 67, 0.3), 0px 1px 3px 1px rgba(60, 64, 67, 0.15);\n",
              "      fill: #174EA6;\n",
              "    }\n",
              "\n",
              "    .colab-df-buttons div {\n",
              "      margin-bottom: 4px;\n",
              "    }\n",
              "\n",
              "    [theme=dark] .colab-df-convert {\n",
              "      background-color: #3B4455;\n",
              "      fill: #D2E3FC;\n",
              "    }\n",
              "\n",
              "    [theme=dark] .colab-df-convert:hover {\n",
              "      background-color: #434B5C;\n",
              "      box-shadow: 0px 1px 3px 1px rgba(0, 0, 0, 0.15);\n",
              "      filter: drop-shadow(0px 1px 2px rgba(0, 0, 0, 0.3));\n",
              "      fill: #FFFFFF;\n",
              "    }\n",
              "  </style>\n",
              "\n",
              "    <script>\n",
              "      const buttonEl =\n",
              "        document.querySelector('#df-7f5f95f3-a8c6-4801-bba2-1c02cccb76dd button.colab-df-convert');\n",
              "      buttonEl.style.display =\n",
              "        google.colab.kernel.accessAllowed ? 'block' : 'none';\n",
              "\n",
              "      async function convertToInteractive(key) {\n",
              "        const element = document.querySelector('#df-7f5f95f3-a8c6-4801-bba2-1c02cccb76dd');\n",
              "        const dataTable =\n",
              "          await google.colab.kernel.invokeFunction('convertToInteractive',\n",
              "                                                    [key], {});\n",
              "        if (!dataTable) return;\n",
              "\n",
              "        const docLinkHtml = 'Like what you see? Visit the ' +\n",
              "          '<a target=\"_blank\" href=https://colab.research.google.com/notebooks/data_table.ipynb>data table notebook</a>'\n",
              "          + ' to learn more about interactive tables.';\n",
              "        element.innerHTML = '';\n",
              "        dataTable['output_type'] = 'display_data';\n",
              "        await google.colab.output.renderOutput(dataTable, element);\n",
              "        const docLink = document.createElement('div');\n",
              "        docLink.innerHTML = docLinkHtml;\n",
              "        element.appendChild(docLink);\n",
              "      }\n",
              "    </script>\n",
              "  </div>\n",
              "\n",
              "\n",
              "<div id=\"df-82796b4e-5bf2-49e5-aa8d-822cb9fe1314\">\n",
              "  <button class=\"colab-df-quickchart\" onclick=\"quickchart('df-82796b4e-5bf2-49e5-aa8d-822cb9fe1314')\"\n",
              "            title=\"Suggest charts.\"\n",
              "            style=\"display:none;\">\n",
              "\n",
              "<svg xmlns=\"http://www.w3.org/2000/svg\" height=\"24px\"viewBox=\"0 0 24 24\"\n",
              "     width=\"24px\">\n",
              "    <g>\n",
              "        <path d=\"M19 3H5c-1.1 0-2 .9-2 2v14c0 1.1.9 2 2 2h14c1.1 0 2-.9 2-2V5c0-1.1-.9-2-2-2zM9 17H7v-7h2v7zm4 0h-2V7h2v10zm4 0h-2v-4h2v4z\"/>\n",
              "    </g>\n",
              "</svg>\n",
              "  </button>\n",
              "\n",
              "<style>\n",
              "  .colab-df-quickchart {\n",
              "      --bg-color: #E8F0FE;\n",
              "      --fill-color: #1967D2;\n",
              "      --hover-bg-color: #E2EBFA;\n",
              "      --hover-fill-color: #174EA6;\n",
              "      --disabled-fill-color: #AAA;\n",
              "      --disabled-bg-color: #DDD;\n",
              "  }\n",
              "\n",
              "  [theme=dark] .colab-df-quickchart {\n",
              "      --bg-color: #3B4455;\n",
              "      --fill-color: #D2E3FC;\n",
              "      --hover-bg-color: #434B5C;\n",
              "      --hover-fill-color: #FFFFFF;\n",
              "      --disabled-bg-color: #3B4455;\n",
              "      --disabled-fill-color: #666;\n",
              "  }\n",
              "\n",
              "  .colab-df-quickchart {\n",
              "    background-color: var(--bg-color);\n",
              "    border: none;\n",
              "    border-radius: 50%;\n",
              "    cursor: pointer;\n",
              "    display: none;\n",
              "    fill: var(--fill-color);\n",
              "    height: 32px;\n",
              "    padding: 0;\n",
              "    width: 32px;\n",
              "  }\n",
              "\n",
              "  .colab-df-quickchart:hover {\n",
              "    background-color: var(--hover-bg-color);\n",
              "    box-shadow: 0 1px 2px rgba(60, 64, 67, 0.3), 0 1px 3px 1px rgba(60, 64, 67, 0.15);\n",
              "    fill: var(--button-hover-fill-color);\n",
              "  }\n",
              "\n",
              "  .colab-df-quickchart-complete:disabled,\n",
              "  .colab-df-quickchart-complete:disabled:hover {\n",
              "    background-color: var(--disabled-bg-color);\n",
              "    fill: var(--disabled-fill-color);\n",
              "    box-shadow: none;\n",
              "  }\n",
              "\n",
              "  .colab-df-spinner {\n",
              "    border: 2px solid var(--fill-color);\n",
              "    border-color: transparent;\n",
              "    border-bottom-color: var(--fill-color);\n",
              "    animation:\n",
              "      spin 1s steps(1) infinite;\n",
              "  }\n",
              "\n",
              "  @keyframes spin {\n",
              "    0% {\n",
              "      border-color: transparent;\n",
              "      border-bottom-color: var(--fill-color);\n",
              "      border-left-color: var(--fill-color);\n",
              "    }\n",
              "    20% {\n",
              "      border-color: transparent;\n",
              "      border-left-color: var(--fill-color);\n",
              "      border-top-color: var(--fill-color);\n",
              "    }\n",
              "    30% {\n",
              "      border-color: transparent;\n",
              "      border-left-color: var(--fill-color);\n",
              "      border-top-color: var(--fill-color);\n",
              "      border-right-color: var(--fill-color);\n",
              "    }\n",
              "    40% {\n",
              "      border-color: transparent;\n",
              "      border-right-color: var(--fill-color);\n",
              "      border-top-color: var(--fill-color);\n",
              "    }\n",
              "    60% {\n",
              "      border-color: transparent;\n",
              "      border-right-color: var(--fill-color);\n",
              "    }\n",
              "    80% {\n",
              "      border-color: transparent;\n",
              "      border-right-color: var(--fill-color);\n",
              "      border-bottom-color: var(--fill-color);\n",
              "    }\n",
              "    90% {\n",
              "      border-color: transparent;\n",
              "      border-bottom-color: var(--fill-color);\n",
              "    }\n",
              "  }\n",
              "</style>\n",
              "\n",
              "  <script>\n",
              "    async function quickchart(key) {\n",
              "      const quickchartButtonEl =\n",
              "        document.querySelector('#' + key + ' button');\n",
              "      quickchartButtonEl.disabled = true;  // To prevent multiple clicks.\n",
              "      quickchartButtonEl.classList.add('colab-df-spinner');\n",
              "      try {\n",
              "        const charts = await google.colab.kernel.invokeFunction(\n",
              "            'suggestCharts', [key], {});\n",
              "      } catch (error) {\n",
              "        console.error('Error during call to suggestCharts:', error);\n",
              "      }\n",
              "      quickchartButtonEl.classList.remove('colab-df-spinner');\n",
              "      quickchartButtonEl.classList.add('colab-df-quickchart-complete');\n",
              "    }\n",
              "    (() => {\n",
              "      let quickchartButtonEl =\n",
              "        document.querySelector('#df-82796b4e-5bf2-49e5-aa8d-822cb9fe1314 button');\n",
              "      quickchartButtonEl.style.display =\n",
              "        google.colab.kernel.accessAllowed ? 'block' : 'none';\n",
              "    })();\n",
              "  </script>\n",
              "</div>\n",
              "    </div>\n",
              "  </div>\n"
            ]
          },
          "metadata": {},
          "execution_count": 48
        }
      ]
    },
    {
      "cell_type": "code",
      "source": [
        "data = pd.read_excel('/content/Data-Survey-13-7-2023.xlsx', skiprows = 1)\n",
        "data"
      ],
      "metadata": {
        "id": "KcqX74HI5zBC"
      },
      "execution_count": null,
      "outputs": []
    },
    {
      "cell_type": "code",
      "execution_count": 49,
      "metadata": {
        "colab": {
          "base_uri": "https://localhost:8080/",
          "height": 565
        },
        "id": "9dGPKKyimgb2",
        "outputId": "5888a46f-3b9e-4be6-b225-6ff29af8a7b5"
      },
      "outputs": [
        {
          "output_type": "execute_result",
          "data": {
            "text/plain": [
              "      No               วันที่   เพศ  Age  Weight  Height        BMI  \\\n",
              "0      1  2022-12-28 00:00:00   ชาย   27    49.0   169.0  17.156262   \n",
              "1      2  2022-12-28 00:00:00   ชาย   36    71.0   175.0  23.183673   \n",
              "2      3  2022-12-28 00:00:00  หญิง   25    89.0   153.0  38.019565   \n",
              "3      4  2022-12-28 00:00:00   ชาย   29    75.0   165.0  27.548209   \n",
              "4      5  2022-12-28 00:00:00   ชาย   28   118.0   187.0  33.744173   \n",
              "..   ...                  ...   ...  ...     ...     ...        ...   \n",
              "188  189           13/05/2023   ชาย   37    88.0   180.0  27.160494   \n",
              "189  190           13/05/2023  หญิง   23    47.0   159.0  18.591037   \n",
              "190  191           13/05/2023   ชาย   27    47.0   169.0  16.456006   \n",
              "191  192           13/05/2023   ชาย   57    68.0   171.0  23.255019   \n",
              "192  193           13/05/2023  หญิง   64    47.0   149.0  21.170218   \n",
              "\n",
              "       พื้นที่ทำแบบสอบถาม      เวลา  Temp  ...  อุณหภูมิ  ความชื้น  กระแสลม  \\\n",
              "0    ภายนอก/ มีหลังคาคลุม  10:55 AM  30.5  ...         2         1        2   \n",
              "1    ภายนอก/ มีหลังคาคลุม  10:55 AM  30.5  ...         3         0        5   \n",
              "2    ภายนอก/ มีหลังคาคลุม  10:55 AM  30.5  ...         2         0        4   \n",
              "3    ภายนอก/ มีหลังคาคลุม  10:55 AM  30.5  ...         3         3        4   \n",
              "4    ภายนอก/ มีหลังคาคลุม  10:55 AM  30.5  ...         2         1        4   \n",
              "..                    ...       ...   ...  ...       ...       ...      ...   \n",
              "188           ภายใต้อาคาร     16.26  35.6  ...         3         2        4   \n",
              "189           ภายใต้อาคาร     16.26  35.6  ...         3         1        4   \n",
              "190           ภายใต้อาคาร     16.26  35.6  ...         4         4        4   \n",
              "191           ภายใต้อาคาร     16.26  35.6  ...         3         1        5   \n",
              "192           ภายใต้อาคาร     16.26  35.6  ...         3         1        2   \n",
              "\n",
              "     ความแรงของแสงแดด  เหงื่อบริเวณผิวหนัง  ความร้อน  ความชื้น.1  กระแสลม.1  \\\n",
              "0                   3                    2         0          -1          0   \n",
              "1                   3                    1         0           0          1   \n",
              "2                   1                    1         0           0          0   \n",
              "3                   4                    2        -1           0          0   \n",
              "4                   3                    0        -1          -1          0   \n",
              "..                ...                  ...       ...         ...        ...   \n",
              "188                 3                    2        -1           1          0   \n",
              "189                 3                    4        -1           1          1   \n",
              "190                 5                    3        -1          -1          1   \n",
              "191                 0                    3        -1           1          1   \n",
              "192                 4                    5        -1           0          0   \n",
              "\n",
              "    แสงแดด  เหงื่อบริเวณผิวหนัง.1  \n",
              "0       -1                      0  \n",
              "1       -1                      0  \n",
              "2        0                      0  \n",
              "3       -1                      1  \n",
              "4       -1                      0  \n",
              "..     ...                    ...  \n",
              "188     -1                     -1  \n",
              "189     -1                     -1  \n",
              "190     -1                     -1  \n",
              "191     -1                     -1  \n",
              "192     -1                      0  \n",
              "\n",
              "[193 rows x 37 columns]"
            ],
            "text/html": [
              "\n",
              "  <div id=\"df-07b33b57-67cb-466b-b6c5-88eb068065ce\" class=\"colab-df-container\">\n",
              "    <div>\n",
              "<style scoped>\n",
              "    .dataframe tbody tr th:only-of-type {\n",
              "        vertical-align: middle;\n",
              "    }\n",
              "\n",
              "    .dataframe tbody tr th {\n",
              "        vertical-align: top;\n",
              "    }\n",
              "\n",
              "    .dataframe thead th {\n",
              "        text-align: right;\n",
              "    }\n",
              "</style>\n",
              "<table border=\"1\" class=\"dataframe\">\n",
              "  <thead>\n",
              "    <tr style=\"text-align: right;\">\n",
              "      <th></th>\n",
              "      <th>No</th>\n",
              "      <th>วันที่</th>\n",
              "      <th>เพศ</th>\n",
              "      <th>Age</th>\n",
              "      <th>Weight</th>\n",
              "      <th>Height</th>\n",
              "      <th>BMI</th>\n",
              "      <th>พื้นที่ทำแบบสอบถาม</th>\n",
              "      <th>เวลา</th>\n",
              "      <th>Temp</th>\n",
              "      <th>...</th>\n",
              "      <th>อุณหภูมิ</th>\n",
              "      <th>ความชื้น</th>\n",
              "      <th>กระแสลม</th>\n",
              "      <th>ความแรงของแสงแดด</th>\n",
              "      <th>เหงื่อบริเวณผิวหนัง</th>\n",
              "      <th>ความร้อน</th>\n",
              "      <th>ความชื้น.1</th>\n",
              "      <th>กระแสลม.1</th>\n",
              "      <th>แสงแดด</th>\n",
              "      <th>เหงื่อบริเวณผิวหนัง.1</th>\n",
              "    </tr>\n",
              "  </thead>\n",
              "  <tbody>\n",
              "    <tr>\n",
              "      <th>0</th>\n",
              "      <td>1</td>\n",
              "      <td>2022-12-28 00:00:00</td>\n",
              "      <td>ชาย</td>\n",
              "      <td>27</td>\n",
              "      <td>49.0</td>\n",
              "      <td>169.0</td>\n",
              "      <td>17.156262</td>\n",
              "      <td>ภายนอก/ มีหลังคาคลุม</td>\n",
              "      <td>10:55 AM</td>\n",
              "      <td>30.5</td>\n",
              "      <td>...</td>\n",
              "      <td>2</td>\n",
              "      <td>1</td>\n",
              "      <td>2</td>\n",
              "      <td>3</td>\n",
              "      <td>2</td>\n",
              "      <td>0</td>\n",
              "      <td>-1</td>\n",
              "      <td>0</td>\n",
              "      <td>-1</td>\n",
              "      <td>0</td>\n",
              "    </tr>\n",
              "    <tr>\n",
              "      <th>1</th>\n",
              "      <td>2</td>\n",
              "      <td>2022-12-28 00:00:00</td>\n",
              "      <td>ชาย</td>\n",
              "      <td>36</td>\n",
              "      <td>71.0</td>\n",
              "      <td>175.0</td>\n",
              "      <td>23.183673</td>\n",
              "      <td>ภายนอก/ มีหลังคาคลุม</td>\n",
              "      <td>10:55 AM</td>\n",
              "      <td>30.5</td>\n",
              "      <td>...</td>\n",
              "      <td>3</td>\n",
              "      <td>0</td>\n",
              "      <td>5</td>\n",
              "      <td>3</td>\n",
              "      <td>1</td>\n",
              "      <td>0</td>\n",
              "      <td>0</td>\n",
              "      <td>1</td>\n",
              "      <td>-1</td>\n",
              "      <td>0</td>\n",
              "    </tr>\n",
              "    <tr>\n",
              "      <th>2</th>\n",
              "      <td>3</td>\n",
              "      <td>2022-12-28 00:00:00</td>\n",
              "      <td>หญิง</td>\n",
              "      <td>25</td>\n",
              "      <td>89.0</td>\n",
              "      <td>153.0</td>\n",
              "      <td>38.019565</td>\n",
              "      <td>ภายนอก/ มีหลังคาคลุม</td>\n",
              "      <td>10:55 AM</td>\n",
              "      <td>30.5</td>\n",
              "      <td>...</td>\n",
              "      <td>2</td>\n",
              "      <td>0</td>\n",
              "      <td>4</td>\n",
              "      <td>1</td>\n",
              "      <td>1</td>\n",
              "      <td>0</td>\n",
              "      <td>0</td>\n",
              "      <td>0</td>\n",
              "      <td>0</td>\n",
              "      <td>0</td>\n",
              "    </tr>\n",
              "    <tr>\n",
              "      <th>3</th>\n",
              "      <td>4</td>\n",
              "      <td>2022-12-28 00:00:00</td>\n",
              "      <td>ชาย</td>\n",
              "      <td>29</td>\n",
              "      <td>75.0</td>\n",
              "      <td>165.0</td>\n",
              "      <td>27.548209</td>\n",
              "      <td>ภายนอก/ มีหลังคาคลุม</td>\n",
              "      <td>10:55 AM</td>\n",
              "      <td>30.5</td>\n",
              "      <td>...</td>\n",
              "      <td>3</td>\n",
              "      <td>3</td>\n",
              "      <td>4</td>\n",
              "      <td>4</td>\n",
              "      <td>2</td>\n",
              "      <td>-1</td>\n",
              "      <td>0</td>\n",
              "      <td>0</td>\n",
              "      <td>-1</td>\n",
              "      <td>1</td>\n",
              "    </tr>\n",
              "    <tr>\n",
              "      <th>4</th>\n",
              "      <td>5</td>\n",
              "      <td>2022-12-28 00:00:00</td>\n",
              "      <td>ชาย</td>\n",
              "      <td>28</td>\n",
              "      <td>118.0</td>\n",
              "      <td>187.0</td>\n",
              "      <td>33.744173</td>\n",
              "      <td>ภายนอก/ มีหลังคาคลุม</td>\n",
              "      <td>10:55 AM</td>\n",
              "      <td>30.5</td>\n",
              "      <td>...</td>\n",
              "      <td>2</td>\n",
              "      <td>1</td>\n",
              "      <td>4</td>\n",
              "      <td>3</td>\n",
              "      <td>0</td>\n",
              "      <td>-1</td>\n",
              "      <td>-1</td>\n",
              "      <td>0</td>\n",
              "      <td>-1</td>\n",
              "      <td>0</td>\n",
              "    </tr>\n",
              "    <tr>\n",
              "      <th>...</th>\n",
              "      <td>...</td>\n",
              "      <td>...</td>\n",
              "      <td>...</td>\n",
              "      <td>...</td>\n",
              "      <td>...</td>\n",
              "      <td>...</td>\n",
              "      <td>...</td>\n",
              "      <td>...</td>\n",
              "      <td>...</td>\n",
              "      <td>...</td>\n",
              "      <td>...</td>\n",
              "      <td>...</td>\n",
              "      <td>...</td>\n",
              "      <td>...</td>\n",
              "      <td>...</td>\n",
              "      <td>...</td>\n",
              "      <td>...</td>\n",
              "      <td>...</td>\n",
              "      <td>...</td>\n",
              "      <td>...</td>\n",
              "      <td>...</td>\n",
              "    </tr>\n",
              "    <tr>\n",
              "      <th>188</th>\n",
              "      <td>189</td>\n",
              "      <td>13/05/2023</td>\n",
              "      <td>ชาย</td>\n",
              "      <td>37</td>\n",
              "      <td>88.0</td>\n",
              "      <td>180.0</td>\n",
              "      <td>27.160494</td>\n",
              "      <td>ภายใต้อาคาร</td>\n",
              "      <td>16.26</td>\n",
              "      <td>35.6</td>\n",
              "      <td>...</td>\n",
              "      <td>3</td>\n",
              "      <td>2</td>\n",
              "      <td>4</td>\n",
              "      <td>3</td>\n",
              "      <td>2</td>\n",
              "      <td>-1</td>\n",
              "      <td>1</td>\n",
              "      <td>0</td>\n",
              "      <td>-1</td>\n",
              "      <td>-1</td>\n",
              "    </tr>\n",
              "    <tr>\n",
              "      <th>189</th>\n",
              "      <td>190</td>\n",
              "      <td>13/05/2023</td>\n",
              "      <td>หญิง</td>\n",
              "      <td>23</td>\n",
              "      <td>47.0</td>\n",
              "      <td>159.0</td>\n",
              "      <td>18.591037</td>\n",
              "      <td>ภายใต้อาคาร</td>\n",
              "      <td>16.26</td>\n",
              "      <td>35.6</td>\n",
              "      <td>...</td>\n",
              "      <td>3</td>\n",
              "      <td>1</td>\n",
              "      <td>4</td>\n",
              "      <td>3</td>\n",
              "      <td>4</td>\n",
              "      <td>-1</td>\n",
              "      <td>1</td>\n",
              "      <td>1</td>\n",
              "      <td>-1</td>\n",
              "      <td>-1</td>\n",
              "    </tr>\n",
              "    <tr>\n",
              "      <th>190</th>\n",
              "      <td>191</td>\n",
              "      <td>13/05/2023</td>\n",
              "      <td>ชาย</td>\n",
              "      <td>27</td>\n",
              "      <td>47.0</td>\n",
              "      <td>169.0</td>\n",
              "      <td>16.456006</td>\n",
              "      <td>ภายใต้อาคาร</td>\n",
              "      <td>16.26</td>\n",
              "      <td>35.6</td>\n",
              "      <td>...</td>\n",
              "      <td>4</td>\n",
              "      <td>4</td>\n",
              "      <td>4</td>\n",
              "      <td>5</td>\n",
              "      <td>3</td>\n",
              "      <td>-1</td>\n",
              "      <td>-1</td>\n",
              "      <td>1</td>\n",
              "      <td>-1</td>\n",
              "      <td>-1</td>\n",
              "    </tr>\n",
              "    <tr>\n",
              "      <th>191</th>\n",
              "      <td>192</td>\n",
              "      <td>13/05/2023</td>\n",
              "      <td>ชาย</td>\n",
              "      <td>57</td>\n",
              "      <td>68.0</td>\n",
              "      <td>171.0</td>\n",
              "      <td>23.255019</td>\n",
              "      <td>ภายใต้อาคาร</td>\n",
              "      <td>16.26</td>\n",
              "      <td>35.6</td>\n",
              "      <td>...</td>\n",
              "      <td>3</td>\n",
              "      <td>1</td>\n",
              "      <td>5</td>\n",
              "      <td>0</td>\n",
              "      <td>3</td>\n",
              "      <td>-1</td>\n",
              "      <td>1</td>\n",
              "      <td>1</td>\n",
              "      <td>-1</td>\n",
              "      <td>-1</td>\n",
              "    </tr>\n",
              "    <tr>\n",
              "      <th>192</th>\n",
              "      <td>193</td>\n",
              "      <td>13/05/2023</td>\n",
              "      <td>หญิง</td>\n",
              "      <td>64</td>\n",
              "      <td>47.0</td>\n",
              "      <td>149.0</td>\n",
              "      <td>21.170218</td>\n",
              "      <td>ภายใต้อาคาร</td>\n",
              "      <td>16.26</td>\n",
              "      <td>35.6</td>\n",
              "      <td>...</td>\n",
              "      <td>3</td>\n",
              "      <td>1</td>\n",
              "      <td>2</td>\n",
              "      <td>4</td>\n",
              "      <td>5</td>\n",
              "      <td>-1</td>\n",
              "      <td>0</td>\n",
              "      <td>0</td>\n",
              "      <td>-1</td>\n",
              "      <td>0</td>\n",
              "    </tr>\n",
              "  </tbody>\n",
              "</table>\n",
              "<p>193 rows × 37 columns</p>\n",
              "</div>\n",
              "    <div class=\"colab-df-buttons\">\n",
              "\n",
              "  <div class=\"colab-df-container\">\n",
              "    <button class=\"colab-df-convert\" onclick=\"convertToInteractive('df-07b33b57-67cb-466b-b6c5-88eb068065ce')\"\n",
              "            title=\"Convert this dataframe to an interactive table.\"\n",
              "            style=\"display:none;\">\n",
              "\n",
              "  <svg xmlns=\"http://www.w3.org/2000/svg\" height=\"24px\" viewBox=\"0 -960 960 960\">\n",
              "    <path d=\"M120-120v-720h720v720H120Zm60-500h600v-160H180v160Zm220 220h160v-160H400v160Zm0 220h160v-160H400v160ZM180-400h160v-160H180v160Zm440 0h160v-160H620v160ZM180-180h160v-160H180v160Zm440 0h160v-160H620v160Z\"/>\n",
              "  </svg>\n",
              "    </button>\n",
              "\n",
              "  <style>\n",
              "    .colab-df-container {\n",
              "      display:flex;\n",
              "      gap: 12px;\n",
              "    }\n",
              "\n",
              "    .colab-df-convert {\n",
              "      background-color: #E8F0FE;\n",
              "      border: none;\n",
              "      border-radius: 50%;\n",
              "      cursor: pointer;\n",
              "      display: none;\n",
              "      fill: #1967D2;\n",
              "      height: 32px;\n",
              "      padding: 0 0 0 0;\n",
              "      width: 32px;\n",
              "    }\n",
              "\n",
              "    .colab-df-convert:hover {\n",
              "      background-color: #E2EBFA;\n",
              "      box-shadow: 0px 1px 2px rgba(60, 64, 67, 0.3), 0px 1px 3px 1px rgba(60, 64, 67, 0.15);\n",
              "      fill: #174EA6;\n",
              "    }\n",
              "\n",
              "    .colab-df-buttons div {\n",
              "      margin-bottom: 4px;\n",
              "    }\n",
              "\n",
              "    [theme=dark] .colab-df-convert {\n",
              "      background-color: #3B4455;\n",
              "      fill: #D2E3FC;\n",
              "    }\n",
              "\n",
              "    [theme=dark] .colab-df-convert:hover {\n",
              "      background-color: #434B5C;\n",
              "      box-shadow: 0px 1px 3px 1px rgba(0, 0, 0, 0.15);\n",
              "      filter: drop-shadow(0px 1px 2px rgba(0, 0, 0, 0.3));\n",
              "      fill: #FFFFFF;\n",
              "    }\n",
              "  </style>\n",
              "\n",
              "    <script>\n",
              "      const buttonEl =\n",
              "        document.querySelector('#df-07b33b57-67cb-466b-b6c5-88eb068065ce button.colab-df-convert');\n",
              "      buttonEl.style.display =\n",
              "        google.colab.kernel.accessAllowed ? 'block' : 'none';\n",
              "\n",
              "      async function convertToInteractive(key) {\n",
              "        const element = document.querySelector('#df-07b33b57-67cb-466b-b6c5-88eb068065ce');\n",
              "        const dataTable =\n",
              "          await google.colab.kernel.invokeFunction('convertToInteractive',\n",
              "                                                    [key], {});\n",
              "        if (!dataTable) return;\n",
              "\n",
              "        const docLinkHtml = 'Like what you see? Visit the ' +\n",
              "          '<a target=\"_blank\" href=https://colab.research.google.com/notebooks/data_table.ipynb>data table notebook</a>'\n",
              "          + ' to learn more about interactive tables.';\n",
              "        element.innerHTML = '';\n",
              "        dataTable['output_type'] = 'display_data';\n",
              "        await google.colab.output.renderOutput(dataTable, element);\n",
              "        const docLink = document.createElement('div');\n",
              "        docLink.innerHTML = docLinkHtml;\n",
              "        element.appendChild(docLink);\n",
              "      }\n",
              "    </script>\n",
              "  </div>\n",
              "\n",
              "\n",
              "<div id=\"df-7110319c-f91a-46f4-a4c2-0c5a2d0b3639\">\n",
              "  <button class=\"colab-df-quickchart\" onclick=\"quickchart('df-7110319c-f91a-46f4-a4c2-0c5a2d0b3639')\"\n",
              "            title=\"Suggest charts.\"\n",
              "            style=\"display:none;\">\n",
              "\n",
              "<svg xmlns=\"http://www.w3.org/2000/svg\" height=\"24px\"viewBox=\"0 0 24 24\"\n",
              "     width=\"24px\">\n",
              "    <g>\n",
              "        <path d=\"M19 3H5c-1.1 0-2 .9-2 2v14c0 1.1.9 2 2 2h14c1.1 0 2-.9 2-2V5c0-1.1-.9-2-2-2zM9 17H7v-7h2v7zm4 0h-2V7h2v10zm4 0h-2v-4h2v4z\"/>\n",
              "    </g>\n",
              "</svg>\n",
              "  </button>\n",
              "\n",
              "<style>\n",
              "  .colab-df-quickchart {\n",
              "      --bg-color: #E8F0FE;\n",
              "      --fill-color: #1967D2;\n",
              "      --hover-bg-color: #E2EBFA;\n",
              "      --hover-fill-color: #174EA6;\n",
              "      --disabled-fill-color: #AAA;\n",
              "      --disabled-bg-color: #DDD;\n",
              "  }\n",
              "\n",
              "  [theme=dark] .colab-df-quickchart {\n",
              "      --bg-color: #3B4455;\n",
              "      --fill-color: #D2E3FC;\n",
              "      --hover-bg-color: #434B5C;\n",
              "      --hover-fill-color: #FFFFFF;\n",
              "      --disabled-bg-color: #3B4455;\n",
              "      --disabled-fill-color: #666;\n",
              "  }\n",
              "\n",
              "  .colab-df-quickchart {\n",
              "    background-color: var(--bg-color);\n",
              "    border: none;\n",
              "    border-radius: 50%;\n",
              "    cursor: pointer;\n",
              "    display: none;\n",
              "    fill: var(--fill-color);\n",
              "    height: 32px;\n",
              "    padding: 0;\n",
              "    width: 32px;\n",
              "  }\n",
              "\n",
              "  .colab-df-quickchart:hover {\n",
              "    background-color: var(--hover-bg-color);\n",
              "    box-shadow: 0 1px 2px rgba(60, 64, 67, 0.3), 0 1px 3px 1px rgba(60, 64, 67, 0.15);\n",
              "    fill: var(--button-hover-fill-color);\n",
              "  }\n",
              "\n",
              "  .colab-df-quickchart-complete:disabled,\n",
              "  .colab-df-quickchart-complete:disabled:hover {\n",
              "    background-color: var(--disabled-bg-color);\n",
              "    fill: var(--disabled-fill-color);\n",
              "    box-shadow: none;\n",
              "  }\n",
              "\n",
              "  .colab-df-spinner {\n",
              "    border: 2px solid var(--fill-color);\n",
              "    border-color: transparent;\n",
              "    border-bottom-color: var(--fill-color);\n",
              "    animation:\n",
              "      spin 1s steps(1) infinite;\n",
              "  }\n",
              "\n",
              "  @keyframes spin {\n",
              "    0% {\n",
              "      border-color: transparent;\n",
              "      border-bottom-color: var(--fill-color);\n",
              "      border-left-color: var(--fill-color);\n",
              "    }\n",
              "    20% {\n",
              "      border-color: transparent;\n",
              "      border-left-color: var(--fill-color);\n",
              "      border-top-color: var(--fill-color);\n",
              "    }\n",
              "    30% {\n",
              "      border-color: transparent;\n",
              "      border-left-color: var(--fill-color);\n",
              "      border-top-color: var(--fill-color);\n",
              "      border-right-color: var(--fill-color);\n",
              "    }\n",
              "    40% {\n",
              "      border-color: transparent;\n",
              "      border-right-color: var(--fill-color);\n",
              "      border-top-color: var(--fill-color);\n",
              "    }\n",
              "    60% {\n",
              "      border-color: transparent;\n",
              "      border-right-color: var(--fill-color);\n",
              "    }\n",
              "    80% {\n",
              "      border-color: transparent;\n",
              "      border-right-color: var(--fill-color);\n",
              "      border-bottom-color: var(--fill-color);\n",
              "    }\n",
              "    90% {\n",
              "      border-color: transparent;\n",
              "      border-bottom-color: var(--fill-color);\n",
              "    }\n",
              "  }\n",
              "</style>\n",
              "\n",
              "  <script>\n",
              "    async function quickchart(key) {\n",
              "      const quickchartButtonEl =\n",
              "        document.querySelector('#' + key + ' button');\n",
              "      quickchartButtonEl.disabled = true;  // To prevent multiple clicks.\n",
              "      quickchartButtonEl.classList.add('colab-df-spinner');\n",
              "      try {\n",
              "        const charts = await google.colab.kernel.invokeFunction(\n",
              "            'suggestCharts', [key], {});\n",
              "      } catch (error) {\n",
              "        console.error('Error during call to suggestCharts:', error);\n",
              "      }\n",
              "      quickchartButtonEl.classList.remove('colab-df-spinner');\n",
              "      quickchartButtonEl.classList.add('colab-df-quickchart-complete');\n",
              "    }\n",
              "    (() => {\n",
              "      let quickchartButtonEl =\n",
              "        document.querySelector('#df-7110319c-f91a-46f4-a4c2-0c5a2d0b3639 button');\n",
              "      quickchartButtonEl.style.display =\n",
              "        google.colab.kernel.accessAllowed ? 'block' : 'none';\n",
              "    })();\n",
              "  </script>\n",
              "</div>\n",
              "    </div>\n",
              "  </div>\n"
            ]
          },
          "metadata": {},
          "execution_count": 49
        }
      ],
      "source": [
        "data.rename(columns = {'Unnamed: 0' : 'No', 'Unnamed: 1' : 'วันที่', 'Unnamed: 2' : 'เพศ', 'Unnamed: 3' : 'Age', 'Unnamed: 4' : 'Weight',\n",
        "                       'Unnamed: 5' : 'Height', 'Unnamed: 6' : 'BMI', 'Unnamed: 7' : 'พื้นที่ทำแบบสอบถาม', 'Unnamed: 8' : 'เวลา',\n",
        "                       'Unnamed: 18' : 'Thermal acceptance', 'Unnamed: 26' : 'Thermal sensation Vote'\n",
        "                       }, inplace = True)\n",
        "data"
      ]
    },
    {
      "cell_type": "code",
      "source": [
        "data.shape"
      ],
      "metadata": {
        "colab": {
          "base_uri": "https://localhost:8080/"
        },
        "id": "JkdDfDNMcD7O",
        "outputId": "659c1e72-4963-48cf-f2ee-61c093ef00f0"
      },
      "execution_count": 50,
      "outputs": [
        {
          "output_type": "execute_result",
          "data": {
            "text/plain": [
              "(193, 37)"
            ]
          },
          "metadata": {},
          "execution_count": 50
        }
      ]
    },
    {
      "cell_type": "code",
      "source": [
        "data.columns"
      ],
      "metadata": {
        "colab": {
          "base_uri": "https://localhost:8080/"
        },
        "id": "rhs5XsVhbv8c",
        "outputId": "dca0eadb-faa2-49bf-a3f5-28d60e271701"
      },
      "execution_count": 51,
      "outputs": [
        {
          "output_type": "execute_result",
          "data": {
            "text/plain": [
              "Index([                    'No',                 'วันที่',\n",
              "                          'เพศ',                    'Age',\n",
              "                       'Weight',                 'Height',\n",
              "                          'BMI',     'พื้นที่ทำแบบสอบถาม',\n",
              "                         'เวลา',                   'Temp',\n",
              "                   'Globe temp',                    '%RH',\n",
              "                      'V (m/s)',               'วงเล็บ 1',\n",
              "                'สมการหลัง บวก',               'วงเล็บ 2',\n",
              "       'ยกกำลัง 1 ส่วน 4/ 0.25',              'ลบ 273.15',\n",
              "           'Thermal acceptance',                       -3,\n",
              "                             -2,                       -1,\n",
              "                              0,                     '+1',\n",
              "                           '+2',                     '+3',\n",
              "       'Thermal sensation Vote',               'อุณหภูมิ',\n",
              "                     'ความชื้น',                'กระแสลม',\n",
              "             'ความแรงของแสงแดด',    'เหงื่อบริเวณผิวหนัง',\n",
              "                     'ความร้อน',             'ความชื้น.1',\n",
              "                    'กระแสลม.1',                 'แสงแดด',\n",
              "        'เหงื่อบริเวณผิวหนัง.1'],\n",
              "      dtype='object')"
            ]
          },
          "metadata": {},
          "execution_count": 51
        }
      ]
    },
    {
      "cell_type": "code",
      "source": [
        "data.describe()"
      ],
      "metadata": {
        "colab": {
          "base_uri": "https://localhost:8080/",
          "height": 384
        },
        "id": "FOHS8Mdkb4m6",
        "outputId": "95795a33-56bd-4d37-c9dc-7c4cf2c222d0"
      },
      "execution_count": 52,
      "outputs": [
        {
          "output_type": "execute_result",
          "data": {
            "text/plain": [
              "               No         Age      Weight      Height         BMI        Temp  \\\n",
              "count  193.000000  193.000000  191.000000  191.000000  191.000000  193.000000   \n",
              "mean    97.000000   30.720207   68.544503  167.335079   24.364324   30.895337   \n",
              "std     55.858452   11.950177   22.407397    9.767442    7.126414    2.310264   \n",
              "min      1.000000   20.000000   41.000000  144.000000   16.015625   27.200000   \n",
              "25%     49.000000   25.000000   49.000000  158.500000   19.146722   29.100000   \n",
              "50%     97.000000   27.000000   63.000000  169.000000   22.230987   30.800000   \n",
              "75%    145.000000   36.000000   76.500000  173.500000   27.548209   32.700000   \n",
              "max    193.000000   70.000000  147.000000  187.000000   48.553310   35.600000   \n",
              "\n",
              "       Globe temp         %RH     V (m/s)      วงเล็บ 1  ...    อุณหภูมิ  \\\n",
              "count  193.000000  193.000000  193.000000  1.930000e+02  ...  193.000000   \n",
              "mean    31.533161   48.780829    0.265311  8.621030e+09  ...    2.559585   \n",
              "std      2.432899    7.491418    0.285395  2.756796e+08  ...    1.667028   \n",
              "min     27.600000   38.100000    0.045000  8.181304e+09  ...    0.000000   \n",
              "25%     29.800000   42.500000    0.120000  8.423330e+09  ...    1.000000   \n",
              "50%     31.800000   46.600000    0.185000  8.647977e+09  ...    2.000000   \n",
              "75%     33.100000   56.100000    0.330000  8.796388e+09  ...    4.000000   \n",
              "max     36.200000   64.200000    1.765000  9.157997e+09  ...    6.000000   \n",
              "\n",
              "         ความชื้น     กระแสลม  ความแรงของแสงแดด  เหงื่อบริเวณผิวหนัง  \\\n",
              "count  193.000000  193.000000        193.000000           193.000000   \n",
              "mean     1.989637    2.414508          2.207254             2.129534   \n",
              "std      1.454124    1.404679          2.010014             1.941544   \n",
              "min      0.000000    0.000000          0.000000             0.000000   \n",
              "25%      1.000000    1.000000          0.000000             0.000000   \n",
              "50%      2.000000    2.000000          2.000000             2.000000   \n",
              "75%      3.000000    3.000000          4.000000             4.000000   \n",
              "max      6.000000    6.000000          6.000000             6.000000   \n",
              "\n",
              "         ความร้อน  ความชื้น.1   กระแสลม.1      แสงแดด  เหงื่อบริเวณผิวหนัง.1  \n",
              "count  193.000000  193.000000  193.000000  193.000000             193.000000  \n",
              "mean    -0.647668   -0.103627    0.637306   -0.419689              -0.450777  \n",
              "std      0.510522    0.558679    0.543002    0.554363               0.558002  \n",
              "min     -1.000000   -1.000000   -1.000000   -1.000000              -1.000000  \n",
              "25%     -1.000000    0.000000    0.000000   -1.000000              -1.000000  \n",
              "50%     -1.000000    0.000000    1.000000    0.000000               0.000000  \n",
              "75%      0.000000    0.000000    1.000000    0.000000               0.000000  \n",
              "max      1.000000    1.000000    1.000000    1.000000               1.000000  \n",
              "\n",
              "[8 rows x 32 columns]"
            ],
            "text/html": [
              "\n",
              "  <div id=\"df-18e00c62-7c97-420b-92de-55d37b098387\" class=\"colab-df-container\">\n",
              "    <div>\n",
              "<style scoped>\n",
              "    .dataframe tbody tr th:only-of-type {\n",
              "        vertical-align: middle;\n",
              "    }\n",
              "\n",
              "    .dataframe tbody tr th {\n",
              "        vertical-align: top;\n",
              "    }\n",
              "\n",
              "    .dataframe thead th {\n",
              "        text-align: right;\n",
              "    }\n",
              "</style>\n",
              "<table border=\"1\" class=\"dataframe\">\n",
              "  <thead>\n",
              "    <tr style=\"text-align: right;\">\n",
              "      <th></th>\n",
              "      <th>No</th>\n",
              "      <th>Age</th>\n",
              "      <th>Weight</th>\n",
              "      <th>Height</th>\n",
              "      <th>BMI</th>\n",
              "      <th>Temp</th>\n",
              "      <th>Globe temp</th>\n",
              "      <th>%RH</th>\n",
              "      <th>V (m/s)</th>\n",
              "      <th>วงเล็บ 1</th>\n",
              "      <th>...</th>\n",
              "      <th>อุณหภูมิ</th>\n",
              "      <th>ความชื้น</th>\n",
              "      <th>กระแสลม</th>\n",
              "      <th>ความแรงของแสงแดด</th>\n",
              "      <th>เหงื่อบริเวณผิวหนัง</th>\n",
              "      <th>ความร้อน</th>\n",
              "      <th>ความชื้น.1</th>\n",
              "      <th>กระแสลม.1</th>\n",
              "      <th>แสงแดด</th>\n",
              "      <th>เหงื่อบริเวณผิวหนัง.1</th>\n",
              "    </tr>\n",
              "  </thead>\n",
              "  <tbody>\n",
              "    <tr>\n",
              "      <th>count</th>\n",
              "      <td>193.000000</td>\n",
              "      <td>193.000000</td>\n",
              "      <td>191.000000</td>\n",
              "      <td>191.000000</td>\n",
              "      <td>191.000000</td>\n",
              "      <td>193.000000</td>\n",
              "      <td>193.000000</td>\n",
              "      <td>193.000000</td>\n",
              "      <td>193.000000</td>\n",
              "      <td>1.930000e+02</td>\n",
              "      <td>...</td>\n",
              "      <td>193.000000</td>\n",
              "      <td>193.000000</td>\n",
              "      <td>193.000000</td>\n",
              "      <td>193.000000</td>\n",
              "      <td>193.000000</td>\n",
              "      <td>193.000000</td>\n",
              "      <td>193.000000</td>\n",
              "      <td>193.000000</td>\n",
              "      <td>193.000000</td>\n",
              "      <td>193.000000</td>\n",
              "    </tr>\n",
              "    <tr>\n",
              "      <th>mean</th>\n",
              "      <td>97.000000</td>\n",
              "      <td>30.720207</td>\n",
              "      <td>68.544503</td>\n",
              "      <td>167.335079</td>\n",
              "      <td>24.364324</td>\n",
              "      <td>30.895337</td>\n",
              "      <td>31.533161</td>\n",
              "      <td>48.780829</td>\n",
              "      <td>0.265311</td>\n",
              "      <td>8.621030e+09</td>\n",
              "      <td>...</td>\n",
              "      <td>2.559585</td>\n",
              "      <td>1.989637</td>\n",
              "      <td>2.414508</td>\n",
              "      <td>2.207254</td>\n",
              "      <td>2.129534</td>\n",
              "      <td>-0.647668</td>\n",
              "      <td>-0.103627</td>\n",
              "      <td>0.637306</td>\n",
              "      <td>-0.419689</td>\n",
              "      <td>-0.450777</td>\n",
              "    </tr>\n",
              "    <tr>\n",
              "      <th>std</th>\n",
              "      <td>55.858452</td>\n",
              "      <td>11.950177</td>\n",
              "      <td>22.407397</td>\n",
              "      <td>9.767442</td>\n",
              "      <td>7.126414</td>\n",
              "      <td>2.310264</td>\n",
              "      <td>2.432899</td>\n",
              "      <td>7.491418</td>\n",
              "      <td>0.285395</td>\n",
              "      <td>2.756796e+08</td>\n",
              "      <td>...</td>\n",
              "      <td>1.667028</td>\n",
              "      <td>1.454124</td>\n",
              "      <td>1.404679</td>\n",
              "      <td>2.010014</td>\n",
              "      <td>1.941544</td>\n",
              "      <td>0.510522</td>\n",
              "      <td>0.558679</td>\n",
              "      <td>0.543002</td>\n",
              "      <td>0.554363</td>\n",
              "      <td>0.558002</td>\n",
              "    </tr>\n",
              "    <tr>\n",
              "      <th>min</th>\n",
              "      <td>1.000000</td>\n",
              "      <td>20.000000</td>\n",
              "      <td>41.000000</td>\n",
              "      <td>144.000000</td>\n",
              "      <td>16.015625</td>\n",
              "      <td>27.200000</td>\n",
              "      <td>27.600000</td>\n",
              "      <td>38.100000</td>\n",
              "      <td>0.045000</td>\n",
              "      <td>8.181304e+09</td>\n",
              "      <td>...</td>\n",
              "      <td>0.000000</td>\n",
              "      <td>0.000000</td>\n",
              "      <td>0.000000</td>\n",
              "      <td>0.000000</td>\n",
              "      <td>0.000000</td>\n",
              "      <td>-1.000000</td>\n",
              "      <td>-1.000000</td>\n",
              "      <td>-1.000000</td>\n",
              "      <td>-1.000000</td>\n",
              "      <td>-1.000000</td>\n",
              "    </tr>\n",
              "    <tr>\n",
              "      <th>25%</th>\n",
              "      <td>49.000000</td>\n",
              "      <td>25.000000</td>\n",
              "      <td>49.000000</td>\n",
              "      <td>158.500000</td>\n",
              "      <td>19.146722</td>\n",
              "      <td>29.100000</td>\n",
              "      <td>29.800000</td>\n",
              "      <td>42.500000</td>\n",
              "      <td>0.120000</td>\n",
              "      <td>8.423330e+09</td>\n",
              "      <td>...</td>\n",
              "      <td>1.000000</td>\n",
              "      <td>1.000000</td>\n",
              "      <td>1.000000</td>\n",
              "      <td>0.000000</td>\n",
              "      <td>0.000000</td>\n",
              "      <td>-1.000000</td>\n",
              "      <td>0.000000</td>\n",
              "      <td>0.000000</td>\n",
              "      <td>-1.000000</td>\n",
              "      <td>-1.000000</td>\n",
              "    </tr>\n",
              "    <tr>\n",
              "      <th>50%</th>\n",
              "      <td>97.000000</td>\n",
              "      <td>27.000000</td>\n",
              "      <td>63.000000</td>\n",
              "      <td>169.000000</td>\n",
              "      <td>22.230987</td>\n",
              "      <td>30.800000</td>\n",
              "      <td>31.800000</td>\n",
              "      <td>46.600000</td>\n",
              "      <td>0.185000</td>\n",
              "      <td>8.647977e+09</td>\n",
              "      <td>...</td>\n",
              "      <td>2.000000</td>\n",
              "      <td>2.000000</td>\n",
              "      <td>2.000000</td>\n",
              "      <td>2.000000</td>\n",
              "      <td>2.000000</td>\n",
              "      <td>-1.000000</td>\n",
              "      <td>0.000000</td>\n",
              "      <td>1.000000</td>\n",
              "      <td>0.000000</td>\n",
              "      <td>0.000000</td>\n",
              "    </tr>\n",
              "    <tr>\n",
              "      <th>75%</th>\n",
              "      <td>145.000000</td>\n",
              "      <td>36.000000</td>\n",
              "      <td>76.500000</td>\n",
              "      <td>173.500000</td>\n",
              "      <td>27.548209</td>\n",
              "      <td>32.700000</td>\n",
              "      <td>33.100000</td>\n",
              "      <td>56.100000</td>\n",
              "      <td>0.330000</td>\n",
              "      <td>8.796388e+09</td>\n",
              "      <td>...</td>\n",
              "      <td>4.000000</td>\n",
              "      <td>3.000000</td>\n",
              "      <td>3.000000</td>\n",
              "      <td>4.000000</td>\n",
              "      <td>4.000000</td>\n",
              "      <td>0.000000</td>\n",
              "      <td>0.000000</td>\n",
              "      <td>1.000000</td>\n",
              "      <td>0.000000</td>\n",
              "      <td>0.000000</td>\n",
              "    </tr>\n",
              "    <tr>\n",
              "      <th>max</th>\n",
              "      <td>193.000000</td>\n",
              "      <td>70.000000</td>\n",
              "      <td>147.000000</td>\n",
              "      <td>187.000000</td>\n",
              "      <td>48.553310</td>\n",
              "      <td>35.600000</td>\n",
              "      <td>36.200000</td>\n",
              "      <td>64.200000</td>\n",
              "      <td>1.765000</td>\n",
              "      <td>9.157997e+09</td>\n",
              "      <td>...</td>\n",
              "      <td>6.000000</td>\n",
              "      <td>6.000000</td>\n",
              "      <td>6.000000</td>\n",
              "      <td>6.000000</td>\n",
              "      <td>6.000000</td>\n",
              "      <td>1.000000</td>\n",
              "      <td>1.000000</td>\n",
              "      <td>1.000000</td>\n",
              "      <td>1.000000</td>\n",
              "      <td>1.000000</td>\n",
              "    </tr>\n",
              "  </tbody>\n",
              "</table>\n",
              "<p>8 rows × 32 columns</p>\n",
              "</div>\n",
              "    <div class=\"colab-df-buttons\">\n",
              "\n",
              "  <div class=\"colab-df-container\">\n",
              "    <button class=\"colab-df-convert\" onclick=\"convertToInteractive('df-18e00c62-7c97-420b-92de-55d37b098387')\"\n",
              "            title=\"Convert this dataframe to an interactive table.\"\n",
              "            style=\"display:none;\">\n",
              "\n",
              "  <svg xmlns=\"http://www.w3.org/2000/svg\" height=\"24px\" viewBox=\"0 -960 960 960\">\n",
              "    <path d=\"M120-120v-720h720v720H120Zm60-500h600v-160H180v160Zm220 220h160v-160H400v160Zm0 220h160v-160H400v160ZM180-400h160v-160H180v160Zm440 0h160v-160H620v160ZM180-180h160v-160H180v160Zm440 0h160v-160H620v160Z\"/>\n",
              "  </svg>\n",
              "    </button>\n",
              "\n",
              "  <style>\n",
              "    .colab-df-container {\n",
              "      display:flex;\n",
              "      gap: 12px;\n",
              "    }\n",
              "\n",
              "    .colab-df-convert {\n",
              "      background-color: #E8F0FE;\n",
              "      border: none;\n",
              "      border-radius: 50%;\n",
              "      cursor: pointer;\n",
              "      display: none;\n",
              "      fill: #1967D2;\n",
              "      height: 32px;\n",
              "      padding: 0 0 0 0;\n",
              "      width: 32px;\n",
              "    }\n",
              "\n",
              "    .colab-df-convert:hover {\n",
              "      background-color: #E2EBFA;\n",
              "      box-shadow: 0px 1px 2px rgba(60, 64, 67, 0.3), 0px 1px 3px 1px rgba(60, 64, 67, 0.15);\n",
              "      fill: #174EA6;\n",
              "    }\n",
              "\n",
              "    .colab-df-buttons div {\n",
              "      margin-bottom: 4px;\n",
              "    }\n",
              "\n",
              "    [theme=dark] .colab-df-convert {\n",
              "      background-color: #3B4455;\n",
              "      fill: #D2E3FC;\n",
              "    }\n",
              "\n",
              "    [theme=dark] .colab-df-convert:hover {\n",
              "      background-color: #434B5C;\n",
              "      box-shadow: 0px 1px 3px 1px rgba(0, 0, 0, 0.15);\n",
              "      filter: drop-shadow(0px 1px 2px rgba(0, 0, 0, 0.3));\n",
              "      fill: #FFFFFF;\n",
              "    }\n",
              "  </style>\n",
              "\n",
              "    <script>\n",
              "      const buttonEl =\n",
              "        document.querySelector('#df-18e00c62-7c97-420b-92de-55d37b098387 button.colab-df-convert');\n",
              "      buttonEl.style.display =\n",
              "        google.colab.kernel.accessAllowed ? 'block' : 'none';\n",
              "\n",
              "      async function convertToInteractive(key) {\n",
              "        const element = document.querySelector('#df-18e00c62-7c97-420b-92de-55d37b098387');\n",
              "        const dataTable =\n",
              "          await google.colab.kernel.invokeFunction('convertToInteractive',\n",
              "                                                    [key], {});\n",
              "        if (!dataTable) return;\n",
              "\n",
              "        const docLinkHtml = 'Like what you see? Visit the ' +\n",
              "          '<a target=\"_blank\" href=https://colab.research.google.com/notebooks/data_table.ipynb>data table notebook</a>'\n",
              "          + ' to learn more about interactive tables.';\n",
              "        element.innerHTML = '';\n",
              "        dataTable['output_type'] = 'display_data';\n",
              "        await google.colab.output.renderOutput(dataTable, element);\n",
              "        const docLink = document.createElement('div');\n",
              "        docLink.innerHTML = docLinkHtml;\n",
              "        element.appendChild(docLink);\n",
              "      }\n",
              "    </script>\n",
              "  </div>\n",
              "\n",
              "\n",
              "<div id=\"df-f47779f3-ce65-4f2f-b1c8-174719561b62\">\n",
              "  <button class=\"colab-df-quickchart\" onclick=\"quickchart('df-f47779f3-ce65-4f2f-b1c8-174719561b62')\"\n",
              "            title=\"Suggest charts.\"\n",
              "            style=\"display:none;\">\n",
              "\n",
              "<svg xmlns=\"http://www.w3.org/2000/svg\" height=\"24px\"viewBox=\"0 0 24 24\"\n",
              "     width=\"24px\">\n",
              "    <g>\n",
              "        <path d=\"M19 3H5c-1.1 0-2 .9-2 2v14c0 1.1.9 2 2 2h14c1.1 0 2-.9 2-2V5c0-1.1-.9-2-2-2zM9 17H7v-7h2v7zm4 0h-2V7h2v10zm4 0h-2v-4h2v4z\"/>\n",
              "    </g>\n",
              "</svg>\n",
              "  </button>\n",
              "\n",
              "<style>\n",
              "  .colab-df-quickchart {\n",
              "      --bg-color: #E8F0FE;\n",
              "      --fill-color: #1967D2;\n",
              "      --hover-bg-color: #E2EBFA;\n",
              "      --hover-fill-color: #174EA6;\n",
              "      --disabled-fill-color: #AAA;\n",
              "      --disabled-bg-color: #DDD;\n",
              "  }\n",
              "\n",
              "  [theme=dark] .colab-df-quickchart {\n",
              "      --bg-color: #3B4455;\n",
              "      --fill-color: #D2E3FC;\n",
              "      --hover-bg-color: #434B5C;\n",
              "      --hover-fill-color: #FFFFFF;\n",
              "      --disabled-bg-color: #3B4455;\n",
              "      --disabled-fill-color: #666;\n",
              "  }\n",
              "\n",
              "  .colab-df-quickchart {\n",
              "    background-color: var(--bg-color);\n",
              "    border: none;\n",
              "    border-radius: 50%;\n",
              "    cursor: pointer;\n",
              "    display: none;\n",
              "    fill: var(--fill-color);\n",
              "    height: 32px;\n",
              "    padding: 0;\n",
              "    width: 32px;\n",
              "  }\n",
              "\n",
              "  .colab-df-quickchart:hover {\n",
              "    background-color: var(--hover-bg-color);\n",
              "    box-shadow: 0 1px 2px rgba(60, 64, 67, 0.3), 0 1px 3px 1px rgba(60, 64, 67, 0.15);\n",
              "    fill: var(--button-hover-fill-color);\n",
              "  }\n",
              "\n",
              "  .colab-df-quickchart-complete:disabled,\n",
              "  .colab-df-quickchart-complete:disabled:hover {\n",
              "    background-color: var(--disabled-bg-color);\n",
              "    fill: var(--disabled-fill-color);\n",
              "    box-shadow: none;\n",
              "  }\n",
              "\n",
              "  .colab-df-spinner {\n",
              "    border: 2px solid var(--fill-color);\n",
              "    border-color: transparent;\n",
              "    border-bottom-color: var(--fill-color);\n",
              "    animation:\n",
              "      spin 1s steps(1) infinite;\n",
              "  }\n",
              "\n",
              "  @keyframes spin {\n",
              "    0% {\n",
              "      border-color: transparent;\n",
              "      border-bottom-color: var(--fill-color);\n",
              "      border-left-color: var(--fill-color);\n",
              "    }\n",
              "    20% {\n",
              "      border-color: transparent;\n",
              "      border-left-color: var(--fill-color);\n",
              "      border-top-color: var(--fill-color);\n",
              "    }\n",
              "    30% {\n",
              "      border-color: transparent;\n",
              "      border-left-color: var(--fill-color);\n",
              "      border-top-color: var(--fill-color);\n",
              "      border-right-color: var(--fill-color);\n",
              "    }\n",
              "    40% {\n",
              "      border-color: transparent;\n",
              "      border-right-color: var(--fill-color);\n",
              "      border-top-color: var(--fill-color);\n",
              "    }\n",
              "    60% {\n",
              "      border-color: transparent;\n",
              "      border-right-color: var(--fill-color);\n",
              "    }\n",
              "    80% {\n",
              "      border-color: transparent;\n",
              "      border-right-color: var(--fill-color);\n",
              "      border-bottom-color: var(--fill-color);\n",
              "    }\n",
              "    90% {\n",
              "      border-color: transparent;\n",
              "      border-bottom-color: var(--fill-color);\n",
              "    }\n",
              "  }\n",
              "</style>\n",
              "\n",
              "  <script>\n",
              "    async function quickchart(key) {\n",
              "      const quickchartButtonEl =\n",
              "        document.querySelector('#' + key + ' button');\n",
              "      quickchartButtonEl.disabled = true;  // To prevent multiple clicks.\n",
              "      quickchartButtonEl.classList.add('colab-df-spinner');\n",
              "      try {\n",
              "        const charts = await google.colab.kernel.invokeFunction(\n",
              "            'suggestCharts', [key], {});\n",
              "      } catch (error) {\n",
              "        console.error('Error during call to suggestCharts:', error);\n",
              "      }\n",
              "      quickchartButtonEl.classList.remove('colab-df-spinner');\n",
              "      quickchartButtonEl.classList.add('colab-df-quickchart-complete');\n",
              "    }\n",
              "    (() => {\n",
              "      let quickchartButtonEl =\n",
              "        document.querySelector('#df-f47779f3-ce65-4f2f-b1c8-174719561b62 button');\n",
              "      quickchartButtonEl.style.display =\n",
              "        google.colab.kernel.accessAllowed ? 'block' : 'none';\n",
              "    })();\n",
              "  </script>\n",
              "</div>\n",
              "    </div>\n",
              "  </div>\n"
            ]
          },
          "metadata": {},
          "execution_count": 52
        }
      ]
    },
    {
      "cell_type": "markdown",
      "source": [
        "##ดูค่าว่าง"
      ],
      "metadata": {
        "id": "qswzmjBJcagN"
      }
    },
    {
      "cell_type": "code",
      "source": [
        "data.isnull().sum()"
      ],
      "metadata": {
        "colab": {
          "base_uri": "https://localhost:8080/"
        },
        "id": "yTUAK0dtb0MF",
        "outputId": "167a9ab9-22a8-45d7-fc25-e445c469ed39"
      },
      "execution_count": 53,
      "outputs": [
        {
          "output_type": "execute_result",
          "data": {
            "text/plain": [
              "No                          0\n",
              "วันที่                      0\n",
              "เพศ                         0\n",
              "Age                         0\n",
              "Weight                      2\n",
              "Height                      2\n",
              "BMI                         2\n",
              "พื้นที่ทำแบบสอบถาม          0\n",
              "เวลา                        0\n",
              "Temp                        0\n",
              "Globe temp                  0\n",
              "%RH                         0\n",
              "V (m/s)                     0\n",
              "วงเล็บ 1                    0\n",
              "สมการหลัง บวก               0\n",
              "วงเล็บ 2                    0\n",
              "ยกกำลัง 1 ส่วน 4/ 0.25      0\n",
              "ลบ 273.15                   0\n",
              "Thermal acceptance          0\n",
              "-3                        193\n",
              "-2                        189\n",
              "-1                        154\n",
              "0                         134\n",
              "+1                        140\n",
              "+2                        171\n",
              "+3                        177\n",
              "Thermal sensation Vote      0\n",
              "อุณหภูมิ                    0\n",
              "ความชื้น                    0\n",
              "กระแสลม                     0\n",
              "ความแรงของแสงแดด            0\n",
              "เหงื่อบริเวณผิวหนัง         0\n",
              "ความร้อน                    0\n",
              "ความชื้น.1                  0\n",
              "กระแสลม.1                   0\n",
              "แสงแดด                      0\n",
              "เหงื่อบริเวณผิวหนัง.1       0\n",
              "dtype: int64"
            ]
          },
          "metadata": {},
          "execution_count": 53
        }
      ]
    },
    {
      "cell_type": "markdown",
      "source": [
        "#Data Cleaning"
      ],
      "metadata": {
        "id": "L9LzPU51cG9v"
      }
    },
    {
      "cell_type": "markdown",
      "source": [
        "จัดการกับค่าว่างด้วย KNN"
      ],
      "metadata": {
        "id": "ziNe8wyncJts"
      }
    },
    {
      "cell_type": "code",
      "execution_count": null,
      "metadata": {
        "colab": {
          "base_uri": "https://localhost:8080/"
        },
        "id": "FgGFF7RCHe40",
        "outputId": "6ee425a5-0194-4cbf-cbd4-947630c68d09"
      },
      "outputs": [
        {
          "output_type": "execute_result",
          "data": {
            "text/plain": [
              "array([[ 78.        , 185.        ],\n",
              "       [ 65.        , 169.        ],\n",
              "       [ 68.54450262, 167.33507853],\n",
              "       [ 64.        , 154.        ],\n",
              "       [ 65.        , 150.        ]])"
            ]
          },
          "metadata": {},
          "execution_count": 21
        }
      ],
      "source": [
        "from sklearn.impute import KNNImputer\n",
        "\n",
        "imputer = KNNImputer(n_neighbors=5)\n",
        "imputed = imputer.fit_transform(data[['Weight', 'Height']])\n",
        "imputed[163:168]\n"
      ]
    },
    {
      "cell_type": "code",
      "execution_count": null,
      "metadata": {
        "colab": {
          "base_uri": "https://localhost:8080/"
        },
        "id": "pRtBlUi1M07h",
        "outputId": "3beca310-5316-476e-d395-098bb3a1852b"
      },
      "outputs": [
        {
          "output_type": "execute_result",
          "data": {
            "text/plain": [
              "array([[ 49.        , 169.        ],\n",
              "       [ 46.        , 155.        ],\n",
              "       [ 63.        , 173.        ],\n",
              "       [ 89.        , 153.        ],\n",
              "       [ 68.54450262, 167.33507853],\n",
              "       [ 62.        , 163.        ],\n",
              "       [ 60.        , 155.        ]])"
            ]
          },
          "metadata": {},
          "execution_count": 22
        }
      ],
      "source": [
        "imputed[123:130]"
      ]
    },
    {
      "cell_type": "code",
      "execution_count": null,
      "metadata": {
        "id": "a_ktox5iWpUw"
      },
      "outputs": [],
      "source": [
        "data.Weight.fillna(68, inplace=True)\n",
        "data.Height.fillna(167, inplace=True)"
      ]
    },
    {
      "cell_type": "code",
      "execution_count": null,
      "metadata": {
        "colab": {
          "base_uri": "https://localhost:8080/"
        },
        "id": "ulOirXuBaI6e",
        "outputId": "ea01b772-a18c-47b1-952f-85ecbcc91ed7"
      },
      "outputs": [
        {
          "output_type": "execute_result",
          "data": {
            "text/plain": [
              "24.38237297859371"
            ]
          },
          "metadata": {},
          "execution_count": 24
        }
      ],
      "source": [
        "BMI1 = 68/(1.67**2)\n",
        "BMI1"
      ]
    },
    {
      "cell_type": "code",
      "execution_count": null,
      "metadata": {
        "id": "K-D_vgipaqYp"
      },
      "outputs": [],
      "source": [
        "data.BMI.fillna(BMI1, inplace=True)"
      ]
    },
    {
      "cell_type": "code",
      "execution_count": null,
      "metadata": {
        "colab": {
          "base_uri": "https://localhost:8080/",
          "height": 377
        },
        "id": "HkQZ3sOTYRKK",
        "outputId": "f98c7004-23ec-4d83-ca82-b9af864060d8"
      },
      "outputs": [
        {
          "output_type": "execute_result",
          "data": {
            "text/plain": [
              "      No               วันที่   Sex  Age  Weight  Height        BMI  \\\n",
              "125  126  2023-01-06 00:00:00   ชาย   20    63.0   173.0  21.049818   \n",
              "126  127  2023-01-06 00:00:00  หญิง   25    89.0   153.0  38.019565   \n",
              "127  128           13/05/2023   ชาย   57    68.0   167.0  24.382373   \n",
              "128  129           13/05/2023   ชาย   56    62.0   163.0  23.335466   \n",
              "129  130           13/05/2023  หญิง   60    60.0   155.0  24.973985   \n",
              "\n",
              "     พื้นที่ทำแบบสอบถาม      เวลา  Temp  ...  อุณหภูมิ  ความชื้น  กระแสลม  \\\n",
              "125  ภายนอก / ใต้ร่มไม้  15:44 PM  30.2  ...         2         4        0   \n",
              "126  ภายนอก / ใต้ร่มไม้  15:44 PM  30.2  ...         1         0        1   \n",
              "127         ภายใต้อาคาร  11.50 AM  32.7  ...         3         4        2   \n",
              "128         ภายใต้อาคาร  11.50 AM  32.7  ...         2         3        2   \n",
              "129         ภายใต้อาคาร  11.58 AM  32.2  ...         6         3        1   \n",
              "\n",
              "     ความแรงของแสงแดด  เหงื่อบริเวณผิวหนัง  ความร้อน  ความชื้น.1  กระแสลม.1  \\\n",
              "125                 0                    4        -1          -1          1   \n",
              "126                 1                    2         0           0          1   \n",
              "127                 3                    3        -1           0          1   \n",
              "128                 2                    0        -1           0          1   \n",
              "129                 6                    5        -1          -1          1   \n",
              "\n",
              "    แสงแดด  เหงื่อบริเวณผิวหนัง.1  \n",
              "125      0                      0  \n",
              "126      0                     -1  \n",
              "127      0                     -1  \n",
              "128     -1                      0  \n",
              "129     -1                     -1  \n",
              "\n",
              "[5 rows x 37 columns]"
            ],
            "text/html": [
              "\n",
              "  <div id=\"df-7cbf3337-1db2-46aa-8c10-0f0201bebe82\" class=\"colab-df-container\">\n",
              "    <div>\n",
              "<style scoped>\n",
              "    .dataframe tbody tr th:only-of-type {\n",
              "        vertical-align: middle;\n",
              "    }\n",
              "\n",
              "    .dataframe tbody tr th {\n",
              "        vertical-align: top;\n",
              "    }\n",
              "\n",
              "    .dataframe thead th {\n",
              "        text-align: right;\n",
              "    }\n",
              "</style>\n",
              "<table border=\"1\" class=\"dataframe\">\n",
              "  <thead>\n",
              "    <tr style=\"text-align: right;\">\n",
              "      <th></th>\n",
              "      <th>No</th>\n",
              "      <th>วันที่</th>\n",
              "      <th>Sex</th>\n",
              "      <th>Age</th>\n",
              "      <th>Weight</th>\n",
              "      <th>Height</th>\n",
              "      <th>BMI</th>\n",
              "      <th>พื้นที่ทำแบบสอบถาม</th>\n",
              "      <th>เวลา</th>\n",
              "      <th>Temp</th>\n",
              "      <th>...</th>\n",
              "      <th>อุณหภูมิ</th>\n",
              "      <th>ความชื้น</th>\n",
              "      <th>กระแสลม</th>\n",
              "      <th>ความแรงของแสงแดด</th>\n",
              "      <th>เหงื่อบริเวณผิวหนัง</th>\n",
              "      <th>ความร้อน</th>\n",
              "      <th>ความชื้น.1</th>\n",
              "      <th>กระแสลม.1</th>\n",
              "      <th>แสงแดด</th>\n",
              "      <th>เหงื่อบริเวณผิวหนัง.1</th>\n",
              "    </tr>\n",
              "  </thead>\n",
              "  <tbody>\n",
              "    <tr>\n",
              "      <th>125</th>\n",
              "      <td>126</td>\n",
              "      <td>2023-01-06 00:00:00</td>\n",
              "      <td>ชาย</td>\n",
              "      <td>20</td>\n",
              "      <td>63.0</td>\n",
              "      <td>173.0</td>\n",
              "      <td>21.049818</td>\n",
              "      <td>ภายนอก / ใต้ร่มไม้</td>\n",
              "      <td>15:44 PM</td>\n",
              "      <td>30.2</td>\n",
              "      <td>...</td>\n",
              "      <td>2</td>\n",
              "      <td>4</td>\n",
              "      <td>0</td>\n",
              "      <td>0</td>\n",
              "      <td>4</td>\n",
              "      <td>-1</td>\n",
              "      <td>-1</td>\n",
              "      <td>1</td>\n",
              "      <td>0</td>\n",
              "      <td>0</td>\n",
              "    </tr>\n",
              "    <tr>\n",
              "      <th>126</th>\n",
              "      <td>127</td>\n",
              "      <td>2023-01-06 00:00:00</td>\n",
              "      <td>หญิง</td>\n",
              "      <td>25</td>\n",
              "      <td>89.0</td>\n",
              "      <td>153.0</td>\n",
              "      <td>38.019565</td>\n",
              "      <td>ภายนอก / ใต้ร่มไม้</td>\n",
              "      <td>15:44 PM</td>\n",
              "      <td>30.2</td>\n",
              "      <td>...</td>\n",
              "      <td>1</td>\n",
              "      <td>0</td>\n",
              "      <td>1</td>\n",
              "      <td>1</td>\n",
              "      <td>2</td>\n",
              "      <td>0</td>\n",
              "      <td>0</td>\n",
              "      <td>1</td>\n",
              "      <td>0</td>\n",
              "      <td>-1</td>\n",
              "    </tr>\n",
              "    <tr>\n",
              "      <th>127</th>\n",
              "      <td>128</td>\n",
              "      <td>13/05/2023</td>\n",
              "      <td>ชาย</td>\n",
              "      <td>57</td>\n",
              "      <td>68.0</td>\n",
              "      <td>167.0</td>\n",
              "      <td>24.382373</td>\n",
              "      <td>ภายใต้อาคาร</td>\n",
              "      <td>11.50 AM</td>\n",
              "      <td>32.7</td>\n",
              "      <td>...</td>\n",
              "      <td>3</td>\n",
              "      <td>4</td>\n",
              "      <td>2</td>\n",
              "      <td>3</td>\n",
              "      <td>3</td>\n",
              "      <td>-1</td>\n",
              "      <td>0</td>\n",
              "      <td>1</td>\n",
              "      <td>0</td>\n",
              "      <td>-1</td>\n",
              "    </tr>\n",
              "    <tr>\n",
              "      <th>128</th>\n",
              "      <td>129</td>\n",
              "      <td>13/05/2023</td>\n",
              "      <td>ชาย</td>\n",
              "      <td>56</td>\n",
              "      <td>62.0</td>\n",
              "      <td>163.0</td>\n",
              "      <td>23.335466</td>\n",
              "      <td>ภายใต้อาคาร</td>\n",
              "      <td>11.50 AM</td>\n",
              "      <td>32.7</td>\n",
              "      <td>...</td>\n",
              "      <td>2</td>\n",
              "      <td>3</td>\n",
              "      <td>2</td>\n",
              "      <td>2</td>\n",
              "      <td>0</td>\n",
              "      <td>-1</td>\n",
              "      <td>0</td>\n",
              "      <td>1</td>\n",
              "      <td>-1</td>\n",
              "      <td>0</td>\n",
              "    </tr>\n",
              "    <tr>\n",
              "      <th>129</th>\n",
              "      <td>130</td>\n",
              "      <td>13/05/2023</td>\n",
              "      <td>หญิง</td>\n",
              "      <td>60</td>\n",
              "      <td>60.0</td>\n",
              "      <td>155.0</td>\n",
              "      <td>24.973985</td>\n",
              "      <td>ภายใต้อาคาร</td>\n",
              "      <td>11.58 AM</td>\n",
              "      <td>32.2</td>\n",
              "      <td>...</td>\n",
              "      <td>6</td>\n",
              "      <td>3</td>\n",
              "      <td>1</td>\n",
              "      <td>6</td>\n",
              "      <td>5</td>\n",
              "      <td>-1</td>\n",
              "      <td>-1</td>\n",
              "      <td>1</td>\n",
              "      <td>-1</td>\n",
              "      <td>-1</td>\n",
              "    </tr>\n",
              "  </tbody>\n",
              "</table>\n",
              "<p>5 rows × 37 columns</p>\n",
              "</div>\n",
              "    <div class=\"colab-df-buttons\">\n",
              "\n",
              "  <div class=\"colab-df-container\">\n",
              "    <button class=\"colab-df-convert\" onclick=\"convertToInteractive('df-7cbf3337-1db2-46aa-8c10-0f0201bebe82')\"\n",
              "            title=\"Convert this dataframe to an interactive table.\"\n",
              "            style=\"display:none;\">\n",
              "\n",
              "  <svg xmlns=\"http://www.w3.org/2000/svg\" height=\"24px\" viewBox=\"0 -960 960 960\">\n",
              "    <path d=\"M120-120v-720h720v720H120Zm60-500h600v-160H180v160Zm220 220h160v-160H400v160Zm0 220h160v-160H400v160ZM180-400h160v-160H180v160Zm440 0h160v-160H620v160ZM180-180h160v-160H180v160Zm440 0h160v-160H620v160Z\"/>\n",
              "  </svg>\n",
              "    </button>\n",
              "\n",
              "  <style>\n",
              "    .colab-df-container {\n",
              "      display:flex;\n",
              "      gap: 12px;\n",
              "    }\n",
              "\n",
              "    .colab-df-convert {\n",
              "      background-color: #E8F0FE;\n",
              "      border: none;\n",
              "      border-radius: 50%;\n",
              "      cursor: pointer;\n",
              "      display: none;\n",
              "      fill: #1967D2;\n",
              "      height: 32px;\n",
              "      padding: 0 0 0 0;\n",
              "      width: 32px;\n",
              "    }\n",
              "\n",
              "    .colab-df-convert:hover {\n",
              "      background-color: #E2EBFA;\n",
              "      box-shadow: 0px 1px 2px rgba(60, 64, 67, 0.3), 0px 1px 3px 1px rgba(60, 64, 67, 0.15);\n",
              "      fill: #174EA6;\n",
              "    }\n",
              "\n",
              "    .colab-df-buttons div {\n",
              "      margin-bottom: 4px;\n",
              "    }\n",
              "\n",
              "    [theme=dark] .colab-df-convert {\n",
              "      background-color: #3B4455;\n",
              "      fill: #D2E3FC;\n",
              "    }\n",
              "\n",
              "    [theme=dark] .colab-df-convert:hover {\n",
              "      background-color: #434B5C;\n",
              "      box-shadow: 0px 1px 3px 1px rgba(0, 0, 0, 0.15);\n",
              "      filter: drop-shadow(0px 1px 2px rgba(0, 0, 0, 0.3));\n",
              "      fill: #FFFFFF;\n",
              "    }\n",
              "  </style>\n",
              "\n",
              "    <script>\n",
              "      const buttonEl =\n",
              "        document.querySelector('#df-7cbf3337-1db2-46aa-8c10-0f0201bebe82 button.colab-df-convert');\n",
              "      buttonEl.style.display =\n",
              "        google.colab.kernel.accessAllowed ? 'block' : 'none';\n",
              "\n",
              "      async function convertToInteractive(key) {\n",
              "        const element = document.querySelector('#df-7cbf3337-1db2-46aa-8c10-0f0201bebe82');\n",
              "        const dataTable =\n",
              "          await google.colab.kernel.invokeFunction('convertToInteractive',\n",
              "                                                    [key], {});\n",
              "        if (!dataTable) return;\n",
              "\n",
              "        const docLinkHtml = 'Like what you see? Visit the ' +\n",
              "          '<a target=\"_blank\" href=https://colab.research.google.com/notebooks/data_table.ipynb>data table notebook</a>'\n",
              "          + ' to learn more about interactive tables.';\n",
              "        element.innerHTML = '';\n",
              "        dataTable['output_type'] = 'display_data';\n",
              "        await google.colab.output.renderOutput(dataTable, element);\n",
              "        const docLink = document.createElement('div');\n",
              "        docLink.innerHTML = docLinkHtml;\n",
              "        element.appendChild(docLink);\n",
              "      }\n",
              "    </script>\n",
              "  </div>\n",
              "\n",
              "\n",
              "<div id=\"df-4ecf879e-4691-401a-85d5-a1d55030dbab\">\n",
              "  <button class=\"colab-df-quickchart\" onclick=\"quickchart('df-4ecf879e-4691-401a-85d5-a1d55030dbab')\"\n",
              "            title=\"Suggest charts.\"\n",
              "            style=\"display:none;\">\n",
              "\n",
              "<svg xmlns=\"http://www.w3.org/2000/svg\" height=\"24px\"viewBox=\"0 0 24 24\"\n",
              "     width=\"24px\">\n",
              "    <g>\n",
              "        <path d=\"M19 3H5c-1.1 0-2 .9-2 2v14c0 1.1.9 2 2 2h14c1.1 0 2-.9 2-2V5c0-1.1-.9-2-2-2zM9 17H7v-7h2v7zm4 0h-2V7h2v10zm4 0h-2v-4h2v4z\"/>\n",
              "    </g>\n",
              "</svg>\n",
              "  </button>\n",
              "\n",
              "<style>\n",
              "  .colab-df-quickchart {\n",
              "      --bg-color: #E8F0FE;\n",
              "      --fill-color: #1967D2;\n",
              "      --hover-bg-color: #E2EBFA;\n",
              "      --hover-fill-color: #174EA6;\n",
              "      --disabled-fill-color: #AAA;\n",
              "      --disabled-bg-color: #DDD;\n",
              "  }\n",
              "\n",
              "  [theme=dark] .colab-df-quickchart {\n",
              "      --bg-color: #3B4455;\n",
              "      --fill-color: #D2E3FC;\n",
              "      --hover-bg-color: #434B5C;\n",
              "      --hover-fill-color: #FFFFFF;\n",
              "      --disabled-bg-color: #3B4455;\n",
              "      --disabled-fill-color: #666;\n",
              "  }\n",
              "\n",
              "  .colab-df-quickchart {\n",
              "    background-color: var(--bg-color);\n",
              "    border: none;\n",
              "    border-radius: 50%;\n",
              "    cursor: pointer;\n",
              "    display: none;\n",
              "    fill: var(--fill-color);\n",
              "    height: 32px;\n",
              "    padding: 0;\n",
              "    width: 32px;\n",
              "  }\n",
              "\n",
              "  .colab-df-quickchart:hover {\n",
              "    background-color: var(--hover-bg-color);\n",
              "    box-shadow: 0 1px 2px rgba(60, 64, 67, 0.3), 0 1px 3px 1px rgba(60, 64, 67, 0.15);\n",
              "    fill: var(--button-hover-fill-color);\n",
              "  }\n",
              "\n",
              "  .colab-df-quickchart-complete:disabled,\n",
              "  .colab-df-quickchart-complete:disabled:hover {\n",
              "    background-color: var(--disabled-bg-color);\n",
              "    fill: var(--disabled-fill-color);\n",
              "    box-shadow: none;\n",
              "  }\n",
              "\n",
              "  .colab-df-spinner {\n",
              "    border: 2px solid var(--fill-color);\n",
              "    border-color: transparent;\n",
              "    border-bottom-color: var(--fill-color);\n",
              "    animation:\n",
              "      spin 1s steps(1) infinite;\n",
              "  }\n",
              "\n",
              "  @keyframes spin {\n",
              "    0% {\n",
              "      border-color: transparent;\n",
              "      border-bottom-color: var(--fill-color);\n",
              "      border-left-color: var(--fill-color);\n",
              "    }\n",
              "    20% {\n",
              "      border-color: transparent;\n",
              "      border-left-color: var(--fill-color);\n",
              "      border-top-color: var(--fill-color);\n",
              "    }\n",
              "    30% {\n",
              "      border-color: transparent;\n",
              "      border-left-color: var(--fill-color);\n",
              "      border-top-color: var(--fill-color);\n",
              "      border-right-color: var(--fill-color);\n",
              "    }\n",
              "    40% {\n",
              "      border-color: transparent;\n",
              "      border-right-color: var(--fill-color);\n",
              "      border-top-color: var(--fill-color);\n",
              "    }\n",
              "    60% {\n",
              "      border-color: transparent;\n",
              "      border-right-color: var(--fill-color);\n",
              "    }\n",
              "    80% {\n",
              "      border-color: transparent;\n",
              "      border-right-color: var(--fill-color);\n",
              "      border-bottom-color: var(--fill-color);\n",
              "    }\n",
              "    90% {\n",
              "      border-color: transparent;\n",
              "      border-bottom-color: var(--fill-color);\n",
              "    }\n",
              "  }\n",
              "</style>\n",
              "\n",
              "  <script>\n",
              "    async function quickchart(key) {\n",
              "      const quickchartButtonEl =\n",
              "        document.querySelector('#' + key + ' button');\n",
              "      quickchartButtonEl.disabled = true;  // To prevent multiple clicks.\n",
              "      quickchartButtonEl.classList.add('colab-df-spinner');\n",
              "      try {\n",
              "        const charts = await google.colab.kernel.invokeFunction(\n",
              "            'suggestCharts', [key], {});\n",
              "      } catch (error) {\n",
              "        console.error('Error during call to suggestCharts:', error);\n",
              "      }\n",
              "      quickchartButtonEl.classList.remove('colab-df-spinner');\n",
              "      quickchartButtonEl.classList.add('colab-df-quickchart-complete');\n",
              "    }\n",
              "    (() => {\n",
              "      let quickchartButtonEl =\n",
              "        document.querySelector('#df-4ecf879e-4691-401a-85d5-a1d55030dbab button');\n",
              "      quickchartButtonEl.style.display =\n",
              "        google.colab.kernel.accessAllowed ? 'block' : 'none';\n",
              "    })();\n",
              "  </script>\n",
              "</div>\n",
              "    </div>\n",
              "  </div>\n"
            ]
          },
          "metadata": {},
          "execution_count": 26
        }
      ],
      "source": [
        "data[125:130]"
      ]
    },
    {
      "cell_type": "code",
      "execution_count": null,
      "metadata": {
        "colab": {
          "base_uri": "https://localhost:8080/"
        },
        "id": "QtV2sWObfitE",
        "outputId": "90478b7e-2850-4639-cb77-9dbbf2180e4a"
      },
      "outputs": [
        {
          "output_type": "execute_result",
          "data": {
            "text/plain": [
              "No                          0\n",
              "วันที่                      0\n",
              "Sex                         0\n",
              "Age                         0\n",
              "Weight                      0\n",
              "Height                      0\n",
              "BMI                         0\n",
              "พื้นที่ทำแบบสอบถาม          0\n",
              "เวลา                        0\n",
              "Temp                        0\n",
              "Globe temp                  0\n",
              "%RH                         0\n",
              "V (m/s)                     0\n",
              "วงเล็บ 1                    0\n",
              "สมการหลัง บวก               0\n",
              "วงเล็บ 2                    0\n",
              "ยกกำลัง 1 ส่วน 4/ 0.25      0\n",
              "ลบ 273.15                   0\n",
              "Thermal acceptance          0\n",
              "-3                        193\n",
              "-2                        189\n",
              "-1                        154\n",
              "0                         134\n",
              "+1                        140\n",
              "+2                        171\n",
              "+3                        177\n",
              "Thermal sensation Vote      0\n",
              "อุณหภูมิ                    0\n",
              "ความชื้น                    0\n",
              "กระแสลม                     0\n",
              "ความแรงของแสงแดด            0\n",
              "เหงื่อบริเวณผิวหนัง         0\n",
              "ความร้อน                    0\n",
              "ความชื้น.1                  0\n",
              "กระแสลม.1                   0\n",
              "แสงแดด                      0\n",
              "เหงื่อบริเวณผิวหนัง.1       0\n",
              "TMRT                        0\n",
              "Clo                         0\n",
              "Met                         0\n",
              "dtype: int64"
            ]
          },
          "metadata": {},
          "execution_count": 30
        }
      ],
      "source": [
        "data.isnull().sum()"
      ]
    },
    {
      "cell_type": "markdown",
      "source": [
        "##ดูค่า Outlier"
      ],
      "metadata": {
        "id": "F4dtOh8yccRI"
      }
    },
    {
      "cell_type": "code",
      "source": [
        "import matplotlib.pyplot as plt"
      ],
      "metadata": {
        "id": "vx5kwKZVBKQ3"
      },
      "execution_count": null,
      "outputs": []
    },
    {
      "cell_type": "code",
      "source": [
        "plt.boxplot(data['Weight'])"
      ],
      "metadata": {
        "colab": {
          "base_uri": "https://localhost:8080/",
          "height": 569
        },
        "id": "Nc8Wx1uJceX3",
        "outputId": "1655ee3d-912c-4655-e975-e9bf61034f24"
      },
      "execution_count": null,
      "outputs": [
        {
          "output_type": "execute_result",
          "data": {
            "text/plain": [
              "{'whiskers': [<matplotlib.lines.Line2D at 0x7d5cf913e860>,\n",
              "  <matplotlib.lines.Line2D at 0x7d5cf913eb60>],\n",
              " 'caps': [<matplotlib.lines.Line2D at 0x7d5cf913ee60>,\n",
              "  <matplotlib.lines.Line2D at 0x7d5cf913f160>],\n",
              " 'boxes': [<matplotlib.lines.Line2D at 0x7d5cf913e560>],\n",
              " 'medians': [<matplotlib.lines.Line2D at 0x7d5cf913f460>],\n",
              " 'fliers': [<matplotlib.lines.Line2D at 0x7d5cf913f760>],\n",
              " 'means': []}"
            ]
          },
          "metadata": {},
          "execution_count": 31
        },
        {
          "output_type": "display_data",
          "data": {
            "text/plain": [
              "<Figure size 640x480 with 1 Axes>"
            ],
            "image/png": "[encoded data removed]"
          },
          "metadata": {}
        }
      ]
    },
    {
      "cell_type": "code",
      "source": [
        "plt.boxplot(data['Height'])"
      ],
      "metadata": {
        "colab": {
          "base_uri": "https://localhost:8080/",
          "height": 569
        },
        "id": "c-GOpmlxcioT",
        "outputId": "c780df15-bb19-4671-f4d6-b69c7801015c"
      },
      "execution_count": null,
      "outputs": [
        {
          "output_type": "execute_result",
          "data": {
            "text/plain": [
              "{'whiskers': [<matplotlib.lines.Line2D at 0x7d5cfa328700>,\n",
              "  <matplotlib.lines.Line2D at 0x7d5cfa3041f0>],\n",
              " 'caps': [<matplotlib.lines.Line2D at 0x7d5cfa3044f0>,\n",
              "  <matplotlib.lines.Line2D at 0x7d5cfa304610>],\n",
              " 'boxes': [<matplotlib.lines.Line2D at 0x7d5cfa328580>],\n",
              " 'medians': [<matplotlib.lines.Line2D at 0x7d5cfa3047f0>],\n",
              " 'fliers': [<matplotlib.lines.Line2D at 0x7d5cfa304d90>],\n",
              " 'means': []}"
            ]
          },
          "metadata": {},
          "execution_count": 32
        },
        {
          "output_type": "display_data",
          "data": {
            "text/plain": [
              "<Figure size 640x480 with 1 Axes>"
            ],
            "image/png": "[encoded data removed]"
          },
          "metadata": {}
        }
      ]
    },
    {
      "cell_type": "code",
      "source": [
        "plt.boxplot(data['BMI'])"
      ],
      "metadata": {
        "colab": {
          "base_uri": "https://localhost:8080/",
          "height": 572
        },
        "id": "3qGVKKVlcvCG",
        "outputId": "b20b4bf0-93c9-43ea-9381-95607409e92d"
      },
      "execution_count": null,
      "outputs": [
        {
          "output_type": "execute_result",
          "data": {
            "text/plain": [
              "{'whiskers': [<matplotlib.lines.Line2D at 0x7d5d40aae410>,\n",
              "  <matplotlib.lines.Line2D at 0x7d5d40aae500>],\n",
              " 'caps': [<matplotlib.lines.Line2D at 0x7d5d40aae620>,\n",
              "  <matplotlib.lines.Line2D at 0x7d5d40aae980>],\n",
              " 'boxes': [<matplotlib.lines.Line2D at 0x7d5d40aadfc0>],\n",
              " 'medians': [<matplotlib.lines.Line2D at 0x7d5d40aaebc0>],\n",
              " 'fliers': [<matplotlib.lines.Line2D at 0x7d5d40aaf160>],\n",
              " 'means': []}"
            ]
          },
          "metadata": {},
          "execution_count": 33
        },
        {
          "output_type": "display_data",
          "data": {
            "text/plain": [
              "<Figure size 640x480 with 1 Axes>"
            ],
            "image/png": "[encoded data removed]"
          },
          "metadata": {}
        }
      ]
    },
    {
      "cell_type": "markdown",
      "source": [
        "#เพิ่มคอลัมน์ค่า TMRT clo และ met ตามลำดับ"
      ],
      "metadata": {
        "id": "4Sh4uXa25Ca_"
      }
    },
    {
      "cell_type": "code",
      "source": [
        "data[\"TMRT\"] = data['ยกกำลัง 1 ส่วน 4/ 0.25'] - data['ลบ 273.15']\n",
        "data[\"Clo\"] = 0.55\n",
        "data[\"Met\"] =  1.2\n",
        "data"
      ],
      "metadata": {
        "colab": {
          "base_uri": "https://localhost:8080/",
          "height": 565
        },
        "id": "vjKy5YIqfvVS",
        "outputId": "2c5b3631-f80b-47d8-e5cf-d7ed1269a33f"
      },
      "execution_count": null,
      "outputs": [
        {
          "output_type": "execute_result",
          "data": {
            "text/plain": [
              "      No               วันที่   Sex  Age  Weight  Height        BMI  \\\n",
              "0      1  2022-12-28 00:00:00   ชาย   27    49.0   169.0  17.156262   \n",
              "1      2  2022-12-28 00:00:00   ชาย   36    71.0   175.0  23.183673   \n",
              "2      3  2022-12-28 00:00:00  หญิง   25    89.0   153.0  38.019565   \n",
              "3      4  2022-12-28 00:00:00   ชาย   29    75.0   165.0  27.548209   \n",
              "4      5  2022-12-28 00:00:00   ชาย   28   118.0   187.0  33.744173   \n",
              "..   ...                  ...   ...  ...     ...     ...        ...   \n",
              "188  189           13/05/2023   ชาย   37    88.0   180.0  27.160494   \n",
              "189  190           13/05/2023  หญิง   23    47.0   159.0  18.591037   \n",
              "190  191           13/05/2023   ชาย   27    47.0   169.0  16.456006   \n",
              "191  192           13/05/2023   ชาย   57    68.0   171.0  23.255019   \n",
              "192  193           13/05/2023  หญิง   64    47.0   149.0  21.170218   \n",
              "\n",
              "       พื้นที่ทำแบบสอบถาม      เวลา  Temp  ...  ความแรงของแสงแดด  \\\n",
              "0    ภายนอก/ มีหลังคาคลุม  10:55 AM  30.5  ...                 3   \n",
              "1    ภายนอก/ มีหลังคาคลุม  10:55 AM  30.5  ...                 3   \n",
              "2    ภายนอก/ มีหลังคาคลุม  10:55 AM  30.5  ...                 1   \n",
              "3    ภายนอก/ มีหลังคาคลุม  10:55 AM  30.5  ...                 4   \n",
              "4    ภายนอก/ มีหลังคาคลุม  10:55 AM  30.5  ...                 3   \n",
              "..                    ...       ...   ...  ...               ...   \n",
              "188           ภายใต้อาคาร     16.26  35.6  ...                 3   \n",
              "189           ภายใต้อาคาร     16.26  35.6  ...                 3   \n",
              "190           ภายใต้อาคาร     16.26  35.6  ...                 5   \n",
              "191           ภายใต้อาคาร     16.26  35.6  ...                 0   \n",
              "192           ภายใต้อาคาร     16.26  35.6  ...                 4   \n",
              "\n",
              "     เหงื่อบริเวณผิวหนัง  ความร้อน  ความชื้น.1  กระแสลม.1  แสงแดด  \\\n",
              "0                      2         0          -1          0      -1   \n",
              "1                      1         0           0          1      -1   \n",
              "2                      1         0           0          0       0   \n",
              "3                      2        -1           0          0      -1   \n",
              "4                      0        -1          -1          0      -1   \n",
              "..                   ...       ...         ...        ...     ...   \n",
              "188                    2        -1           1          0      -1   \n",
              "189                    4        -1           1          1      -1   \n",
              "190                    3        -1          -1          1      -1   \n",
              "191                    3        -1           1          1      -1   \n",
              "192                    5        -1           0          0      -1   \n",
              "\n",
              "     เหงื่อบริเวณผิวหนัง.1       TMRT   Clo  Met  \n",
              "0                        0  30.628551  0.55  1.2  \n",
              "1                        0  30.628551  0.55  1.2  \n",
              "2                        0  30.628551  0.55  1.2  \n",
              "3                        1  30.628551  0.55  1.2  \n",
              "4                        0  30.628551  0.55  1.2  \n",
              "..                     ...        ...   ...  ...  \n",
              "188                     -1  36.559615  0.55  1.2  \n",
              "189                     -1  36.559615  0.55  1.2  \n",
              "190                     -1  36.559615  0.55  1.2  \n",
              "191                     -1  36.559615  0.55  1.2  \n",
              "192                      0  36.559615  0.55  1.2  \n",
              "\n",
              "[193 rows x 40 columns]"
            ],
            "text/html": [
              "\n",
              "  <div id=\"df-6070584a-aca5-413c-ba53-69f96c6e4578\" class=\"colab-df-container\">\n",
              "    <div>\n",
              "<style scoped>\n",
              "    .dataframe tbody tr th:only-of-type {\n",
              "        vertical-align: middle;\n",
              "    }\n",
              "\n",
              "    .dataframe tbody tr th {\n",
              "        vertical-align: top;\n",
              "    }\n",
              "\n",
              "    .dataframe thead th {\n",
              "        text-align: right;\n",
              "    }\n",
              "</style>\n",
              "<table border=\"1\" class=\"dataframe\">\n",
              "  <thead>\n",
              "    <tr style=\"text-align: right;\">\n",
              "      <th></th>\n",
              "      <th>No</th>\n",
              "      <th>วันที่</th>\n",
              "      <th>Sex</th>\n",
              "      <th>Age</th>\n",
              "      <th>Weight</th>\n",
              "      <th>Height</th>\n",
              "      <th>BMI</th>\n",
              "      <th>พื้นที่ทำแบบสอบถาม</th>\n",
              "      <th>เวลา</th>\n",
              "      <th>Temp</th>\n",
              "      <th>...</th>\n",
              "      <th>ความแรงของแสงแดด</th>\n",
              "      <th>เหงื่อบริเวณผิวหนัง</th>\n",
              "      <th>ความร้อน</th>\n",
              "      <th>ความชื้น.1</th>\n",
              "      <th>กระแสลม.1</th>\n",
              "      <th>แสงแดด</th>\n",
              "      <th>เหงื่อบริเวณผิวหนัง.1</th>\n",
              "      <th>TMRT</th>\n",
              "      <th>Clo</th>\n",
              "      <th>Met</th>\n",
              "    </tr>\n",
              "  </thead>\n",
              "  <tbody>\n",
              "    <tr>\n",
              "      <th>0</th>\n",
              "      <td>1</td>\n",
              "      <td>2022-12-28 00:00:00</td>\n",
              "      <td>ชาย</td>\n",
              "      <td>27</td>\n",
              "      <td>49.0</td>\n",
              "      <td>169.0</td>\n",
              "      <td>17.156262</td>\n",
              "      <td>ภายนอก/ มีหลังคาคลุม</td>\n",
              "      <td>10:55 AM</td>\n",
              "      <td>30.5</td>\n",
              "      <td>...</td>\n",
              "      <td>3</td>\n",
              "      <td>2</td>\n",
              "      <td>0</td>\n",
              "      <td>-1</td>\n",
              "      <td>0</td>\n",
              "      <td>-1</td>\n",
              "      <td>0</td>\n",
              "      <td>30.628551</td>\n",
              "      <td>0.55</td>\n",
              "      <td>1.2</td>\n",
              "    </tr>\n",
              "    <tr>\n",
              "      <th>1</th>\n",
              "      <td>2</td>\n",
              "      <td>2022-12-28 00:00:00</td>\n",
              "      <td>ชาย</td>\n",
              "      <td>36</td>\n",
              "      <td>71.0</td>\n",
              "      <td>175.0</td>\n",
              "      <td>23.183673</td>\n",
              "      <td>ภายนอก/ มีหลังคาคลุม</td>\n",
              "      <td>10:55 AM</td>\n",
              "      <td>30.5</td>\n",
              "      <td>...</td>\n",
              "      <td>3</td>\n",
              "      <td>1</td>\n",
              "      <td>0</td>\n",
              "      <td>0</td>\n",
              "      <td>1</td>\n",
              "      <td>-1</td>\n",
              "      <td>0</td>\n",
              "      <td>30.628551</td>\n",
              "      <td>0.55</td>\n",
              "      <td>1.2</td>\n",
              "    </tr>\n",
              "    <tr>\n",
              "      <th>2</th>\n",
              "      <td>3</td>\n",
              "      <td>2022-12-28 00:00:00</td>\n",
              "      <td>หญิง</td>\n",
              "      <td>25</td>\n",
              "      <td>89.0</td>\n",
              "      <td>153.0</td>\n",
              "      <td>38.019565</td>\n",
              "      <td>ภายนอก/ มีหลังคาคลุม</td>\n",
              "      <td>10:55 AM</td>\n",
              "      <td>30.5</td>\n",
              "      <td>...</td>\n",
              "      <td>1</td>\n",
              "      <td>1</td>\n",
              "      <td>0</td>\n",
              "      <td>0</td>\n",
              "      <td>0</td>\n",
              "      <td>0</td>\n",
              "      <td>0</td>\n",
              "      <td>30.628551</td>\n",
              "      <td>0.55</td>\n",
              "      <td>1.2</td>\n",
              "    </tr>\n",
              "    <tr>\n",
              "      <th>3</th>\n",
              "      <td>4</td>\n",
              "      <td>2022-12-28 00:00:00</td>\n",
              "      <td>ชาย</td>\n",
              "      <td>29</td>\n",
              "      <td>75.0</td>\n",
              "      <td>165.0</td>\n",
              "      <td>27.548209</td>\n",
              "      <td>ภายนอก/ มีหลังคาคลุม</td>\n",
              "      <td>10:55 AM</td>\n",
              "      <td>30.5</td>\n",
              "      <td>...</td>\n",
              "      <td>4</td>\n",
              "      <td>2</td>\n",
              "      <td>-1</td>\n",
              "      <td>0</td>\n",
              "      <td>0</td>\n",
              "      <td>-1</td>\n",
              "      <td>1</td>\n",
              "      <td>30.628551</td>\n",
              "      <td>0.55</td>\n",
              "      <td>1.2</td>\n",
              "    </tr>\n",
              "    <tr>\n",
              "      <th>4</th>\n",
              "      <td>5</td>\n",
              "      <td>2022-12-28 00:00:00</td>\n",
              "      <td>ชาย</td>\n",
              "      <td>28</td>\n",
              "      <td>118.0</td>\n",
              "      <td>187.0</td>\n",
              "      <td>33.744173</td>\n",
              "      <td>ภายนอก/ มีหลังคาคลุม</td>\n",
              "      <td>10:55 AM</td>\n",
              "      <td>30.5</td>\n",
              "      <td>...</td>\n",
              "      <td>3</td>\n",
              "      <td>0</td>\n",
              "      <td>-1</td>\n",
              "      <td>-1</td>\n",
              "      <td>0</td>\n",
              "      <td>-1</td>\n",
              "      <td>0</td>\n",
              "      <td>30.628551</td>\n",
              "      <td>0.55</td>\n",
              "      <td>1.2</td>\n",
              "    </tr>\n",
              "    <tr>\n",
              "      <th>...</th>\n",
              "      <td>...</td>\n",
              "      <td>...</td>\n",
              "      <td>...</td>\n",
              "      <td>...</td>\n",
              "      <td>...</td>\n",
              "      <td>...</td>\n",
              "      <td>...</td>\n",
              "      <td>...</td>\n",
              "      <td>...</td>\n",
              "      <td>...</td>\n",
              "      <td>...</td>\n",
              "      <td>...</td>\n",
              "      <td>...</td>\n",
              "      <td>...</td>\n",
              "      <td>...</td>\n",
              "      <td>...</td>\n",
              "      <td>...</td>\n",
              "      <td>...</td>\n",
              "      <td>...</td>\n",
              "      <td>...</td>\n",
              "      <td>...</td>\n",
              "    </tr>\n",
              "    <tr>\n",
              "      <th>188</th>\n",
              "      <td>189</td>\n",
              "      <td>13/05/2023</td>\n",
              "      <td>ชาย</td>\n",
              "      <td>37</td>\n",
              "      <td>88.0</td>\n",
              "      <td>180.0</td>\n",
              "      <td>27.160494</td>\n",
              "      <td>ภายใต้อาคาร</td>\n",
              "      <td>16.26</td>\n",
              "      <td>35.6</td>\n",
              "      <td>...</td>\n",
              "      <td>3</td>\n",
              "      <td>2</td>\n",
              "      <td>-1</td>\n",
              "      <td>1</td>\n",
              "      <td>0</td>\n",
              "      <td>-1</td>\n",
              "      <td>-1</td>\n",
              "      <td>36.559615</td>\n",
              "      <td>0.55</td>\n",
              "      <td>1.2</td>\n",
              "    </tr>\n",
              "    <tr>\n",
              "      <th>189</th>\n",
              "      <td>190</td>\n",
              "      <td>13/05/2023</td>\n",
              "      <td>หญิง</td>\n",
              "      <td>23</td>\n",
              "      <td>47.0</td>\n",
              "      <td>159.0</td>\n",
              "      <td>18.591037</td>\n",
              "      <td>ภายใต้อาคาร</td>\n",
              "      <td>16.26</td>\n",
              "      <td>35.6</td>\n",
              "      <td>...</td>\n",
              "      <td>3</td>\n",
              "      <td>4</td>\n",
              "      <td>-1</td>\n",
              "      <td>1</td>\n",
              "      <td>1</td>\n",
              "      <td>-1</td>\n",
              "      <td>-1</td>\n",
              "      <td>36.559615</td>\n",
              "      <td>0.55</td>\n",
              "      <td>1.2</td>\n",
              "    </tr>\n",
              "    <tr>\n",
              "      <th>190</th>\n",
              "      <td>191</td>\n",
              "      <td>13/05/2023</td>\n",
              "      <td>ชาย</td>\n",
              "      <td>27</td>\n",
              "      <td>47.0</td>\n",
              "      <td>169.0</td>\n",
              "      <td>16.456006</td>\n",
              "      <td>ภายใต้อาคาร</td>\n",
              "      <td>16.26</td>\n",
              "      <td>35.6</td>\n",
              "      <td>...</td>\n",
              "      <td>5</td>\n",
              "      <td>3</td>\n",
              "      <td>-1</td>\n",
              "      <td>-1</td>\n",
              "      <td>1</td>\n",
              "      <td>-1</td>\n",
              "      <td>-1</td>\n",
              "      <td>36.559615</td>\n",
              "      <td>0.55</td>\n",
              "      <td>1.2</td>\n",
              "    </tr>\n",
              "    <tr>\n",
              "      <th>191</th>\n",
              "      <td>192</td>\n",
              "      <td>13/05/2023</td>\n",
              "      <td>ชาย</td>\n",
              "      <td>57</td>\n",
              "      <td>68.0</td>\n",
              "      <td>171.0</td>\n",
              "      <td>23.255019</td>\n",
              "      <td>ภายใต้อาคาร</td>\n",
              "      <td>16.26</td>\n",
              "      <td>35.6</td>\n",
              "      <td>...</td>\n",
              "      <td>0</td>\n",
              "      <td>3</td>\n",
              "      <td>-1</td>\n",
              "      <td>1</td>\n",
              "      <td>1</td>\n",
              "      <td>-1</td>\n",
              "      <td>-1</td>\n",
              "      <td>36.559615</td>\n",
              "      <td>0.55</td>\n",
              "      <td>1.2</td>\n",
              "    </tr>\n",
              "    <tr>\n",
              "      <th>192</th>\n",
              "      <td>193</td>\n",
              "      <td>13/05/2023</td>\n",
              "      <td>หญิง</td>\n",
              "      <td>64</td>\n",
              "      <td>47.0</td>\n",
              "      <td>149.0</td>\n",
              "      <td>21.170218</td>\n",
              "      <td>ภายใต้อาคาร</td>\n",
              "      <td>16.26</td>\n",
              "      <td>35.6</td>\n",
              "      <td>...</td>\n",
              "      <td>4</td>\n",
              "      <td>5</td>\n",
              "      <td>-1</td>\n",
              "      <td>0</td>\n",
              "      <td>0</td>\n",
              "      <td>-1</td>\n",
              "      <td>0</td>\n",
              "      <td>36.559615</td>\n",
              "      <td>0.55</td>\n",
              "      <td>1.2</td>\n",
              "    </tr>\n",
              "  </tbody>\n",
              "</table>\n",
              "<p>193 rows × 40 columns</p>\n",
              "</div>\n",
              "    <div class=\"colab-df-buttons\">\n",
              "\n",
              "  <div class=\"colab-df-container\">\n",
              "    <button class=\"colab-df-convert\" onclick=\"convertToInteractive('df-6070584a-aca5-413c-ba53-69f96c6e4578')\"\n",
              "            title=\"Convert this dataframe to an interactive table.\"\n",
              "            style=\"display:none;\">\n",
              "\n",
              "  <svg xmlns=\"http://www.w3.org/2000/svg\" height=\"24px\" viewBox=\"0 -960 960 960\">\n",
              "    <path d=\"M120-120v-720h720v720H120Zm60-500h600v-160H180v160Zm220 220h160v-160H400v160Zm0 220h160v-160H400v160ZM180-400h160v-160H180v160Zm440 0h160v-160H620v160ZM180-180h160v-160H180v160Zm440 0h160v-160H620v160Z\"/>\n",
              "  </svg>\n",
              "    </button>\n",
              "\n",
              "  <style>\n",
              "    .colab-df-container {\n",
              "      display:flex;\n",
              "      gap: 12px;\n",
              "    }\n",
              "\n",
              "    .colab-df-convert {\n",
              "      background-color: #E8F0FE;\n",
              "      border: none;\n",
              "      border-radius: 50%;\n",
              "      cursor: pointer;\n",
              "      display: none;\n",
              "      fill: #1967D2;\n",
              "      height: 32px;\n",
              "      padding: 0 0 0 0;\n",
              "      width: 32px;\n",
              "    }\n",
              "\n",
              "    .colab-df-convert:hover {\n",
              "      background-color: #E2EBFA;\n",
              "      box-shadow: 0px 1px 2px rgba(60, 64, 67, 0.3), 0px 1px 3px 1px rgba(60, 64, 67, 0.15);\n",
              "      fill: #174EA6;\n",
              "    }\n",
              "\n",
              "    .colab-df-buttons div {\n",
              "      margin-bottom: 4px;\n",
              "    }\n",
              "\n",
              "    [theme=dark] .colab-df-convert {\n",
              "      background-color: #3B4455;\n",
              "      fill: #D2E3FC;\n",
              "    }\n",
              "\n",
              "    [theme=dark] .colab-df-convert:hover {\n",
              "      background-color: #434B5C;\n",
              "      box-shadow: 0px 1px 3px 1px rgba(0, 0, 0, 0.15);\n",
              "      filter: drop-shadow(0px 1px 2px rgba(0, 0, 0, 0.3));\n",
              "      fill: #FFFFFF;\n",
              "    }\n",
              "  </style>\n",
              "\n",
              "    <script>\n",
              "      const buttonEl =\n",
              "        document.querySelector('#df-6070584a-aca5-413c-ba53-69f96c6e4578 button.colab-df-convert');\n",
              "      buttonEl.style.display =\n",
              "        google.colab.kernel.accessAllowed ? 'block' : 'none';\n",
              "\n",
              "      async function convertToInteractive(key) {\n",
              "        const element = document.querySelector('#df-6070584a-aca5-413c-ba53-69f96c6e4578');\n",
              "        const dataTable =\n",
              "          await google.colab.kernel.invokeFunction('convertToInteractive',\n",
              "                                                    [key], {});\n",
              "        if (!dataTable) return;\n",
              "\n",
              "        const docLinkHtml = 'Like what you see? Visit the ' +\n",
              "          '<a target=\"_blank\" href=https://colab.research.google.com/notebooks/data_table.ipynb>data table notebook</a>'\n",
              "          + ' to learn more about interactive tables.';\n",
              "        element.innerHTML = '';\n",
              "        dataTable['output_type'] = 'display_data';\n",
              "        await google.colab.output.renderOutput(dataTable, element);\n",
              "        const docLink = document.createElement('div');\n",
              "        docLink.innerHTML = docLinkHtml;\n",
              "        element.appendChild(docLink);\n",
              "      }\n",
              "    </script>\n",
              "  </div>\n",
              "\n",
              "\n",
              "<div id=\"df-cd1f3852-90c6-4113-ac91-6befcd292d3c\">\n",
              "  <button class=\"colab-df-quickchart\" onclick=\"quickchart('df-cd1f3852-90c6-4113-ac91-6befcd292d3c')\"\n",
              "            title=\"Suggest charts.\"\n",
              "            style=\"display:none;\">\n",
              "\n",
              "<svg xmlns=\"http://www.w3.org/2000/svg\" height=\"24px\"viewBox=\"0 0 24 24\"\n",
              "     width=\"24px\">\n",
              "    <g>\n",
              "        <path d=\"M19 3H5c-1.1 0-2 .9-2 2v14c0 1.1.9 2 2 2h14c1.1 0 2-.9 2-2V5c0-1.1-.9-2-2-2zM9 17H7v-7h2v7zm4 0h-2V7h2v10zm4 0h-2v-4h2v4z\"/>\n",
              "    </g>\n",
              "</svg>\n",
              "  </button>\n",
              "\n",
              "<style>\n",
              "  .colab-df-quickchart {\n",
              "      --bg-color: #E8F0FE;\n",
              "      --fill-color: #1967D2;\n",
              "      --hover-bg-color: #E2EBFA;\n",
              "      --hover-fill-color: #174EA6;\n",
              "      --disabled-fill-color: #AAA;\n",
              "      --disabled-bg-color: #DDD;\n",
              "  }\n",
              "\n",
              "  [theme=dark] .colab-df-quickchart {\n",
              "      --bg-color: #3B4455;\n",
              "      --fill-color: #D2E3FC;\n",
              "      --hover-bg-color: #434B5C;\n",
              "      --hover-fill-color: #FFFFFF;\n",
              "      --disabled-bg-color: #3B4455;\n",
              "      --disabled-fill-color: #666;\n",
              "  }\n",
              "\n",
              "  .colab-df-quickchart {\n",
              "    background-color: var(--bg-color);\n",
              "    border: none;\n",
              "    border-radius: 50%;\n",
              "    cursor: pointer;\n",
              "    display: none;\n",
              "    fill: var(--fill-color);\n",
              "    height: 32px;\n",
              "    padding: 0;\n",
              "    width: 32px;\n",
              "  }\n",
              "\n",
              "  .colab-df-quickchart:hover {\n",
              "    background-color: var(--hover-bg-color);\n",
              "    box-shadow: 0 1px 2px rgba(60, 64, 67, 0.3), 0 1px 3px 1px rgba(60, 64, 67, 0.15);\n",
              "    fill: var(--button-hover-fill-color);\n",
              "  }\n",
              "\n",
              "  .colab-df-quickchart-complete:disabled,\n",
              "  .colab-df-quickchart-complete:disabled:hover {\n",
              "    background-color: var(--disabled-bg-color);\n",
              "    fill: var(--disabled-fill-color);\n",
              "    box-shadow: none;\n",
              "  }\n",
              "\n",
              "  .colab-df-spinner {\n",
              "    border: 2px solid var(--fill-color);\n",
              "    border-color: transparent;\n",
              "    border-bottom-color: var(--fill-color);\n",
              "    animation:\n",
              "      spin 1s steps(1) infinite;\n",
              "  }\n",
              "\n",
              "  @keyframes spin {\n",
              "    0% {\n",
              "      border-color: transparent;\n",
              "      border-bottom-color: var(--fill-color);\n",
              "      border-left-color: var(--fill-color);\n",
              "    }\n",
              "    20% {\n",
              "      border-color: transparent;\n",
              "      border-left-color: var(--fill-color);\n",
              "      border-top-color: var(--fill-color);\n",
              "    }\n",
              "    30% {\n",
              "      border-color: transparent;\n",
              "      border-left-color: var(--fill-color);\n",
              "      border-top-color: var(--fill-color);\n",
              "      border-right-color: var(--fill-color);\n",
              "    }\n",
              "    40% {\n",
              "      border-color: transparent;\n",
              "      border-right-color: var(--fill-color);\n",
              "      border-top-color: var(--fill-color);\n",
              "    }\n",
              "    60% {\n",
              "      border-color: transparent;\n",
              "      border-right-color: var(--fill-color);\n",
              "    }\n",
              "    80% {\n",
              "      border-color: transparent;\n",
              "      border-right-color: var(--fill-color);\n",
              "      border-bottom-color: var(--fill-color);\n",
              "    }\n",
              "    90% {\n",
              "      border-color: transparent;\n",
              "      border-bottom-color: var(--fill-color);\n",
              "    }\n",
              "  }\n",
              "</style>\n",
              "\n",
              "  <script>\n",
              "    async function quickchart(key) {\n",
              "      const quickchartButtonEl =\n",
              "        document.querySelector('#' + key + ' button');\n",
              "      quickchartButtonEl.disabled = true;  // To prevent multiple clicks.\n",
              "      quickchartButtonEl.classList.add('colab-df-spinner');\n",
              "      try {\n",
              "        const charts = await google.colab.kernel.invokeFunction(\n",
              "            'suggestCharts', [key], {});\n",
              "      } catch (error) {\n",
              "        console.error('Error during call to suggestCharts:', error);\n",
              "      }\n",
              "      quickchartButtonEl.classList.remove('colab-df-spinner');\n",
              "      quickchartButtonEl.classList.add('colab-df-quickchart-complete');\n",
              "    }\n",
              "    (() => {\n",
              "      let quickchartButtonEl =\n",
              "        document.querySelector('#df-cd1f3852-90c6-4113-ac91-6befcd292d3c button');\n",
              "      quickchartButtonEl.style.display =\n",
              "        google.colab.kernel.accessAllowed ? 'block' : 'none';\n",
              "    })();\n",
              "  </script>\n",
              "</div>\n",
              "    </div>\n",
              "  </div>\n"
            ]
          },
          "metadata": {},
          "execution_count": 28
        }
      ]
    },
    {
      "cell_type": "markdown",
      "metadata": {
        "id": "ne9e93CMof1R"
      },
      "source": [
        "##drop คอลัมน์ -3 ถึง 3 และคอลัมน์สูตรในการคำนวณหา TMRT ออก"
      ]
    },
    {
      "cell_type": "code",
      "execution_count": 36,
      "metadata": {
        "id": "PXiGZdSBEUXQ"
      },
      "outputs": [],
      "source": [
        "data.drop([-3, -2, -1, 0, '+1', '+2', '+3'], axis=1, inplace=True)"
      ]
    },
    {
      "cell_type": "code",
      "source": [
        "data.drop(['วงเล็บ 1', 'สมการหลัง บวก', 'วงเล็บ 2','ยกกำลัง 1 ส่วน 4/ 0.25', 'ลบ 273.15'  ], axis=1, inplace=True)"
      ],
      "metadata": {
        "id": "MgaZoMSef_MP"
      },
      "execution_count": 37,
      "outputs": []
    },
    {
      "cell_type": "code",
      "source": [
        "data.shape"
      ],
      "metadata": {
        "colab": {
          "base_uri": "https://localhost:8080/"
        },
        "id": "-jV3SNlGgWTT",
        "outputId": "beafbba5-4386-45de-d538-8bba82665f9a"
      },
      "execution_count": 38,
      "outputs": [
        {
          "output_type": "execute_result",
          "data": {
            "text/plain": [
              "(193, 28)"
            ]
          },
          "metadata": {},
          "execution_count": 38
        }
      ]
    },
    {
      "cell_type": "code",
      "source": [
        "data.columns"
      ],
      "metadata": {
        "colab": {
          "base_uri": "https://localhost:8080/"
        },
        "id": "ho4ByKxpAz33",
        "outputId": "d0ac0429-6f27-4ee8-9cd9-9961e566e08c"
      },
      "execution_count": 39,
      "outputs": [
        {
          "output_type": "execute_result",
          "data": {
            "text/plain": [
              "Index(['No', 'วันที่', 'Sex', 'Age', 'Weight', 'Height', 'BMI',\n",
              "       'พื้นที่ทำแบบสอบถาม', 'เวลา', 'Temp', 'Globe temp', '%RH', 'V (m/s)',\n",
              "       'Thermal acceptance', 'Thermal sensation Vote', 'อุณหภูมิ', 'ความชื้น',\n",
              "       'กระแสลม', 'ความแรงของแสงแดด', 'เหงื่อบริเวณผิวหนัง', 'ความร้อน',\n",
              "       'ความชื้น.1', 'กระแสลม.1', 'แสงแดด', 'เหงื่อบริเวณผิวหนัง.1', 'TMRT',\n",
              "       'Clo', 'Met'],\n",
              "      dtype='object')"
            ]
          },
          "metadata": {},
          "execution_count": 39
        }
      ]
    },
    {
      "cell_type": "markdown",
      "metadata": {
        "id": "HRyvF2J-Hcay"
      },
      "source": [
        "##แทนค่าลักษณะของคำที่เหมือนกัน"
      ]
    },
    {
      "cell_type": "code",
      "execution_count": 54,
      "metadata": {
        "colab": {
          "base_uri": "https://localhost:8080/"
        },
        "id": "iW7mbZKL0-1W",
        "outputId": "9c2afe4a-d411-4e3a-d61e-42ffda4c6f00"
      },
      "outputs": [
        {
          "output_type": "execute_result",
          "data": {
            "text/plain": [
              "{'ภายนอก / ใต้ร่มไม้',\n",
              " 'ภายนอก กลางแจ้ง',\n",
              " 'ภายนอก/ กลางแจ้ง',\n",
              " 'ภายนอก/ มีหลังคาคลุม',\n",
              " 'ภายใต้ร่มไม้',\n",
              " 'ภายใต้อาคาร'}"
            ]
          },
          "metadata": {},
          "execution_count": 54
        }
      ],
      "source": [
        "set(data['พื้นที่ทำแบบสอบถาม'])"
      ]
    },
    {
      "cell_type": "code",
      "execution_count": 55,
      "metadata": {
        "colab": {
          "base_uri": "https://localhost:8080/"
        },
        "id": "Cih3Rfe71JYK",
        "outputId": "9b9d58e3-460b-4c58-8592-3f1f01019726"
      },
      "outputs": [
        {
          "output_type": "stream",
          "name": "stderr",
          "text": [
            "<ipython-input-55-daf20139a280>:1: SettingWithCopyWarning: \n",
            "A value is trying to be set on a copy of a slice from a DataFrame\n",
            "\n",
            "See the caveats in the documentation: https://pandas.pydata.org/pandas-docs/stable/user_guide/indexing.html#returning-a-view-versus-a-copy\n",
            "  data['พื้นที่ทำแบบสอบถาม'][data['พื้นที่ทำแบบสอบถาม']=='ภายใต้ร่มไม้'] = 'ภายนอก / ใต้ร่มไม้'\n",
            "<ipython-input-55-daf20139a280>:2: SettingWithCopyWarning: \n",
            "A value is trying to be set on a copy of a slice from a DataFrame\n",
            "\n",
            "See the caveats in the documentation: https://pandas.pydata.org/pandas-docs/stable/user_guide/indexing.html#returning-a-view-versus-a-copy\n",
            "  data['พื้นที่ทำแบบสอบถาม'][data['พื้นที่ทำแบบสอบถาม']=='ภายนอก กลางแจ้ง'] = 'ภายนอก/ กลางแจ้ง'\n"
          ]
        }
      ],
      "source": [
        "data['พื้นที่ทำแบบสอบถาม'][data['พื้นที่ทำแบบสอบถาม']=='ภายใต้ร่มไม้'] = 'ภายนอก / ใต้ร่มไม้'\n",
        "data['พื้นที่ทำแบบสอบถาม'][data['พื้นที่ทำแบบสอบถาม']=='ภายนอก กลางแจ้ง'] = 'ภายนอก/ กลางแจ้ง'"
      ]
    },
    {
      "cell_type": "code",
      "execution_count": 56,
      "metadata": {
        "colab": {
          "base_uri": "https://localhost:8080/"
        },
        "id": "b-p-_E6l1LCW",
        "outputId": "9df4c307-221d-4161-fa9d-f8c95655aa5d"
      },
      "outputs": [
        {
          "output_type": "execute_result",
          "data": {
            "text/plain": [
              "{'ภายนอก / ใต้ร่มไม้',\n",
              " 'ภายนอก/ กลางแจ้ง',\n",
              " 'ภายนอก/ มีหลังคาคลุม',\n",
              " 'ภายใต้อาคาร'}"
            ]
          },
          "metadata": {},
          "execution_count": 56
        }
      ],
      "source": [
        "set(data['พื้นที่ทำแบบสอบถาม'])"
      ]
    },
    {
      "cell_type": "code",
      "execution_count": null,
      "metadata": {
        "colab": {
          "base_uri": "https://localhost:8080/"
        },
        "id": "SIVMMKjWRIWG",
        "outputId": "c3bcf5b1-0aa5-4e09-d7ab-c1d0dca3156d"
      },
      "outputs": [
        {
          "output_type": "stream",
          "name": "stdout",
          "text": [
            "<class 'pandas.core.frame.DataFrame'>\n",
            "RangeIndex: 193 entries, 0 to 192\n",
            "Data columns (total 29 columns):\n",
            " #   Column                  Non-Null Count  Dtype  \n",
            "---  ------                  --------------  -----  \n",
            " 0   No                      193 non-null    int64  \n",
            " 1   วันที่                  193 non-null    object \n",
            " 2   เพศ                     193 non-null    object \n",
            " 3   Age                     193 non-null    int64  \n",
            " 4   Weight                  193 non-null    float64\n",
            " 5   Height                  193 non-null    float64\n",
            " 6   BMI                     193 non-null    float64\n",
            " 7   พื้นที่ทำแบบสอบถาม      193 non-null    object \n",
            " 8   เวลา                    193 non-null    object \n",
            " 9   Temp                    193 non-null    float64\n",
            " 10  Globe temp              193 non-null    float64\n",
            " 11  %RH                     193 non-null    float64\n",
            " 12  V (m/s)                 193 non-null    float64\n",
            " 13  Thermal acceptance      193 non-null    object \n",
            " 14  Thermal sensation Vote  193 non-null    int64  \n",
            " 15  อุณหภูมิ                193 non-null    int64  \n",
            " 16  ความชื้น                193 non-null    int64  \n",
            " 17  กระแสลม                 193 non-null    int64  \n",
            " 18  ความแรงของแสงแดด        193 non-null    int64  \n",
            " 19  เหงื่อบริเวณผิวหนัง     193 non-null    int64  \n",
            " 20  ความร้อน                193 non-null    int64  \n",
            " 21  ความชื้น.1              193 non-null    int64  \n",
            " 22  กระแสลม.1               193 non-null    int64  \n",
            " 23  แสงแดด                  193 non-null    int64  \n",
            " 24  เหงื่อบริเวณผิวหนัง.1   193 non-null    int64  \n",
            " 25  TMRT                    193 non-null    float64\n",
            " 26  clo                     193 non-null    float64\n",
            " 27  Met                     193 non-null    float64\n",
            " 28  Clo                     193 non-null    float64\n",
            "dtypes: float64(11), int64(13), object(5)\n",
            "memory usage: 43.9+ KB\n"
          ]
        }
      ],
      "source": [
        "data.info()"
      ]
    },
    {
      "cell_type": "markdown",
      "metadata": {
        "id": "B9BhFFHWI3Z5"
      },
      "source": [
        "##เปลี่ยนวันที่เป็น datetime"
      ]
    },
    {
      "cell_type": "code",
      "execution_count": null,
      "metadata": {
        "colab": {
          "base_uri": "https://localhost:8080/"
        },
        "id": "KvosOh1w1ZNG",
        "outputId": "d320badb-95ee-4f78-b929-17d47a4e3555"
      },
      "outputs": [
        {
          "output_type": "execute_result",
          "data": {
            "text/plain": [
              "{'13/05/2023',\n",
              " datetime.datetime(2022, 12, 28, 0, 0),\n",
              " datetime.datetime(2023, 1, 6, 0, 0),\n",
              " datetime.datetime(2023, 1, 8, 0, 0)}"
            ]
          },
          "metadata": {},
          "execution_count": 210
        }
      ],
      "source": [
        "set(data['วันที่'])"
      ]
    },
    {
      "cell_type": "code",
      "execution_count": null,
      "metadata": {
        "id": "4V8S7YoGIQ8I",
        "colab": {
          "base_uri": "https://localhost:8080/"
        },
        "outputId": "e604ff7c-fb0a-4641-9f33-b353e5e0383b"
      },
      "outputs": [
        {
          "output_type": "stream",
          "name": "stderr",
          "text": [
            "<ipython-input-211-4844d76cbacc>:1: UserWarning: Parsing dates in DD/MM/YYYY format when dayfirst=False (the default) was specified. This may lead to inconsistently parsed dates! Specify a format to ensure consistent parsing.\n",
            "  data['วันที่'] = pd.to_datetime(data.วันที่)\n"
          ]
        }
      ],
      "source": [
        "data['วันที่'] = pd.to_datetime(data.วันที่)"
      ]
    },
    {
      "cell_type": "code",
      "execution_count": null,
      "metadata": {
        "colab": {
          "base_uri": "https://localhost:8080/"
        },
        "id": "tXkckgeNImvG",
        "outputId": "8a346b24-f4b1-42a2-e82c-c54cbed6b5cb"
      },
      "outputs": [
        {
          "output_type": "execute_result",
          "data": {
            "text/plain": [
              "{Timestamp('2022-12-28 00:00:00'),\n",
              " Timestamp('2023-01-06 00:00:00'),\n",
              " Timestamp('2023-01-08 00:00:00'),\n",
              " Timestamp('2023-05-13 00:00:00')}"
            ]
          },
          "metadata": {},
          "execution_count": 212
        }
      ],
      "source": [
        "set(data['วันที่'])"
      ]
    },
    {
      "cell_type": "markdown",
      "metadata": {
        "id": "PsacZo2d0pLJ"
      },
      "source": [
        "#Visualizations"
      ]
    },
    {
      "cell_type": "markdown",
      "metadata": {
        "id": "nhvdpgi4-as0"
      },
      "source": [
        "##histogram อายุของแต่ละเพศ แสดงให้เห็นภาพรวม ค่าสูง ค่าต่ำ ค่ากลาง การกระจาย\n",
        "\n"
      ]
    },
    {
      "cell_type": "code",
      "execution_count": 57,
      "metadata": {
        "colab": {
          "base_uri": "https://localhost:8080/",
          "height": 468
        },
        "id": "axdttTrfy_yH",
        "outputId": "aceca904-9aee-435d-8794-c82a27b1a81a"
      },
      "outputs": [
        {
          "output_type": "execute_result",
          "data": {
            "text/plain": [
              "<Axes: xlabel='Age', ylabel='Count'>"
            ]
          },
          "metadata": {},
          "execution_count": 57
        },
        {
          "output_type": "display_data",
          "data": {
            "text/plain": [
              "<Figure size 640x480 with 1 Axes>"
            ],
            "image/png": "[encoded data removed]"
          },
          "metadata": {}
        }
      ],
      "source": [
        "sns.histplot(data=data, x=\"Age\", hue=\"เพศ\", multiple=\"stack\", palette=\"magma\")"
      ]
    },
    {
      "cell_type": "code",
      "execution_count": 58,
      "metadata": {
        "colab": {
          "base_uri": "https://localhost:8080/",
          "height": 448
        },
        "id": "fB4cYRXQp1Ur",
        "outputId": "bb0ee908-fca7-47a1-d4fe-076b497b4c82"
      },
      "outputs": [
        {
          "output_type": "execute_result",
          "data": {
            "text/plain": [
              "<matplotlib.legend.Legend at 0x7d5cf8e6d4b0>"
            ]
          },
          "metadata": {},
          "execution_count": 58
        },
        {
          "output_type": "display_data",
          "data": {
            "text/plain": [
              "<Figure size 640x480 with 1 Axes>"
            ],
            "image/png": "[encoded data removed]"
          },
          "metadata": {}
        }
      ],
      "source": [
        "data['Age'][data['เพศ']=='ชาย'].hist(label=\"male\", alpha=0.5)\n",
        "data['Age'][data['เพศ']=='หญิง'].hist(label=\"female\", alpha=0.5)\n",
        "plt.legend(loc='upper right')"
      ]
    },
    {
      "cell_type": "markdown",
      "source": [
        "##จากกราฟจะเห็นได้ว่าผู้ตอบแบบสอบถามส่วนใหญ่เป็นผู้ชาย"
      ],
      "metadata": {
        "id": "pszeU5bzMK3-"
      }
    },
    {
      "cell_type": "markdown",
      "metadata": {
        "id": "7qAyzPAs2ZaX"
      },
      "source": [
        "##histogram อุณหภูมิบริเวณที่ทำแบบสอบถามของแต่ละพื้นที่ทำแบบสอบถาม แสดงให้เห็นภาพรวม ค่าสูง ค่าต่ำ ค่ากลาง การกระจาย"
      ]
    },
    {
      "cell_type": "code",
      "execution_count": null,
      "metadata": {
        "colab": {
          "base_uri": "https://localhost:8080/",
          "height": 229
        },
        "id": "cdVFVHmdg0mK",
        "outputId": "c31dbab6-1a6b-4d1b-94a8-d83ba117b367"
      },
      "outputs": [
        {
          "output_type": "stream",
          "name": "stderr",
          "text": [
            "<ipython-input-215-74ef34d6b46f>:1: FutureWarning: The default value of numeric_only in DataFrameGroupBy.mean is deprecated. In a future version, numeric_only will default to False. Either specify numeric_only or select only columns which should be valid for the function.\n",
            "  data33 = data.groupby('พื้นที่ทำแบบสอบถาม').mean().reset_index()[['พื้นที่ทำแบบสอบถาม','Temp']]\n"
          ]
        },
        {
          "output_type": "execute_result",
          "data": {
            "text/plain": [
              "     พื้นที่ทำแบบสอบถาม       Temp\n",
              "2  ภายนอก/ มีหลังคาคลุม  29.472897\n",
              "1      ภายนอก/ กลางแจ้ง  31.250000\n",
              "0    ภายนอก / ใต้ร่มไม้  32.100000\n",
              "3           ภายใต้อาคาร  33.305660"
            ],
            "text/html": [
              "\n",
              "  <div id=\"df-14912296-676a-45f2-a0ba-ee61a436fcef\" class=\"colab-df-container\">\n",
              "    <div>\n",
              "<style scoped>\n",
              "    .dataframe tbody tr th:only-of-type {\n",
              "        vertical-align: middle;\n",
              "    }\n",
              "\n",
              "    .dataframe tbody tr th {\n",
              "        vertical-align: top;\n",
              "    }\n",
              "\n",
              "    .dataframe thead th {\n",
              "        text-align: right;\n",
              "    }\n",
              "</style>\n",
              "<table border=\"1\" class=\"dataframe\">\n",
              "  <thead>\n",
              "    <tr style=\"text-align: right;\">\n",
              "      <th></th>\n",
              "      <th>พื้นที่ทำแบบสอบถาม</th>\n",
              "      <th>Temp</th>\n",
              "    </tr>\n",
              "  </thead>\n",
              "  <tbody>\n",
              "    <tr>\n",
              "      <th>2</th>\n",
              "      <td>ภายนอก/ มีหลังคาคลุม</td>\n",
              "      <td>29.472897</td>\n",
              "    </tr>\n",
              "    <tr>\n",
              "      <th>1</th>\n",
              "      <td>ภายนอก/ กลางแจ้ง</td>\n",
              "      <td>31.250000</td>\n",
              "    </tr>\n",
              "    <tr>\n",
              "      <th>0</th>\n",
              "      <td>ภายนอก / ใต้ร่มไม้</td>\n",
              "      <td>32.100000</td>\n",
              "    </tr>\n",
              "    <tr>\n",
              "      <th>3</th>\n",
              "      <td>ภายใต้อาคาร</td>\n",
              "      <td>33.305660</td>\n",
              "    </tr>\n",
              "  </tbody>\n",
              "</table>\n",
              "</div>\n",
              "    <div class=\"colab-df-buttons\">\n",
              "\n",
              "  <div class=\"colab-df-container\">\n",
              "    <button class=\"colab-df-convert\" onclick=\"convertToInteractive('df-14912296-676a-45f2-a0ba-ee61a436fcef')\"\n",
              "            title=\"Convert this dataframe to an interactive table.\"\n",
              "            style=\"display:none;\">\n",
              "\n",
              "  <svg xmlns=\"http://www.w3.org/2000/svg\" height=\"24px\" viewBox=\"0 -960 960 960\">\n",
              "    <path d=\"M120-120v-720h720v720H120Zm60-500h600v-160H180v160Zm220 220h160v-160H400v160Zm0 220h160v-160H400v160ZM180-400h160v-160H180v160Zm440 0h160v-160H620v160ZM180-180h160v-160H180v160Zm440 0h160v-160H620v160Z\"/>\n",
              "  </svg>\n",
              "    </button>\n",
              "\n",
              "  <style>\n",
              "    .colab-df-container {\n",
              "      display:flex;\n",
              "      gap: 12px;\n",
              "    }\n",
              "\n",
              "    .colab-df-convert {\n",
              "      background-color: #E8F0FE;\n",
              "      border: none;\n",
              "      border-radius: 50%;\n",
              "      cursor: pointer;\n",
              "      display: none;\n",
              "      fill: #1967D2;\n",
              "      height: 32px;\n",
              "      padding: 0 0 0 0;\n",
              "      width: 32px;\n",
              "    }\n",
              "\n",
              "    .colab-df-convert:hover {\n",
              "      background-color: #E2EBFA;\n",
              "      box-shadow: 0px 1px 2px rgba(60, 64, 67, 0.3), 0px 1px 3px 1px rgba(60, 64, 67, 0.15);\n",
              "      fill: #174EA6;\n",
              "    }\n",
              "\n",
              "    .colab-df-buttons div {\n",
              "      margin-bottom: 4px;\n",
              "    }\n",
              "\n",
              "    [theme=dark] .colab-df-convert {\n",
              "      background-color: #3B4455;\n",
              "      fill: #D2E3FC;\n",
              "    }\n",
              "\n",
              "    [theme=dark] .colab-df-convert:hover {\n",
              "      background-color: #434B5C;\n",
              "      box-shadow: 0px 1px 3px 1px rgba(0, 0, 0, 0.15);\n",
              "      filter: drop-shadow(0px 1px 2px rgba(0, 0, 0, 0.3));\n",
              "      fill: #FFFFFF;\n",
              "    }\n",
              "  </style>\n",
              "\n",
              "    <script>\n",
              "      const buttonEl =\n",
              "        document.querySelector('#df-14912296-676a-45f2-a0ba-ee61a436fcef button.colab-df-convert');\n",
              "      buttonEl.style.display =\n",
              "        google.colab.kernel.accessAllowed ? 'block' : 'none';\n",
              "\n",
              "      async function convertToInteractive(key) {\n",
              "        const element = document.querySelector('#df-14912296-676a-45f2-a0ba-ee61a436fcef');\n",
              "        const dataTable =\n",
              "          await google.colab.kernel.invokeFunction('convertToInteractive',\n",
              "                                                    [key], {});\n",
              "        if (!dataTable) return;\n",
              "\n",
              "        const docLinkHtml = 'Like what you see? Visit the ' +\n",
              "          '<a target=\"_blank\" href=https://colab.research.google.com/notebooks/data_table.ipynb>data table notebook</a>'\n",
              "          + ' to learn more about interactive tables.';\n",
              "        element.innerHTML = '';\n",
              "        dataTable['output_type'] = 'display_data';\n",
              "        await google.colab.output.renderOutput(dataTable, element);\n",
              "        const docLink = document.createElement('div');\n",
              "        docLink.innerHTML = docLinkHtml;\n",
              "        element.appendChild(docLink);\n",
              "      }\n",
              "    </script>\n",
              "  </div>\n",
              "\n",
              "\n",
              "<div id=\"df-0020f947-020b-422a-88c9-4db55de6bd29\">\n",
              "  <button class=\"colab-df-quickchart\" onclick=\"quickchart('df-0020f947-020b-422a-88c9-4db55de6bd29')\"\n",
              "            title=\"Suggest charts.\"\n",
              "            style=\"display:none;\">\n",
              "\n",
              "<svg xmlns=\"http://www.w3.org/2000/svg\" height=\"24px\"viewBox=\"0 0 24 24\"\n",
              "     width=\"24px\">\n",
              "    <g>\n",
              "        <path d=\"M19 3H5c-1.1 0-2 .9-2 2v14c0 1.1.9 2 2 2h14c1.1 0 2-.9 2-2V5c0-1.1-.9-2-2-2zM9 17H7v-7h2v7zm4 0h-2V7h2v10zm4 0h-2v-4h2v4z\"/>\n",
              "    </g>\n",
              "</svg>\n",
              "  </button>\n",
              "\n",
              "<style>\n",
              "  .colab-df-quickchart {\n",
              "      --bg-color: #E8F0FE;\n",
              "      --fill-color: #1967D2;\n",
              "      --hover-bg-color: #E2EBFA;\n",
              "      --hover-fill-color: #174EA6;\n",
              "      --disabled-fill-color: #AAA;\n",
              "      --disabled-bg-color: #DDD;\n",
              "  }\n",
              "\n",
              "  [theme=dark] .colab-df-quickchart {\n",
              "      --bg-color: #3B4455;\n",
              "      --fill-color: #D2E3FC;\n",
              "      --hover-bg-color: #434B5C;\n",
              "      --hover-fill-color: #FFFFFF;\n",
              "      --disabled-bg-color: #3B4455;\n",
              "      --disabled-fill-color: #666;\n",
              "  }\n",
              "\n",
              "  .colab-df-quickchart {\n",
              "    background-color: var(--bg-color);\n",
              "    border: none;\n",
              "    border-radius: 50%;\n",
              "    cursor: pointer;\n",
              "    display: none;\n",
              "    fill: var(--fill-color);\n",
              "    height: 32px;\n",
              "    padding: 0;\n",
              "    width: 32px;\n",
              "  }\n",
              "\n",
              "  .colab-df-quickchart:hover {\n",
              "    background-color: var(--hover-bg-color);\n",
              "    box-shadow: 0 1px 2px rgba(60, 64, 67, 0.3), 0 1px 3px 1px rgba(60, 64, 67, 0.15);\n",
              "    fill: var(--button-hover-fill-color);\n",
              "  }\n",
              "\n",
              "  .colab-df-quickchart-complete:disabled,\n",
              "  .colab-df-quickchart-complete:disabled:hover {\n",
              "    background-color: var(--disabled-bg-color);\n",
              "    fill: var(--disabled-fill-color);\n",
              "    box-shadow: none;\n",
              "  }\n",
              "\n",
              "  .colab-df-spinner {\n",
              "    border: 2px solid var(--fill-color);\n",
              "    border-color: transparent;\n",
              "    border-bottom-color: var(--fill-color);\n",
              "    animation:\n",
              "      spin 1s steps(1) infinite;\n",
              "  }\n",
              "\n",
              "  @keyframes spin {\n",
              "    0% {\n",
              "      border-color: transparent;\n",
              "      border-bottom-color: var(--fill-color);\n",
              "      border-left-color: var(--fill-color);\n",
              "    }\n",
              "    20% {\n",
              "      border-color: transparent;\n",
              "      border-left-color: var(--fill-color);\n",
              "      border-top-color: var(--fill-color);\n",
              "    }\n",
              "    30% {\n",
              "      border-color: transparent;\n",
              "      border-left-color: var(--fill-color);\n",
              "      border-top-color: var(--fill-color);\n",
              "      border-right-color: var(--fill-color);\n",
              "    }\n",
              "    40% {\n",
              "      border-color: transparent;\n",
              "      border-right-color: var(--fill-color);\n",
              "      border-top-color: var(--fill-color);\n",
              "    }\n",
              "    60% {\n",
              "      border-color: transparent;\n",
              "      border-right-color: var(--fill-color);\n",
              "    }\n",
              "    80% {\n",
              "      border-color: transparent;\n",
              "      border-right-color: var(--fill-color);\n",
              "      border-bottom-color: var(--fill-color);\n",
              "    }\n",
              "    90% {\n",
              "      border-color: transparent;\n",
              "      border-bottom-color: var(--fill-color);\n",
              "    }\n",
              "  }\n",
              "</style>\n",
              "\n",
              "  <script>\n",
              "    async function quickchart(key) {\n",
              "      const quickchartButtonEl =\n",
              "        document.querySelector('#' + key + ' button');\n",
              "      quickchartButtonEl.disabled = true;  // To prevent multiple clicks.\n",
              "      quickchartButtonEl.classList.add('colab-df-spinner');\n",
              "      try {\n",
              "        const charts = await google.colab.kernel.invokeFunction(\n",
              "            'suggestCharts', [key], {});\n",
              "      } catch (error) {\n",
              "        console.error('Error during call to suggestCharts:', error);\n",
              "      }\n",
              "      quickchartButtonEl.classList.remove('colab-df-spinner');\n",
              "      quickchartButtonEl.classList.add('colab-df-quickchart-complete');\n",
              "    }\n",
              "    (() => {\n",
              "      let quickchartButtonEl =\n",
              "        document.querySelector('#df-0020f947-020b-422a-88c9-4db55de6bd29 button');\n",
              "      quickchartButtonEl.style.display =\n",
              "        google.colab.kernel.accessAllowed ? 'block' : 'none';\n",
              "    })();\n",
              "  </script>\n",
              "</div>\n",
              "    </div>\n",
              "  </div>\n"
            ]
          },
          "metadata": {},
          "execution_count": 215
        }
      ],
      "source": [
        "data33 = data.groupby('พื้นที่ทำแบบสอบถาม').mean().reset_index()[['พื้นที่ทำแบบสอบถาม','Temp']]\n",
        "data33.sort_values(by=['Temp'])"
      ]
    },
    {
      "cell_type": "code",
      "execution_count": null,
      "metadata": {
        "colab": {
          "base_uri": "https://localhost:8080/",
          "height": 468
        },
        "id": "BRQfT5UDg0rR",
        "outputId": "25ceb274-978f-45f9-e1ac-cdfbc410c60b"
      },
      "outputs": [
        {
          "output_type": "execute_result",
          "data": {
            "text/plain": [
              "<Axes: xlabel='Temp', ylabel='พื้นที่ทำแบบสอบถาม'>"
            ]
          },
          "metadata": {},
          "execution_count": 216
        },
        {
          "output_type": "display_data",
          "data": {
            "text/plain": [
              "<Figure size 640x480 with 1 Axes>"
            ],
            "image/png": "[encoded data removed]"
          },
          "metadata": {}
        }
      ],
      "source": [
        "sns.barplot(x='Temp', y='พื้นที่ทำแบบสอบถาม', data=data33)"
      ]
    },
    {
      "cell_type": "code",
      "execution_count": null,
      "metadata": {
        "colab": {
          "base_uri": "https://localhost:8080/",
          "height": 468
        },
        "id": "c9-TAG2izzeP",
        "outputId": "05fbbe8a-0abd-489b-d413-8b547b03282e"
      },
      "outputs": [
        {
          "output_type": "execute_result",
          "data": {
            "text/plain": [
              "<Axes: xlabel='Temp', ylabel='Count'>"
            ]
          },
          "metadata": {},
          "execution_count": 217
        },
        {
          "output_type": "display_data",
          "data": {
            "text/plain": [
              "<Figure size 640x480 with 1 Axes>"
            ],
            "image/png": "[encoded data removed]"
          },
          "metadata": {}
        }
      ],
      "source": [
        "sns.histplot(data=data, x=\"Temp\", hue=\"พื้นที่ทำแบบสอบถาม\", multiple=\"stack\", palette=\"viridis\")"
      ]
    },
    {
      "cell_type": "code",
      "execution_count": null,
      "metadata": {
        "colab": {
          "base_uri": "https://localhost:8080/",
          "height": 448
        },
        "id": "izzBjm-tr7ne",
        "outputId": "041805a2-f4f9-4f9e-8531-3c960e2bc5e2"
      },
      "outputs": [
        {
          "output_type": "execute_result",
          "data": {
            "text/plain": [
              "<matplotlib.legend.Legend at 0x7e990cce9060>"
            ]
          },
          "metadata": {},
          "execution_count": 218
        },
        {
          "output_type": "display_data",
          "data": {
            "text/plain": [
              "<Figure size 640x480 with 1 Axes>"
            ],
            "image/png": "[encoded data removed]"
          },
          "metadata": {}
        }
      ],
      "source": [
        "data['Temp'][data['พื้นที่ทำแบบสอบถาม']=='ภายนอก / ใต้ร่มไม้'].hist(label=\"ภายนอก / ใต้ร่มไม้\", alpha=0.5)\n",
        "data['Temp'][data['พื้นที่ทำแบบสอบถาม']=='ภายนอก/ กลางแจ้ง'].hist(label=\"ภายนอก/ กลางแจ้ง\", alpha=0.5)\n",
        "data['Temp'][data['พื้นที่ทำแบบสอบถาม']=='ภายนอก/ มีหลังคาคลุม'].hist(label=\"ภายนอก/ มีหลังคาคลุม\", alpha=0.5)\n",
        "data['Temp'][data['พื้นที่ทำแบบสอบถาม']=='ภายใต้อาคาร'].hist(label=\"ภายใต้อาคาร\", alpha=0.5)\n",
        "plt.legend(loc='upper right')"
      ]
    },
    {
      "cell_type": "markdown",
      "source": [
        "##จากกราฟจะเห็นว่าอุณหภูมิของภายนอกอาคารส่วนใหญ่อยู่ที่ 30-31 องศา"
      ],
      "metadata": {
        "id": "ag5Mo4olKAQz"
      }
    },
    {
      "cell_type": "markdown",
      "source": [
        "#plot แสดงจำนวนค่า TSV ที่ผู้ตอบแบบสอบถามเลือกในแต่ละพื้นที่ทำแบบสอบถาม"
      ],
      "metadata": {
        "id": "vtqy4ubVdzGK"
      }
    },
    {
      "cell_type": "code",
      "source": [
        "figure, axis = plt.subplots(1, 2, figsize=(5.5, 3.5), layout=\"constrained\")\n",
        "\n",
        "axis[0].hist(data['Thermal sensation Vote'][data['พื้นที่ทำแบบสอบถาม']=='ภายนอก / ใต้ร่มไม้'], color='red', alpha=0.5)\n",
        "axis[0].set_title('ภายนอก / ใต้ร่มไม้')\n",
        "axis[1].hist(data['Thermal sensation Vote'][data['พื้นที่ทำแบบสอบถาม']=='ภายนอก/ กลางแจ้ง'], color='green', alpha=0.5)\n",
        "axis[1].set_title('ภายนอก/ กลางแจ้ง')\n",
        "\n",
        "plt.legend()"
      ],
      "metadata": {
        "colab": {
          "base_uri": "https://localhost:8080/",
          "height": 433
        },
        "id": "zUYFwwBheEv0",
        "outputId": "294669b7-2ef4-47ed-a0b9-8fddbcebd259"
      },
      "execution_count": null,
      "outputs": [
        {
          "output_type": "stream",
          "name": "stderr",
          "text": [
            "WARNING:matplotlib.legend:No artists with labels found to put in legend.  Note that artists whose label start with an underscore are ignored when legend() is called with no argument.\n"
          ]
        },
        {
          "output_type": "execute_result",
          "data": {
            "text/plain": [
              "<matplotlib.legend.Legend at 0x7e990d3133a0>"
            ]
          },
          "metadata": {},
          "execution_count": 221
        },
        {
          "output_type": "display_data",
          "data": {
            "text/plain": [
              "<Figure size 550x350 with 2 Axes>"
            ],
            "image/png": "[encoded data removed]"
          },
          "metadata": {}
        }
      ]
    },
    {
      "cell_type": "markdown",
      "source": [
        "##จากกราฟจะเห็นได้ว่าบริเวณภายนอก/ ใต้ต้นไม้ ผู้ตอบแบบสอบถามส่วนใหญ่รู้สึกอุ่นเล็กน้อยและสบายตามลำดับ และะ ภายนอก/กลางแจ้งรู้สึกร้อนมาก"
      ],
      "metadata": {
        "id": "VosorQihJAvn"
      }
    },
    {
      "cell_type": "code",
      "source": [
        "figure, axis = plt.subplots(1, 2, figsize=(5.5, 3.5), layout=\"constrained\")\n",
        "\n",
        "axis[0].hist(data['Thermal sensation Vote'][data['พื้นที่ทำแบบสอบถาม']=='ภายนอก/ มีหลังคาคลุม'], color='purple', alpha=0.5)\n",
        "axis[0].set_title('ภายนอก/ มีหลังคาคลุม')\n",
        "axis[1].hist(data['Thermal sensation Vote'][data['พื้นที่ทำแบบสอบถาม']=='ภายใต้อาคาร'], color='blue', alpha=0.5)\n",
        "axis[1].set_title('ภายใต้อาคาร')\n",
        "plt.legend(loc='upper right')"
      ],
      "metadata": {
        "colab": {
          "base_uri": "https://localhost:8080/",
          "height": 433
        },
        "id": "2MY4sP6dePwV",
        "outputId": "22d72226-1047-41b1-8acb-6afd2f794c34"
      },
      "execution_count": null,
      "outputs": [
        {
          "output_type": "stream",
          "name": "stderr",
          "text": [
            "WARNING:matplotlib.legend:No artists with labels found to put in legend.  Note that artists whose label start with an underscore are ignored when legend() is called with no argument.\n"
          ]
        },
        {
          "output_type": "execute_result",
          "data": {
            "text/plain": [
              "<matplotlib.legend.Legend at 0x7e990f7c72e0>"
            ]
          },
          "metadata": {},
          "execution_count": 222
        },
        {
          "output_type": "display_data",
          "data": {
            "text/plain": [
              "<Figure size 550x350 with 2 Axes>"
            ],
            "image/png": "[encoded data removed]"
          },
          "metadata": {}
        }
      ]
    },
    {
      "cell_type": "markdown",
      "source": [
        "##จากกราฟจะเห็นได้ว่าภายนอกอาคารมีหลังผู้ตอบแบบสอบถามส่วนใหญ่รู้สึกสบายและเย็นเล็กน้อยพอๆกัน และภายใต้อาคารจะรู้สึกสบายและอุ่นเล็กน้อยตามลำดับ"
      ],
      "metadata": {
        "id": "osdJFIs3I6Fx"
      }
    },
    {
      "cell_type": "markdown",
      "source": [
        "##plot แสดงจำนวนที่ผู้ตอบแบบสอบถามที่เลือกค่า TSV\n"
      ],
      "metadata": {
        "id": "oZ5x47EXeY0f"
      }
    },
    {
      "cell_type": "code",
      "source": [
        "count_pv_onset = data.groupby('Thermal sensation Vote')[['No']].count().sort_values('No', ascending=False)\n",
        "count_pv_onset"
      ],
      "metadata": {
        "colab": {
          "base_uri": "https://localhost:8080/",
          "height": 269
        },
        "id": "zDnhnY2-egY2",
        "outputId": "746799b8-4b20-4454-d2f0-e0d80ea85ac8"
      },
      "execution_count": null,
      "outputs": [
        {
          "output_type": "execute_result",
          "data": {
            "text/plain": [
              "                        No\n",
              "Thermal sensation Vote    \n",
              " 0                      59\n",
              " 1                      53\n",
              "-1                      39\n",
              " 2                      22\n",
              " 3                      16\n",
              "-2                       4"
            ],
            "text/html": [
              "\n",
              "  <div id=\"df-1dc21c60-2486-4b73-b113-652e0e6d46e4\" class=\"colab-df-container\">\n",
              "    <div>\n",
              "<style scoped>\n",
              "    .dataframe tbody tr th:only-of-type {\n",
              "        vertical-align: middle;\n",
              "    }\n",
              "\n",
              "    .dataframe tbody tr th {\n",
              "        vertical-align: top;\n",
              "    }\n",
              "\n",
              "    .dataframe thead th {\n",
              "        text-align: right;\n",
              "    }\n",
              "</style>\n",
              "<table border=\"1\" class=\"dataframe\">\n",
              "  <thead>\n",
              "    <tr style=\"text-align: right;\">\n",
              "      <th></th>\n",
              "      <th>No</th>\n",
              "    </tr>\n",
              "    <tr>\n",
              "      <th>Thermal sensation Vote</th>\n",
              "      <th></th>\n",
              "    </tr>\n",
              "  </thead>\n",
              "  <tbody>\n",
              "    <tr>\n",
              "      <th>0</th>\n",
              "      <td>59</td>\n",
              "    </tr>\n",
              "    <tr>\n",
              "      <th>1</th>\n",
              "      <td>53</td>\n",
              "    </tr>\n",
              "    <tr>\n",
              "      <th>-1</th>\n",
              "      <td>39</td>\n",
              "    </tr>\n",
              "    <tr>\n",
              "      <th>2</th>\n",
              "      <td>22</td>\n",
              "    </tr>\n",
              "    <tr>\n",
              "      <th>3</th>\n",
              "      <td>16</td>\n",
              "    </tr>\n",
              "    <tr>\n",
              "      <th>-2</th>\n",
              "      <td>4</td>\n",
              "    </tr>\n",
              "  </tbody>\n",
              "</table>\n",
              "</div>\n",
              "    <div class=\"colab-df-buttons\">\n",
              "\n",
              "  <div class=\"colab-df-container\">\n",
              "    <button class=\"colab-df-convert\" onclick=\"convertToInteractive('df-1dc21c60-2486-4b73-b113-652e0e6d46e4')\"\n",
              "            title=\"Convert this dataframe to an interactive table.\"\n",
              "            style=\"display:none;\">\n",
              "\n",
              "  <svg xmlns=\"http://www.w3.org/2000/svg\" height=\"24px\" viewBox=\"0 -960 960 960\">\n",
              "    <path d=\"M120-120v-720h720v720H120Zm60-500h600v-160H180v160Zm220 220h160v-160H400v160Zm0 220h160v-160H400v160ZM180-400h160v-160H180v160Zm440 0h160v-160H620v160ZM180-180h160v-160H180v160Zm440 0h160v-160H620v160Z\"/>\n",
              "  </svg>\n",
              "    </button>\n",
              "\n",
              "  <style>\n",
              "    .colab-df-container {\n",
              "      display:flex;\n",
              "      gap: 12px;\n",
              "    }\n",
              "\n",
              "    .colab-df-convert {\n",
              "      background-color: #E8F0FE;\n",
              "      border: none;\n",
              "      border-radius: 50%;\n",
              "      cursor: pointer;\n",
              "      display: none;\n",
              "      fill: #1967D2;\n",
              "      height: 32px;\n",
              "      padding: 0 0 0 0;\n",
              "      width: 32px;\n",
              "    }\n",
              "\n",
              "    .colab-df-convert:hover {\n",
              "      background-color: #E2EBFA;\n",
              "      box-shadow: 0px 1px 2px rgba(60, 64, 67, 0.3), 0px 1px 3px 1px rgba(60, 64, 67, 0.15);\n",
              "      fill: #174EA6;\n",
              "    }\n",
              "\n",
              "    .colab-df-buttons div {\n",
              "      margin-bottom: 4px;\n",
              "    }\n",
              "\n",
              "    [theme=dark] .colab-df-convert {\n",
              "      background-color: #3B4455;\n",
              "      fill: #D2E3FC;\n",
              "    }\n",
              "\n",
              "    [theme=dark] .colab-df-convert:hover {\n",
              "      background-color: #434B5C;\n",
              "      box-shadow: 0px 1px 3px 1px rgba(0, 0, 0, 0.15);\n",
              "      filter: drop-shadow(0px 1px 2px rgba(0, 0, 0, 0.3));\n",
              "      fill: #FFFFFF;\n",
              "    }\n",
              "  </style>\n",
              "\n",
              "    <script>\n",
              "      const buttonEl =\n",
              "        document.querySelector('#df-1dc21c60-2486-4b73-b113-652e0e6d46e4 button.colab-df-convert');\n",
              "      buttonEl.style.display =\n",
              "        google.colab.kernel.accessAllowed ? 'block' : 'none';\n",
              "\n",
              "      async function convertToInteractive(key) {\n",
              "        const element = document.querySelector('#df-1dc21c60-2486-4b73-b113-652e0e6d46e4');\n",
              "        const dataTable =\n",
              "          await google.colab.kernel.invokeFunction('convertToInteractive',\n",
              "                                                    [key], {});\n",
              "        if (!dataTable) return;\n",
              "\n",
              "        const docLinkHtml = 'Like what you see? Visit the ' +\n",
              "          '<a target=\"_blank\" href=https://colab.research.google.com/notebooks/data_table.ipynb>data table notebook</a>'\n",
              "          + ' to learn more about interactive tables.';\n",
              "        element.innerHTML = '';\n",
              "        dataTable['output_type'] = 'display_data';\n",
              "        await google.colab.output.renderOutput(dataTable, element);\n",
              "        const docLink = document.createElement('div');\n",
              "        docLink.innerHTML = docLinkHtml;\n",
              "        element.appendChild(docLink);\n",
              "      }\n",
              "    </script>\n",
              "  </div>\n",
              "\n",
              "\n",
              "<div id=\"df-17763f68-083b-4662-8c11-aea0a8395c3a\">\n",
              "  <button class=\"colab-df-quickchart\" onclick=\"quickchart('df-17763f68-083b-4662-8c11-aea0a8395c3a')\"\n",
              "            title=\"Suggest charts.\"\n",
              "            style=\"display:none;\">\n",
              "\n",
              "<svg xmlns=\"http://www.w3.org/2000/svg\" height=\"24px\"viewBox=\"0 0 24 24\"\n",
              "     width=\"24px\">\n",
              "    <g>\n",
              "        <path d=\"M19 3H5c-1.1 0-2 .9-2 2v14c0 1.1.9 2 2 2h14c1.1 0 2-.9 2-2V5c0-1.1-.9-2-2-2zM9 17H7v-7h2v7zm4 0h-2V7h2v10zm4 0h-2v-4h2v4z\"/>\n",
              "    </g>\n",
              "</svg>\n",
              "  </button>\n",
              "\n",
              "<style>\n",
              "  .colab-df-quickchart {\n",
              "      --bg-color: #E8F0FE;\n",
              "      --fill-color: #1967D2;\n",
              "      --hover-bg-color: #E2EBFA;\n",
              "      --hover-fill-color: #174EA6;\n",
              "      --disabled-fill-color: #AAA;\n",
              "      --disabled-bg-color: #DDD;\n",
              "  }\n",
              "\n",
              "  [theme=dark] .colab-df-quickchart {\n",
              "      --bg-color: #3B4455;\n",
              "      --fill-color: #D2E3FC;\n",
              "      --hover-bg-color: #434B5C;\n",
              "      --hover-fill-color: #FFFFFF;\n",
              "      --disabled-bg-color: #3B4455;\n",
              "      --disabled-fill-color: #666;\n",
              "  }\n",
              "\n",
              "  .colab-df-quickchart {\n",
              "    background-color: var(--bg-color);\n",
              "    border: none;\n",
              "    border-radius: 50%;\n",
              "    cursor: pointer;\n",
              "    display: none;\n",
              "    fill: var(--fill-color);\n",
              "    height: 32px;\n",
              "    padding: 0;\n",
              "    width: 32px;\n",
              "  }\n",
              "\n",
              "  .colab-df-quickchart:hover {\n",
              "    background-color: var(--hover-bg-color);\n",
              "    box-shadow: 0 1px 2px rgba(60, 64, 67, 0.3), 0 1px 3px 1px rgba(60, 64, 67, 0.15);\n",
              "    fill: var(--button-hover-fill-color);\n",
              "  }\n",
              "\n",
              "  .colab-df-quickchart-complete:disabled,\n",
              "  .colab-df-quickchart-complete:disabled:hover {\n",
              "    background-color: var(--disabled-bg-color);\n",
              "    fill: var(--disabled-fill-color);\n",
              "    box-shadow: none;\n",
              "  }\n",
              "\n",
              "  .colab-df-spinner {\n",
              "    border: 2px solid var(--fill-color);\n",
              "    border-color: transparent;\n",
              "    border-bottom-color: var(--fill-color);\n",
              "    animation:\n",
              "      spin 1s steps(1) infinite;\n",
              "  }\n",
              "\n",
              "  @keyframes spin {\n",
              "    0% {\n",
              "      border-color: transparent;\n",
              "      border-bottom-color: var(--fill-color);\n",
              "      border-left-color: var(--fill-color);\n",
              "    }\n",
              "    20% {\n",
              "      border-color: transparent;\n",
              "      border-left-color: var(--fill-color);\n",
              "      border-top-color: var(--fill-color);\n",
              "    }\n",
              "    30% {\n",
              "      border-color: transparent;\n",
              "      border-left-color: var(--fill-color);\n",
              "      border-top-color: var(--fill-color);\n",
              "      border-right-color: var(--fill-color);\n",
              "    }\n",
              "    40% {\n",
              "      border-color: transparent;\n",
              "      border-right-color: var(--fill-color);\n",
              "      border-top-color: var(--fill-color);\n",
              "    }\n",
              "    60% {\n",
              "      border-color: transparent;\n",
              "      border-right-color: var(--fill-color);\n",
              "    }\n",
              "    80% {\n",
              "      border-color: transparent;\n",
              "      border-right-color: var(--fill-color);\n",
              "      border-bottom-color: var(--fill-color);\n",
              "    }\n",
              "    90% {\n",
              "      border-color: transparent;\n",
              "      border-bottom-color: var(--fill-color);\n",
              "    }\n",
              "  }\n",
              "</style>\n",
              "\n",
              "  <script>\n",
              "    async function quickchart(key) {\n",
              "      const quickchartButtonEl =\n",
              "        document.querySelector('#' + key + ' button');\n",
              "      quickchartButtonEl.disabled = true;  // To prevent multiple clicks.\n",
              "      quickchartButtonEl.classList.add('colab-df-spinner');\n",
              "      try {\n",
              "        const charts = await google.colab.kernel.invokeFunction(\n",
              "            'suggestCharts', [key], {});\n",
              "      } catch (error) {\n",
              "        console.error('Error during call to suggestCharts:', error);\n",
              "      }\n",
              "      quickchartButtonEl.classList.remove('colab-df-spinner');\n",
              "      quickchartButtonEl.classList.add('colab-df-quickchart-complete');\n",
              "    }\n",
              "    (() => {\n",
              "      let quickchartButtonEl =\n",
              "        document.querySelector('#df-17763f68-083b-4662-8c11-aea0a8395c3a button');\n",
              "      quickchartButtonEl.style.display =\n",
              "        google.colab.kernel.accessAllowed ? 'block' : 'none';\n",
              "    })();\n",
              "  </script>\n",
              "</div>\n",
              "    </div>\n",
              "  </div>\n"
            ]
          },
          "metadata": {},
          "execution_count": 223
        }
      ]
    },
    {
      "cell_type": "code",
      "source": [
        "count_pv_onset.plot.pie(y='No')"
      ],
      "metadata": {
        "colab": {
          "base_uri": "https://localhost:8080/",
          "height": 423
        },
        "id": "uMhpGX3YerXw",
        "outputId": "f0a6929b-2e69-465e-817a-499665c7219a"
      },
      "execution_count": null,
      "outputs": [
        {
          "output_type": "execute_result",
          "data": {
            "text/plain": [
              "<Axes: ylabel='No'>"
            ]
          },
          "metadata": {},
          "execution_count": 224
        },
        {
          "output_type": "display_data",
          "data": {
            "text/plain": [
              "<Figure size 640x480 with 1 Axes>"
            ],
            "image/png": "[encoded data removed]"
          },
          "metadata": {}
        }
      ]
    },
    {
      "cell_type": "markdown",
      "source": [
        "##จากแผนภาพจะเห็นได้ว่าผู้ตอบแบบสอบถามส่วนใหญ่รู้สึกสบายและอุ่นเล็กน้อย"
      ],
      "metadata": {
        "id": "8F5TDrgbISv9"
      }
    },
    {
      "cell_type": "markdown",
      "metadata": {
        "id": "cjlJ35onKV7J"
      },
      "source": [
        "##plot แสดงจำนวนที่ผู้ตอบแบบสอบถามที่ยอมรับสภาพอากาศและไม่ยอมรับสภาพอากาศ\n"
      ]
    },
    {
      "cell_type": "code",
      "execution_count": null,
      "metadata": {
        "colab": {
          "base_uri": "https://localhost:8080/",
          "height": 143
        },
        "id": "vhxHiPySlkI3",
        "outputId": "91d93f68-6ec1-41cc-9042-19ae41e7efe0"
      },
      "outputs": [
        {
          "output_type": "execute_result",
          "data": {
            "text/plain": [
              "                     No\n",
              "Thermal acceptance     \n",
              "Accept              172\n",
              "Unaccept             21"
            ],
            "text/html": [
              "\n",
              "  <div id=\"df-292bb3be-693b-47c9-82ac-7eda686d4342\" class=\"colab-df-container\">\n",
              "    <div>\n",
              "<style scoped>\n",
              "    .dataframe tbody tr th:only-of-type {\n",
              "        vertical-align: middle;\n",
              "    }\n",
              "\n",
              "    .dataframe tbody tr th {\n",
              "        vertical-align: top;\n",
              "    }\n",
              "\n",
              "    .dataframe thead th {\n",
              "        text-align: right;\n",
              "    }\n",
              "</style>\n",
              "<table border=\"1\" class=\"dataframe\">\n",
              "  <thead>\n",
              "    <tr style=\"text-align: right;\">\n",
              "      <th></th>\n",
              "      <th>No</th>\n",
              "    </tr>\n",
              "    <tr>\n",
              "      <th>Thermal acceptance</th>\n",
              "      <th></th>\n",
              "    </tr>\n",
              "  </thead>\n",
              "  <tbody>\n",
              "    <tr>\n",
              "      <th>Accept</th>\n",
              "      <td>172</td>\n",
              "    </tr>\n",
              "    <tr>\n",
              "      <th>Unaccept</th>\n",
              "      <td>21</td>\n",
              "    </tr>\n",
              "  </tbody>\n",
              "</table>\n",
              "</div>\n",
              "    <div class=\"colab-df-buttons\">\n",
              "\n",
              "  <div class=\"colab-df-container\">\n",
              "    <button class=\"colab-df-convert\" onclick=\"convertToInteractive('df-292bb3be-693b-47c9-82ac-7eda686d4342')\"\n",
              "            title=\"Convert this dataframe to an interactive table.\"\n",
              "            style=\"display:none;\">\n",
              "\n",
              "  <svg xmlns=\"http://www.w3.org/2000/svg\" height=\"24px\" viewBox=\"0 -960 960 960\">\n",
              "    <path d=\"M120-120v-720h720v720H120Zm60-500h600v-160H180v160Zm220 220h160v-160H400v160Zm0 220h160v-160H400v160ZM180-400h160v-160H180v160Zm440 0h160v-160H620v160ZM180-180h160v-160H180v160Zm440 0h160v-160H620v160Z\"/>\n",
              "  </svg>\n",
              "    </button>\n",
              "\n",
              "  <style>\n",
              "    .colab-df-container {\n",
              "      display:flex;\n",
              "      gap: 12px;\n",
              "    }\n",
              "\n",
              "    .colab-df-convert {\n",
              "      background-color: #E8F0FE;\n",
              "      border: none;\n",
              "      border-radius: 50%;\n",
              "      cursor: pointer;\n",
              "      display: none;\n",
              "      fill: #1967D2;\n",
              "      height: 32px;\n",
              "      padding: 0 0 0 0;\n",
              "      width: 32px;\n",
              "    }\n",
              "\n",
              "    .colab-df-convert:hover {\n",
              "      background-color: #E2EBFA;\n",
              "      box-shadow: 0px 1px 2px rgba(60, 64, 67, 0.3), 0px 1px 3px 1px rgba(60, 64, 67, 0.15);\n",
              "      fill: #174EA6;\n",
              "    }\n",
              "\n",
              "    .colab-df-buttons div {\n",
              "      margin-bottom: 4px;\n",
              "    }\n",
              "\n",
              "    [theme=dark] .colab-df-convert {\n",
              "      background-color: #3B4455;\n",
              "      fill: #D2E3FC;\n",
              "    }\n",
              "\n",
              "    [theme=dark] .colab-df-convert:hover {\n",
              "      background-color: #434B5C;\n",
              "      box-shadow: 0px 1px 3px 1px rgba(0, 0, 0, 0.15);\n",
              "      filter: drop-shadow(0px 1px 2px rgba(0, 0, 0, 0.3));\n",
              "      fill: #FFFFFF;\n",
              "    }\n",
              "  </style>\n",
              "\n",
              "    <script>\n",
              "      const buttonEl =\n",
              "        document.querySelector('#df-292bb3be-693b-47c9-82ac-7eda686d4342 button.colab-df-convert');\n",
              "      buttonEl.style.display =\n",
              "        google.colab.kernel.accessAllowed ? 'block' : 'none';\n",
              "\n",
              "      async function convertToInteractive(key) {\n",
              "        const element = document.querySelector('#df-292bb3be-693b-47c9-82ac-7eda686d4342');\n",
              "        const dataTable =\n",
              "          await google.colab.kernel.invokeFunction('convertToInteractive',\n",
              "                                                    [key], {});\n",
              "        if (!dataTable) return;\n",
              "\n",
              "        const docLinkHtml = 'Like what you see? Visit the ' +\n",
              "          '<a target=\"_blank\" href=https://colab.research.google.com/notebooks/data_table.ipynb>data table notebook</a>'\n",
              "          + ' to learn more about interactive tables.';\n",
              "        element.innerHTML = '';\n",
              "        dataTable['output_type'] = 'display_data';\n",
              "        await google.colab.output.renderOutput(dataTable, element);\n",
              "        const docLink = document.createElement('div');\n",
              "        docLink.innerHTML = docLinkHtml;\n",
              "        element.appendChild(docLink);\n",
              "      }\n",
              "    </script>\n",
              "  </div>\n",
              "\n",
              "\n",
              "<div id=\"df-79230324-34a9-4cae-8f65-f0936e877f3c\">\n",
              "  <button class=\"colab-df-quickchart\" onclick=\"quickchart('df-79230324-34a9-4cae-8f65-f0936e877f3c')\"\n",
              "            title=\"Suggest charts.\"\n",
              "            style=\"display:none;\">\n",
              "\n",
              "<svg xmlns=\"http://www.w3.org/2000/svg\" height=\"24px\"viewBox=\"0 0 24 24\"\n",
              "     width=\"24px\">\n",
              "    <g>\n",
              "        <path d=\"M19 3H5c-1.1 0-2 .9-2 2v14c0 1.1.9 2 2 2h14c1.1 0 2-.9 2-2V5c0-1.1-.9-2-2-2zM9 17H7v-7h2v7zm4 0h-2V7h2v10zm4 0h-2v-4h2v4z\"/>\n",
              "    </g>\n",
              "</svg>\n",
              "  </button>\n",
              "\n",
              "<style>\n",
              "  .colab-df-quickchart {\n",
              "      --bg-color: #E8F0FE;\n",
              "      --fill-color: #1967D2;\n",
              "      --hover-bg-color: #E2EBFA;\n",
              "      --hover-fill-color: #174EA6;\n",
              "      --disabled-fill-color: #AAA;\n",
              "      --disabled-bg-color: #DDD;\n",
              "  }\n",
              "\n",
              "  [theme=dark] .colab-df-quickchart {\n",
              "      --bg-color: #3B4455;\n",
              "      --fill-color: #D2E3FC;\n",
              "      --hover-bg-color: #434B5C;\n",
              "      --hover-fill-color: #FFFFFF;\n",
              "      --disabled-bg-color: #3B4455;\n",
              "      --disabled-fill-color: #666;\n",
              "  }\n",
              "\n",
              "  .colab-df-quickchart {\n",
              "    background-color: var(--bg-color);\n",
              "    border: none;\n",
              "    border-radius: 50%;\n",
              "    cursor: pointer;\n",
              "    display: none;\n",
              "    fill: var(--fill-color);\n",
              "    height: 32px;\n",
              "    padding: 0;\n",
              "    width: 32px;\n",
              "  }\n",
              "\n",
              "  .colab-df-quickchart:hover {\n",
              "    background-color: var(--hover-bg-color);\n",
              "    box-shadow: 0 1px 2px rgba(60, 64, 67, 0.3), 0 1px 3px 1px rgba(60, 64, 67, 0.15);\n",
              "    fill: var(--button-hover-fill-color);\n",
              "  }\n",
              "\n",
              "  .colab-df-quickchart-complete:disabled,\n",
              "  .colab-df-quickchart-complete:disabled:hover {\n",
              "    background-color: var(--disabled-bg-color);\n",
              "    fill: var(--disabled-fill-color);\n",
              "    box-shadow: none;\n",
              "  }\n",
              "\n",
              "  .colab-df-spinner {\n",
              "    border: 2px solid var(--fill-color);\n",
              "    border-color: transparent;\n",
              "    border-bottom-color: var(--fill-color);\n",
              "    animation:\n",
              "      spin 1s steps(1) infinite;\n",
              "  }\n",
              "\n",
              "  @keyframes spin {\n",
              "    0% {\n",
              "      border-color: transparent;\n",
              "      border-bottom-color: var(--fill-color);\n",
              "      border-left-color: var(--fill-color);\n",
              "    }\n",
              "    20% {\n",
              "      border-color: transparent;\n",
              "      border-left-color: var(--fill-color);\n",
              "      border-top-color: var(--fill-color);\n",
              "    }\n",
              "    30% {\n",
              "      border-color: transparent;\n",
              "      border-left-color: var(--fill-color);\n",
              "      border-top-color: var(--fill-color);\n",
              "      border-right-color: var(--fill-color);\n",
              "    }\n",
              "    40% {\n",
              "      border-color: transparent;\n",
              "      border-right-color: var(--fill-color);\n",
              "      border-top-color: var(--fill-color);\n",
              "    }\n",
              "    60% {\n",
              "      border-color: transparent;\n",
              "      border-right-color: var(--fill-color);\n",
              "    }\n",
              "    80% {\n",
              "      border-color: transparent;\n",
              "      border-right-color: var(--fill-color);\n",
              "      border-bottom-color: var(--fill-color);\n",
              "    }\n",
              "    90% {\n",
              "      border-color: transparent;\n",
              "      border-bottom-color: var(--fill-color);\n",
              "    }\n",
              "  }\n",
              "</style>\n",
              "\n",
              "  <script>\n",
              "    async function quickchart(key) {\n",
              "      const quickchartButtonEl =\n",
              "        document.querySelector('#' + key + ' button');\n",
              "      quickchartButtonEl.disabled = true;  // To prevent multiple clicks.\n",
              "      quickchartButtonEl.classList.add('colab-df-spinner');\n",
              "      try {\n",
              "        const charts = await google.colab.kernel.invokeFunction(\n",
              "            'suggestCharts', [key], {});\n",
              "      } catch (error) {\n",
              "        console.error('Error during call to suggestCharts:', error);\n",
              "      }\n",
              "      quickchartButtonEl.classList.remove('colab-df-spinner');\n",
              "      quickchartButtonEl.classList.add('colab-df-quickchart-complete');\n",
              "    }\n",
              "    (() => {\n",
              "      let quickchartButtonEl =\n",
              "        document.querySelector('#df-79230324-34a9-4cae-8f65-f0936e877f3c button');\n",
              "      quickchartButtonEl.style.display =\n",
              "        google.colab.kernel.accessAllowed ? 'block' : 'none';\n",
              "    })();\n",
              "  </script>\n",
              "</div>\n",
              "    </div>\n",
              "  </div>\n"
            ]
          },
          "metadata": {},
          "execution_count": 225
        }
      ],
      "source": [
        "count_pv_onset = data.groupby('Thermal acceptance')[['No']].count().sort_values('No', ascending=False)\n",
        "count_pv_onset"
      ]
    },
    {
      "cell_type": "code",
      "execution_count": null,
      "metadata": {
        "colab": {
          "base_uri": "https://localhost:8080/",
          "height": 423
        },
        "id": "T9zDLoaHlkOj",
        "outputId": "8dd9cbca-3642-4d7f-e02b-f3b2e70d3a63"
      },
      "outputs": [
        {
          "output_type": "execute_result",
          "data": {
            "text/plain": [
              "<Axes: ylabel='No'>"
            ]
          },
          "metadata": {},
          "execution_count": 226
        },
        {
          "output_type": "display_data",
          "data": {
            "text/plain": [
              "<Figure size 640x480 with 1 Axes>"
            ],
            "image/png": "[encoded data removed]"
          },
          "metadata": {}
        }
      ],
      "source": [
        "count_pv_onset.plot.pie(y='No')"
      ]
    },
    {
      "cell_type": "markdown",
      "source": [
        "##จากแผนภาพจะเห็นได้ว่าผู้ตอบแบบสอบถามส่วนใหญ่ยอมรับสภาพอากาศ"
      ],
      "metadata": {
        "id": "iEwgAV0aH9Bw"
      }
    },
    {
      "cell_type": "markdown",
      "source": [
        "#Plot เปรียบเทียบการยอมรับ/ไม่ยอมรับสภาพอากาศกับการเลือกค่า TSV"
      ],
      "metadata": {
        "id": "AzMxOo-dhMNc"
      }
    },
    {
      "cell_type": "code",
      "execution_count": null,
      "metadata": {
        "colab": {
          "base_uri": "https://localhost:8080/",
          "height": 468
        },
        "id": "o8XITKXI3CDw",
        "outputId": "c76073cf-458f-4142-cc36-82804c4da3ee"
      },
      "outputs": [
        {
          "output_type": "execute_result",
          "data": {
            "text/plain": [
              "<Axes: xlabel='Thermal sensation Vote', ylabel='Count'>"
            ]
          },
          "metadata": {},
          "execution_count": 227
        },
        {
          "output_type": "display_data",
          "data": {
            "text/plain": [
              "<Figure size 640x480 with 1 Axes>"
            ],
            "image/png": "[encoded data removed]"
          },
          "metadata": {}
        }
      ],
      "source": [
        "sns.histplot(data=data, x=\"Thermal sensation Vote\", hue=\"Thermal acceptance\", multiple=\"stack\", palette=\"viridis\")"
      ]
    },
    {
      "cell_type": "markdown",
      "source": [
        "##จากกราฟจะเห็นได้ว่าผู้ตอบแบบสอบถามส่วนใหญ่ที่ยอมรับสภาพอากาศรู้สึกสบายและอุ่นเล็กน้อยตามลำดับ"
      ],
      "metadata": {
        "id": "Yi2MX4jgM3eJ"
      }
    },
    {
      "cell_type": "markdown",
      "source": [
        "#Plot เปรียบเทียบค่า TSV กับ ความเร็วลม อุณหภูมิ ความชื้นสัมพัทธ์ และค่าTMRT ตามลำดับ"
      ],
      "metadata": {
        "id": "GgAVaAFAvE0e"
      }
    },
    {
      "cell_type": "code",
      "source": [
        "sns.catplot(data=data, x=\"Thermal sensation Vote\", y=\"V (m/s)\",  kind=\"bar\")\n",
        "sns.catplot(data=data, x=\"Thermal sensation Vote\", y=\"Temp\", kind=\"bar\")"
      ],
      "metadata": {
        "colab": {
          "base_uri": "https://localhost:8080/",
          "height": 1000
        },
        "id": "Box0yAl6nSF0",
        "outputId": "fa84b2a6-feb9-4d09-bed7-e48acfa4b7f4"
      },
      "execution_count": null,
      "outputs": [
        {
          "output_type": "execute_result",
          "data": {
            "text/plain": [
              "<seaborn.axisgrid.FacetGrid at 0x7e990f56c730>"
            ]
          },
          "metadata": {},
          "execution_count": 228
        },
        {
          "output_type": "display_data",
          "data": {
            "text/plain": [
              "<Figure size 500x500 with 1 Axes>"
            ],
            "image/png": "[encoded data removed]"
          },
          "metadata": {}
        },
        {
          "output_type": "display_data",
          "data": {
            "text/plain": [
              "<Figure size 500x500 with 1 Axes>"
            ],
            "image/png": "[encoded data removed]"
          },
          "metadata": {}
        }
      ]
    },
    {
      "cell_type": "markdown",
      "source": [
        "##จากกราฟจะเห็นได้ว่าผู้ตอบแบบสอบถามส่วนใหญ่รู้สึกหนาวที่ความเร็วลมประมาณ 0.6 และรู้สกร้อนมากที่อุณหภูมิประมาณ 34 องศา\n",
        "                 "
      ],
      "metadata": {
        "id": "8yAdfMLjKhfB"
      }
    },
    {
      "cell_type": "code",
      "source": [
        "sns.catplot(data=data, x=\"Thermal sensation Vote\", y=\"%RH\",  kind=\"bar\")\n",
        "sns.catplot(data=data, x=\"Thermal sensation Vote\", y=\"TMRT\",  kind=\"bar\")"
      ],
      "metadata": {
        "colab": {
          "base_uri": "https://localhost:8080/",
          "height": 1000
        },
        "id": "G8TQQD53oCWm",
        "outputId": "2db208b8-b939-4ee5-9d1b-2a84c558ee29"
      },
      "execution_count": null,
      "outputs": [
        {
          "output_type": "execute_result",
          "data": {
            "text/plain": [
              "<seaborn.axisgrid.FacetGrid at 0x7e991093c310>"
            ]
          },
          "metadata": {},
          "execution_count": 229
        },
        {
          "output_type": "display_data",
          "data": {
            "text/plain": [
              "<Figure size 500x500 with 1 Axes>"
            ],
            "image/png": "[encoded data removed]"
          },
          "metadata": {}
        },
        {
          "output_type": "display_data",
          "data": {
            "text/plain": [
              "<Figure size 500x500 with 1 Axes>"
            ],
            "image/png": "[encoded data removed]"
          },
          "metadata": {}
        }
      ]
    },
    {
      "cell_type": "markdown",
      "source": [
        "##จากกราฟจะเห็นได้ว่าผู้ตอบแบบสอบถามส่วนใหญ่รู้สึกร้อนมากที่ความชื้นสัมพัทธ์ประมาณ 51-52 และรู้สึกร้อนมากเมื่อค่าการแผ่รังสีความร้อนเฉลี่ยเกือบ 35"
      ],
      "metadata": {
        "id": "QE8jtluXLI_b"
      }
    },
    {
      "cell_type": "markdown",
      "source": [
        "#Plot แสดงค่า TSV ของเพศชายและหญิง"
      ],
      "metadata": {
        "id": "RmTz67Iovj9Z"
      }
    },
    {
      "cell_type": "code",
      "source": [
        "sns.histplot(data=data, x=\"Thermal sensation Vote\", hue=\"เพศ\", multiple=\"dodge\", shrink=1, palette=\"viridis\")"
      ],
      "metadata": {
        "colab": {
          "base_uri": "https://localhost:8080/",
          "height": 468
        },
        "id": "Mu2GMvIXpmMu",
        "outputId": "649ca890-1706-4580-ca39-5f3371ef1c11"
      },
      "execution_count": null,
      "outputs": [
        {
          "output_type": "execute_result",
          "data": {
            "text/plain": [
              "<Axes: xlabel='Thermal sensation Vote', ylabel='Count'>"
            ]
          },
          "metadata": {},
          "execution_count": 230
        },
        {
          "output_type": "display_data",
          "data": {
            "text/plain": [
              "<Figure size 640x480 with 1 Axes>"
            ],
            "image/png": "[encoded data removed]"
          },
          "metadata": {}
        }
      ]
    },
    {
      "cell_type": "markdown",
      "source": [
        "##จากกราฟจะเห็นได้ว่าผู้ตอบแบบสอบถามส่วนใหญ่เป็นผู้ชายมากกว่าผู้หญิงและโดยส่วนใหญ่รู้สึกสบาย"
      ],
      "metadata": {
        "id": "NW3KxekfLgmY"
      }
    },
    {
      "cell_type": "markdown",
      "source": [
        "#Plot เปรียบเทียบค่า TSV และอายุต่อการยอมรับสภาพอากาศ"
      ],
      "metadata": {
        "id": "KuyO9aOhv1UW"
      }
    },
    {
      "cell_type": "code",
      "source": [
        "sns.catplot(data=data, x=\"Thermal sensation Vote\", y=\"Age\", hue=\"Thermal acceptance\", kind=\"bar\")"
      ],
      "metadata": {
        "colab": {
          "base_uri": "https://localhost:8080/",
          "height": 524
        },
        "id": "73q8MWRVbxAs",
        "outputId": "90acce1f-3113-4ce8-d8cf-e785b1bf927f"
      },
      "execution_count": null,
      "outputs": [
        {
          "output_type": "execute_result",
          "data": {
            "text/plain": [
              "<seaborn.axisgrid.FacetGrid at 0x7e990f6877c0>"
            ]
          },
          "metadata": {},
          "execution_count": 231
        },
        {
          "output_type": "display_data",
          "data": {
            "text/plain": [
              "<Figure size 642.611x500 with 1 Axes>"
            ],
            "image/png": "[encoded data removed]"
          },
          "metadata": {}
        }
      ]
    },
    {
      "cell_type": "markdown",
      "source": [
        "##จากกราฟจะเห็นได้ว่าที่ความรู้สึกสบายมีผู้ตอบแบบสอบามไม่ยอมรับในสภาพอากาศมากกว่าสยอมรับ ซึ่งอายุประมาณ 45"
      ],
      "metadata": {
        "id": "OnUwXYUELuws"
      }
    },
    {
      "cell_type": "markdown",
      "source": [
        "#one hot encoder"
      ],
      "metadata": {
        "id": "fHeLAH44q_Ta"
      }
    },
    {
      "cell_type": "code",
      "source": [
        "# Perform one-hot encoding on the categorical variables\n",
        "categorical_columns = ['เพศ','พื้นที่ทำแบบสอบถาม']\n",
        "df_encoded = pd.get_dummies(data, columns=categorical_columns)\n",
        "# Drop the 'No' column\n",
        "df_encoded = df_encoded.drop(columns='No')"
      ],
      "metadata": {
        "id": "XTyq4aZrrDIR"
      },
      "execution_count": null,
      "outputs": []
    },
    {
      "cell_type": "markdown",
      "source": [
        "#Spitt data"
      ],
      "metadata": {
        "id": "KFXVFuhfqj5E"
      }
    },
    {
      "cell_type": "code",
      "source": [
        "import sklearn\n",
        "from sklearn.model_selection import train_test_split"
      ],
      "metadata": {
        "id": "M6AoKV5UqzNY"
      },
      "execution_count": null,
      "outputs": []
    },
    {
      "cell_type": "code",
      "source": [
        "# Define the feature matrix X and the target y\n",
        "X = df_encoded.drop(columns='Thermal sensation Vote')\n",
        "y = df_encoded['Thermal sensation Vote']\n",
        "\n",
        "# Split the data into training and testing sets\n",
        "X_train, X_test, y_train, y_test = train_test_split(X, y, test_size=0.3, random_state=42)"
      ],
      "metadata": {
        "id": "1EGfntrgquHH"
      },
      "execution_count": null,
      "outputs": []
    },
    {
      "cell_type": "code",
      "execution_count": null,
      "metadata": {
        "colab": {
          "base_uri": "https://localhost:8080/"
        },
        "id": "wAvVfKPaBDoY",
        "outputId": "55bb6119-0596-4dd4-edf5-600caeaaf30f"
      },
      "outputs": [
        {
          "output_type": "stream",
          "name": "stdout",
          "text": [
            "(135, 31)\n",
            "(135,)\n"
          ]
        }
      ],
      "source": [
        "print(X_train.shape)\n",
        "print(y_train.shape)"
      ]
    },
    {
      "cell_type": "code",
      "execution_count": null,
      "metadata": {
        "colab": {
          "base_uri": "https://localhost:8080/"
        },
        "id": "gLoh2RYjM7t_",
        "outputId": "affbf771-db53-412b-e309-0b508de92d32"
      },
      "outputs": [
        {
          "output_type": "stream",
          "name": "stdout",
          "text": [
            "(58, 31)\n",
            "(58,)\n"
          ]
        }
      ],
      "source": [
        "print(X_test.shape)\n",
        "print(y_test.shape)"
      ]
    },
    {
      "cell_type": "code",
      "source": [],
      "metadata": {
        "id": "43RsTG5DrkBZ"
      },
      "execution_count": null,
      "outputs": []
    }
  ],
  "metadata": {
    "colab": {
      "provenance": [],
      "include_colab_link": true
    },
    "kernelspec": {
      "display_name": "Python 3",
      "name": "python3"
    },
    "language_info": {
      "name": "python"
    }
  },
  "nbformat": 4,
  "nbformat_minor": 0
}